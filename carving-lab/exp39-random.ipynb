{
 "cells": [
  {
   "cell_type": "markdown",
   "metadata": {},
   "source": [
    "# Exp 39\n",
    "\n",
    "### Single model to detect randomness"
   ]
  },
  {
   "cell_type": "code",
   "execution_count": 1,
   "metadata": {},
   "outputs": [
    {
     "name": "stderr",
     "output_type": "stream",
     "text": [
      "/home/atila.alr/.local/lib/python3.6/site-packages/tensorflow/python/framework/dtypes.py:516: FutureWarning: Passing (type, 1) or '1type' as a synonym of type is deprecated; in a future version of numpy, it will be understood as (type, (1,)) / '(1,)type'.\n",
      "  _np_qint8 = np.dtype([(\"qint8\", np.int8, 1)])\n",
      "/home/atila.alr/.local/lib/python3.6/site-packages/tensorflow/python/framework/dtypes.py:517: FutureWarning: Passing (type, 1) or '1type' as a synonym of type is deprecated; in a future version of numpy, it will be understood as (type, (1,)) / '(1,)type'.\n",
      "  _np_quint8 = np.dtype([(\"quint8\", np.uint8, 1)])\n",
      "/home/atila.alr/.local/lib/python3.6/site-packages/tensorflow/python/framework/dtypes.py:518: FutureWarning: Passing (type, 1) or '1type' as a synonym of type is deprecated; in a future version of numpy, it will be understood as (type, (1,)) / '(1,)type'.\n",
      "  _np_qint16 = np.dtype([(\"qint16\", np.int16, 1)])\n",
      "/home/atila.alr/.local/lib/python3.6/site-packages/tensorflow/python/framework/dtypes.py:519: FutureWarning: Passing (type, 1) or '1type' as a synonym of type is deprecated; in a future version of numpy, it will be understood as (type, (1,)) / '(1,)type'.\n",
      "  _np_quint16 = np.dtype([(\"quint16\", np.uint16, 1)])\n",
      "/home/atila.alr/.local/lib/python3.6/site-packages/tensorflow/python/framework/dtypes.py:520: FutureWarning: Passing (type, 1) or '1type' as a synonym of type is deprecated; in a future version of numpy, it will be understood as (type, (1,)) / '(1,)type'.\n",
      "  _np_qint32 = np.dtype([(\"qint32\", np.int32, 1)])\n",
      "/home/atila.alr/.local/lib/python3.6/site-packages/tensorflow/python/framework/dtypes.py:525: FutureWarning: Passing (type, 1) or '1type' as a synonym of type is deprecated; in a future version of numpy, it will be understood as (type, (1,)) / '(1,)type'.\n",
      "  np_resource = np.dtype([(\"resource\", np.ubyte, 1)])\n",
      "/home/atila.alr/.local/lib/python3.6/site-packages/tensorboard/compat/tensorflow_stub/dtypes.py:541: FutureWarning: Passing (type, 1) or '1type' as a synonym of type is deprecated; in a future version of numpy, it will be understood as (type, (1,)) / '(1,)type'.\n",
      "  _np_qint8 = np.dtype([(\"qint8\", np.int8, 1)])\n",
      "/home/atila.alr/.local/lib/python3.6/site-packages/tensorboard/compat/tensorflow_stub/dtypes.py:542: FutureWarning: Passing (type, 1) or '1type' as a synonym of type is deprecated; in a future version of numpy, it will be understood as (type, (1,)) / '(1,)type'.\n",
      "  _np_quint8 = np.dtype([(\"quint8\", np.uint8, 1)])\n",
      "/home/atila.alr/.local/lib/python3.6/site-packages/tensorboard/compat/tensorflow_stub/dtypes.py:543: FutureWarning: Passing (type, 1) or '1type' as a synonym of type is deprecated; in a future version of numpy, it will be understood as (type, (1,)) / '(1,)type'.\n",
      "  _np_qint16 = np.dtype([(\"qint16\", np.int16, 1)])\n",
      "/home/atila.alr/.local/lib/python3.6/site-packages/tensorboard/compat/tensorflow_stub/dtypes.py:544: FutureWarning: Passing (type, 1) or '1type' as a synonym of type is deprecated; in a future version of numpy, it will be understood as (type, (1,)) / '(1,)type'.\n",
      "  _np_quint16 = np.dtype([(\"quint16\", np.uint16, 1)])\n",
      "/home/atila.alr/.local/lib/python3.6/site-packages/tensorboard/compat/tensorflow_stub/dtypes.py:545: FutureWarning: Passing (type, 1) or '1type' as a synonym of type is deprecated; in a future version of numpy, it will be understood as (type, (1,)) / '(1,)type'.\n",
      "  _np_qint32 = np.dtype([(\"qint32\", np.int32, 1)])\n",
      "/home/atila.alr/.local/lib/python3.6/site-packages/tensorboard/compat/tensorflow_stub/dtypes.py:550: FutureWarning: Passing (type, 1) or '1type' as a synonym of type is deprecated; in a future version of numpy, it will be understood as (type, (1,)) / '(1,)type'.\n",
      "  np_resource = np.dtype([(\"resource\", np.ubyte, 1)])\n"
     ]
    }
   ],
   "source": [
    "import os\n",
    "import datetime\n",
    "import tensorflow\n",
    "import numpy as np\n",
    "import pandas as pd\n",
    "import matplotlib.pyplot as plt\n",
    "from collections import OrderedDict\n",
    "\n",
    "import models\n",
    "import report\n",
    "import block_sampler\n",
    "import batch_encoder\n",
    "from dataset import Dataset\n",
    "from report import Reporter\n",
    "from trainer import Trainer\n",
    "from batch_encoder import Dataset\n",
    "from block_sampler import count_sectors, BlockSamplerByCategory, RandomSampler\n",
    "from batch_encoder import xs_encoder_8bits_11, BatchEncoder\n",
    "from filter_random import gen_rndchk_models, evaluate_rnd_model, filter_dataset"
   ]
  },
  {
   "cell_type": "code",
   "execution_count": 11,
   "metadata": {},
   "outputs": [],
   "source": [
    "# raw_dataset_folder='/home/user/sample200'\n",
    "raw_dataset_folder='../datasets/govdocs1/sample200'\n",
    "random_dataset_folder='../datasets/random'\n",
    "minimum=200\n",
    "maximum=200\n",
    "result_dir = 'results/exp39'\n",
    "os.makedirs(result_dir, exist_ok=True)"
   ]
  },
  {
   "cell_type": "code",
   "execution_count": 3,
   "metadata": {},
   "outputs": [],
   "source": [
    "rawset = Dataset.new_from_folders(raw_dataset_folder).filter_min_max(minimum, maximum)\n",
    "rawset = rawset.filter(lambda x: rawset.category_from(x) not in ['text', 'unk'])\n",
    "rawset.rebuild_categories()\n",
    "rndset = Dataset.new_from_folders(random_dataset_folder) #.filter_min_max(minimum, maximum)"
   ]
  },
  {
   "cell_type": "code",
   "execution_count": 12,
   "metadata": {},
   "outputs": [],
   "source": [
    "import models\n",
    "from block_sampler import BlockSamplerByCategory\n",
    "from batch_encoder import BatchEncoder\n",
    "from collections import namedtuple\n",
    "import callbacks\n",
    "from tensorflow.keras.callbacks import EarlyStopping, LambdaCallback\n",
    "\n",
    "TrainResults = namedtuple(\n",
    "    'TrainResults', ['model', 'history', 'metrics', 'elapsed'])\n",
    "\n",
    "def adjustSamplingProbs(model, tset, xs_encoder, target_sampler):\n",
    "    datasets = tset.by_category()\n",
    "    encoders = {}\n",
    "    for cat in datasets:\n",
    "        tsampler = BlockSamplerByCategory(tset)\n",
    "        trsampler = RandomSampler(tsampler, ratio=0.0)\n",
    "        tbenc = BatchEncoder(trsampler, 100, xs_encoder=xs_encoder)\n",
    "        encoders[cat] = iter(tbenc)\n",
    "    def f(epoch, logs):\n",
    "        results = {}\n",
    "        for cat in encoders:\n",
    "            result = model.evaluate_generator(\n",
    "                encoders[cat],\n",
    "                steps=1\n",
    "            )\n",
    "            results[cat] = result[-1]\n",
    "        cat_prob = {}\n",
    "        for cat, x in results.items():\n",
    "            cat_prob[cat] = 1 + int((1-x)*100)\n",
    "        print(cat_prob)\n",
    "        target_sampler.category_prob = cat_prob\n",
    "    return f\n",
    "    \n",
    "\n",
    "class RandomTrainer:\n",
    "    def __init__(self,\n",
    "                 model,\n",
    "                 xs_encoder='8bits_11',\n",
    "                 validation_steps=20,\n",
    "                 steps_per_epoch=10,\n",
    "                 epochs=10000000,\n",
    "                 max_seconds=10*60,\n",
    "                 batch_size=400,\n",
    "                 min_delta=1e-03,\n",
    "                 patience=4):\n",
    "        self.model = model\n",
    "        self.xs_encoder = xs_encoder\n",
    "        self.validation_steps = validation_steps\n",
    "        self.steps_per_epoch = steps_per_epoch\n",
    "        self.epochs = epochs\n",
    "        self.max_seconds = max_seconds\n",
    "        self.batch_size = batch_size\n",
    "        self.min_delta = min_delta\n",
    "        self.patience = patience\n",
    "\n",
    "    def train(self, tset, vset):\n",
    "        tsampler = BlockSamplerByCategory(tset)\n",
    "        trsampler = RandomSampler(tsampler)\n",
    "        tbenc = BatchEncoder(trsampler, self.batch_size,\n",
    "                             xs_encoder=self.xs_encoder)\n",
    "\n",
    "        vsampler = BlockSamplerByCategory(vset)\n",
    "        vrsampler = RandomSampler(tsampler)\n",
    "        vbenc = BatchEncoder(vrsampler, self.batch_size,\n",
    "                             xs_encoder=self.xs_encoder)\n",
    "\n",
    "        model = self.model\n",
    "\n",
    "        timeIt = callbacks.TimeIt()\n",
    "\n",
    "        history = model.fit_generator(iter(tbenc),\n",
    "                                      validation_data=iter(vbenc),\n",
    "                                      validation_steps=self.validation_steps,\n",
    "                                      steps_per_epoch=self.steps_per_epoch,\n",
    "                                      epochs=self.epochs,\n",
    "                                      verbose=1,\n",
    "                                      callbacks=[\n",
    "            LambdaCallback(on_epoch_end=adjustSamplingProbs(model, tset,\n",
    "                                                            self.xs_encoder, trsampler)),\n",
    "            timeIt,\n",
    "            # callbacks.SaveModel(os.path.join(result_dir, model.name + '.h5')),\n",
    "            callbacks.TimeLimit(self.max_seconds),\n",
    "            EarlyStopping(monitor='val_categorical_accuracy',\n",
    "                          min_delta=self.min_delta, patience=self.patience),\n",
    "            # TensorBoard(\n",
    "            #     log_dir=os.path.join(log_dir, model.name),\n",
    "            #     # update_freq=3100,\n",
    "            # ),\n",
    "        ],\n",
    "            use_multiprocessing=False,\n",
    "            workers=0,\n",
    "        )\n",
    "        return TrainResults(\n",
    "            model=model,\n",
    "            history=history,\n",
    "            metrics=['val_binary_accuracy', 'val_categorical_accuracy'],\n",
    "            elapsed=timeIt.elapsed,\n",
    "        )"
   ]
  },
  {
   "cell_type": "code",
   "execution_count": 13,
   "metadata": {},
   "outputs": [],
   "source": [
    "model = models.C64_16_2pr_C32_4_2pr_C64_32_2pr_F_D(\n",
    "        2, 8, 'softmax', 'categorical_crossentropy')"
   ]
  },
  {
   "cell_type": "code",
   "execution_count": 14,
   "metadata": {},
   "outputs": [],
   "source": [
    "rt = RandomTrainer(model)"
   ]
  },
  {
   "cell_type": "code",
   "execution_count": 15,
   "metadata": {},
   "outputs": [
    {
     "name": "stdout",
     "output_type": "stream",
     "text": [
      "Epoch 1/10000000\n",
      " 9/10 [==========================>...] - ETA: 0s - loss: 0.5120 - categorical_accuracy: 0.7333 - binary_accuracy: 0.7333{'java': 32, 'hlp': 32, 'png': 31, 'html': 38, 'gif': 43, 'kml': 36, 'sql': 33, 'xls': 18, 'ps': 32, 'eps': 38, 'wp': 36, 'gz': 32, 'dwf': 33, 'ppt': 31, 'pptx': 32, 'kmz': 32, 'rtf': 32, 'csv': 38, 'dbase3': 39, 'pps': 37, 'xml': 42, 'f': 26, 'pdf': 33, 'txt': 27, 'doc': 38, 'swf': 26, 'log': 24, 'jpg': 26}\n",
      "10/10 [==============================] - 9s 914ms/step - loss: 0.5066 - categorical_accuracy: 0.7390 - binary_accuracy: 0.7390 - val_loss: 0.3863 - val_categorical_accuracy: 0.8360 - val_binary_accuracy: 0.8360\n",
      "Epoch 2/10000000\n",
      " 9/10 [==========================>...] - ETA: 0s - loss: 0.3908 - categorical_accuracy: 0.8353 - binary_accuracy: 0.8353{'java': 44, 'hlp': 27, 'png': 40, 'html': 33, 'gif': 39, 'kml': 37, 'sql': 34, 'xls': 28, 'ps': 31, 'eps': 31, 'wp': 34, 'gz': 34, 'dwf': 31, 'ppt': 38, 'pptx': 28, 'kmz': 31, 'rtf': 31, 'csv': 40, 'dbase3': 31, 'pps': 31, 'xml': 49, 'f': 32, 'pdf': 30, 'txt': 38, 'doc': 36, 'swf': 37, 'log': 36, 'jpg': 37}\n",
      "10/10 [==============================] - 8s 781ms/step - loss: 0.3896 - categorical_accuracy: 0.8338 - binary_accuracy: 0.8338 - val_loss: 0.3701 - val_categorical_accuracy: 0.8369 - val_binary_accuracy: 0.8369\n",
      "Epoch 3/10000000\n",
      " 9/10 [==========================>...] - ETA: 0s - loss: 0.3756 - categorical_accuracy: 0.8344 - binary_accuracy: 0.8344{'java': 32, 'hlp': 26, 'png': 27, 'html': 27, 'gif': 33, 'kml': 33, 'sql': 28, 'xls': 21, 'ps': 30, 'eps': 32, 'wp': 28, 'gz': 31, 'dwf': 27, 'ppt': 33, 'pptx': 21, 'kmz': 37, 'rtf': 32, 'csv': 34, 'dbase3': 37, 'pps': 33, 'xml': 24, 'f': 27, 'pdf': 39, 'txt': 27, 'doc': 26, 'swf': 27, 'log': 31, 'jpg': 32}\n",
      "10/10 [==============================] - 8s 773ms/step - loss: 0.3704 - categorical_accuracy: 0.8378 - binary_accuracy: 0.8378 - val_loss: 0.3534 - val_categorical_accuracy: 0.8474 - val_binary_accuracy: 0.8474\n",
      "Epoch 4/10000000\n",
      " 9/10 [==========================>...] - ETA: 0s - loss: 0.3277 - categorical_accuracy: 0.8636 - binary_accuracy: 0.8636{'java': 28, 'hlp': 34, 'png': 32, 'html': 39, 'gif': 26, 'kml': 17, 'sql': 20, 'xls': 26, 'ps': 26, 'eps': 34, 'wp': 26, 'gz': 19, 'dwf': 24, 'ppt': 28, 'pptx': 34, 'kmz': 27, 'rtf': 32, 'csv': 30, 'dbase3': 26, 'pps': 24, 'xml': 24, 'f': 23, 'pdf': 28, 'txt': 32, 'doc': 23, 'swf': 21, 'log': 19, 'jpg': 19}\n",
      "10/10 [==============================] - 8s 776ms/step - loss: 0.3279 - categorical_accuracy: 0.8625 - binary_accuracy: 0.8625 - val_loss: 0.3074 - val_categorical_accuracy: 0.8754 - val_binary_accuracy: 0.8754\n",
      "Epoch 5/10000000\n",
      " 9/10 [==========================>...] - ETA: 0s - loss: 0.2994 - categorical_accuracy: 0.8778 - binary_accuracy: 0.8778{'java': 19, 'hlp': 25, 'png': 25, 'html': 19, 'gif': 13, 'kml': 27, 'sql': 24, 'xls': 24, 'ps': 25, 'eps': 23, 'wp': 20, 'gz': 15, 'dwf': 24, 'ppt': 21, 'pptx': 18, 'kmz': 23, 'rtf': 21, 'csv': 23, 'dbase3': 23, 'pps': 14, 'xml': 20, 'f': 17, 'pdf': 23, 'txt': 23, 'doc': 20, 'swf': 21, 'log': 23, 'jpg': 20}\n",
      "10/10 [==============================] - 8s 769ms/step - loss: 0.3014 - categorical_accuracy: 0.8765 - binary_accuracy: 0.8765 - val_loss: 0.2745 - val_categorical_accuracy: 0.8953 - val_binary_accuracy: 0.8953\n",
      "Epoch 6/10000000\n",
      " 9/10 [==========================>...] - ETA: 0s - loss: 0.2815 - categorical_accuracy: 0.8928 - binary_accuracy: 0.8928{'java': 18, 'hlp': 17, 'png': 13, 'html': 21, 'gif': 11, 'kml': 17, 'sql': 26, 'xls': 20, 'ps': 13, 'eps': 18, 'wp': 21, 'gz': 19, 'dwf': 15, 'ppt': 20, 'pptx': 14, 'kmz': 17, 'rtf': 20, 'csv': 19, 'dbase3': 11, 'pps': 13, 'xml': 21, 'f': 14, 'pdf': 19, 'txt': 19, 'doc': 21, 'swf': 21, 'log': 17, 'jpg': 13}\n",
      "10/10 [==============================] - 8s 768ms/step - loss: 0.2839 - categorical_accuracy: 0.8905 - binary_accuracy: 0.8905 - val_loss: 0.2701 - val_categorical_accuracy: 0.8984 - val_binary_accuracy: 0.8984\n",
      "Epoch 7/10000000\n",
      " 9/10 [==========================>...] - ETA: 0s - loss: 0.2849 - categorical_accuracy: 0.8903 - binary_accuracy: 0.8903{'java': 25, 'hlp': 19, 'png': 14, 'html': 20, 'gif': 25, 'kml': 23, 'sql': 18, 'xls': 19, 'ps': 19, 'eps': 25, 'wp': 19, 'gz': 24, 'dwf': 18, 'ppt': 13, 'pptx': 26, 'kmz': 27, 'rtf': 14, 'csv': 19, 'dbase3': 12, 'pps': 23, 'xml': 21, 'f': 19, 'pdf': 20, 'txt': 17, 'doc': 25, 'swf': 17, 'log': 17, 'jpg': 21}\n",
      "10/10 [==============================] - 8s 762ms/step - loss: 0.2837 - categorical_accuracy: 0.8905 - binary_accuracy: 0.8905 - val_loss: 0.2731 - val_categorical_accuracy: 0.8930 - val_binary_accuracy: 0.8930\n",
      "Epoch 8/10000000\n",
      " 9/10 [==========================>...] - ETA: 0s - loss: 0.2504 - categorical_accuracy: 0.9064 - binary_accuracy: 0.9064{'java': 15, 'hlp': 20, 'png': 19, 'html': 21, 'gif': 11, 'kml': 9, 'sql': 15, 'xls': 17, 'ps': 15, 'eps': 19, 'wp': 18, 'gz': 9, 'dwf': 14, 'ppt': 15, 'pptx': 12, 'kmz': 18, 'rtf': 17, 'csv': 15, 'dbase3': 17, 'pps': 18, 'xml': 18, 'f': 20, 'pdf': 9, 'txt': 19, 'doc': 17, 'swf': 20, 'log': 17, 'jpg': 15}\n",
      "10/10 [==============================] - 8s 771ms/step - loss: 0.2505 - categorical_accuracy: 0.9072 - binary_accuracy: 0.9072 - val_loss: 0.2447 - val_categorical_accuracy: 0.9069 - val_binary_accuracy: 0.9069\n",
      "Epoch 9/10000000\n",
      " 9/10 [==========================>...] - ETA: 0s - loss: 0.2517 - categorical_accuracy: 0.9089 - binary_accuracy: 0.9089{'java': 13, 'hlp': 25, 'png': 14, 'html': 9, 'gif': 7, 'kml': 8, 'sql': 17, 'xls': 9, 'ps': 17, 'eps': 13, 'wp': 18, 'gz': 11, 'dwf': 17, 'ppt': 13, 'pptx': 12, 'kmz': 13, 'rtf': 14, 'csv': 13, 'dbase3': 15, 'pps': 13, 'xml': 17, 'f': 13, 'pdf': 15, 'txt': 13, 'doc': 17, 'swf': 20, 'log': 14, 'jpg': 13}\n",
      "10/10 [==============================] - 8s 779ms/step - loss: 0.2522 - categorical_accuracy: 0.9090 - binary_accuracy: 0.9090 - val_loss: 0.2508 - val_categorical_accuracy: 0.9046 - val_binary_accuracy: 0.9046\n",
      "Epoch 10/10000000\n",
      " 9/10 [==========================>...] - ETA: 0s - loss: 0.2357 - categorical_accuracy: 0.9144 - binary_accuracy: 0.9144{'java': 19, 'hlp': 19, 'png': 20, 'html': 14, 'gif': 25, 'kml': 14, 'sql': 18, 'xls': 24, 'ps': 17, 'eps': 17, 'wp': 13, 'gz': 15, 'dwf': 14, 'ppt': 20, 'pptx': 20, 'kmz': 19, 'rtf': 18, 'csv': 13, 'dbase3': 19, 'pps': 12, 'xml': 26, 'f': 19, 'pdf': 19, 'txt': 18, 'doc': 17, 'swf': 14, 'log': 24, 'jpg': 23}\n",
      "10/10 [==============================] - 8s 777ms/step - loss: 0.2396 - categorical_accuracy: 0.9120 - binary_accuracy: 0.9120 - val_loss: 0.2447 - val_categorical_accuracy: 0.9053 - val_binary_accuracy: 0.9053\n",
      "Epoch 11/10000000\n",
      " 9/10 [==========================>...] - ETA: 0s - loss: 0.2400 - categorical_accuracy: 0.9108 - binary_accuracy: 0.9108{'java': 18, 'hlp': 19, 'png': 18, 'html': 17, 'gif': 18, 'kml': 19, 'sql': 12, 'xls': 11, 'ps': 14, 'eps': 19, 'wp': 19, 'gz': 13, 'dwf': 11, 'ppt': 18, 'pptx': 15, 'kmz': 13, 'rtf': 13, 'csv': 13, 'dbase3': 17, 'pps': 21, 'xml': 9, 'f': 11, 'pdf': 19, 'txt': 13, 'doc': 13, 'swf': 19, 'log': 8, 'jpg': 9}\n",
      "10/10 [==============================] - 8s 770ms/step - loss: 0.2342 - categorical_accuracy: 0.9143 - binary_accuracy: 0.9143 - val_loss: 0.2401 - val_categorical_accuracy: 0.9096 - val_binary_accuracy: 0.9096\n",
      "Epoch 12/10000000\n",
      " 9/10 [==========================>...] - ETA: 0s - loss: 0.2592 - categorical_accuracy: 0.9050 - binary_accuracy: 0.9050{'java': 13, 'hlp': 13, 'png': 19, 'html': 19, 'gif': 13, 'kml': 13, 'sql': 17, 'xls': 25, 'ps': 12, 'eps': 9, 'wp': 14, 'gz': 9, 'dwf': 21, 'ppt': 19, 'pptx': 13, 'kmz': 19, 'rtf': 17, 'csv': 9, 'dbase3': 13, 'pps': 15, 'xml': 14, 'f': 19, 'pdf': 20, 'txt': 13, 'doc': 19, 'swf': 11, 'log': 12, 'jpg': 12}\n",
      "10/10 [==============================] - 8s 762ms/step - loss: 0.2584 - categorical_accuracy: 0.9045 - binary_accuracy: 0.9045 - val_loss: 0.2421 - val_categorical_accuracy: 0.9089 - val_binary_accuracy: 0.9089\n",
      "Epoch 13/10000000\n",
      " 9/10 [==========================>...] - ETA: 0s - loss: 0.2333 - categorical_accuracy: 0.9142 - binary_accuracy: 0.9142{'java': 21, 'hlp': 9, 'png': 18, 'html': 15, 'gif': 13, 'kml': 18, 'sql': 15, 'xls': 12, 'ps': 19, 'eps': 15, 'wp': 24, 'gz': 19, 'dwf': 15, 'ppt': 19, 'pptx': 13, 'kmz': 13, 'rtf': 12, 'csv': 13, 'dbase3': 13, 'pps': 12, 'xml': 23, 'f': 13, 'pdf': 20, 'txt': 18, 'doc': 17, 'swf': 11, 'log': 17, 'jpg': 19}\n",
      "10/10 [==============================] - 8s 774ms/step - loss: 0.2363 - categorical_accuracy: 0.9135 - binary_accuracy: 0.9135 - val_loss: 0.2366 - val_categorical_accuracy: 0.9101 - val_binary_accuracy: 0.9101\n"
     ]
    },
    {
     "name": "stdout",
     "output_type": "stream",
     "text": [
      "Epoch 14/10000000\n",
      " 9/10 [==========================>...] - ETA: 0s - loss: 0.2416 - categorical_accuracy: 0.9097 - binary_accuracy: 0.9097{'java': 19, 'hlp': 17, 'png': 13, 'html': 11, 'gif': 19, 'kml': 18, 'sql': 15, 'xls': 25, 'ps': 28, 'eps': 19, 'wp': 17, 'gz': 15, 'dwf': 21, 'ppt': 18, 'pptx': 21, 'kmz': 21, 'rtf': 17, 'csv': 19, 'dbase3': 15, 'pps': 17, 'xml': 18, 'f': 21, 'pdf': 25, 'txt': 17, 'doc': 14, 'swf': 17, 'log': 13, 'jpg': 13}\n",
      "10/10 [==============================] - 8s 778ms/step - loss: 0.2392 - categorical_accuracy: 0.9110 - binary_accuracy: 0.9110 - val_loss: 0.2340 - val_categorical_accuracy: 0.9129 - val_binary_accuracy: 0.9129\n",
      "Epoch 15/10000000\n",
      " 9/10 [==========================>...] - ETA: 0s - loss: 0.2431 - categorical_accuracy: 0.9106 - binary_accuracy: 0.9106{'java': 15, 'hlp': 11, 'png': 19, 'html': 7, 'gif': 19, 'kml': 19, 'sql': 15, 'xls': 17, 'ps': 15, 'eps': 12, 'wp': 17, 'gz': 17, 'dwf': 18, 'ppt': 9, 'pptx': 15, 'kmz': 19, 'rtf': 13, 'csv': 13, 'dbase3': 14, 'pps': 12, 'xml': 13, 'f': 15, 'pdf': 12, 'txt': 17, 'doc': 17, 'swf': 11, 'log': 13, 'jpg': 14}\n",
      "10/10 [==============================] - 8s 785ms/step - loss: 0.2417 - categorical_accuracy: 0.9107 - binary_accuracy: 0.9107 - val_loss: 0.2398 - val_categorical_accuracy: 0.9091 - val_binary_accuracy: 0.9091\n",
      "Epoch 16/10000000\n",
      " 9/10 [==========================>...] - ETA: 0s - loss: 0.2198 - categorical_accuracy: 0.9222 - binary_accuracy: 0.9222{'java': 14, 'hlp': 12, 'png': 19, 'html': 13, 'gif': 26, 'kml': 15, 'sql': 14, 'xls': 11, 'ps': 11, 'eps': 17, 'wp': 20, 'gz': 24, 'dwf': 12, 'ppt': 19, 'pptx': 11, 'kmz': 13, 'rtf': 12, 'csv': 18, 'dbase3': 17, 'pps': 7, 'xml': 19, 'f': 7, 'pdf': 19, 'txt': 13, 'doc': 13, 'swf': 17, 'log': 15, 'jpg': 13}\n",
      "10/10 [==============================] - 8s 767ms/step - loss: 0.2169 - categorical_accuracy: 0.9233 - binary_accuracy: 0.9233 - val_loss: 0.2302 - val_categorical_accuracy: 0.9139 - val_binary_accuracy: 0.9139\n",
      "Epoch 17/10000000\n",
      " 9/10 [==========================>...] - ETA: 0s - loss: 0.2412 - categorical_accuracy: 0.9081 - binary_accuracy: 0.9081{'java': 12, 'hlp': 17, 'png': 15, 'html': 17, 'gif': 15, 'kml': 18, 'sql': 7, 'xls': 13, 'ps': 13, 'eps': 13, 'wp': 19, 'gz': 11, 'dwf': 18, 'ppt': 17, 'pptx': 19, 'kmz': 17, 'rtf': 15, 'csv': 13, 'dbase3': 13, 'pps': 21, 'xml': 19, 'f': 19, 'pdf': 18, 'txt': 9, 'doc': 14, 'swf': 13, 'log': 14, 'jpg': 24}\n",
      "10/10 [==============================] - 8s 759ms/step - loss: 0.2417 - categorical_accuracy: 0.9075 - binary_accuracy: 0.9075 - val_loss: 0.2241 - val_categorical_accuracy: 0.9153 - val_binary_accuracy: 0.9153\n",
      "Epoch 18/10000000\n",
      " 9/10 [==========================>...] - ETA: 0s - loss: 0.2324 - categorical_accuracy: 0.9156 - binary_accuracy: 0.9156{'java': 23, 'hlp': 13, 'png': 15, 'html': 23, 'gif': 13, 'kml': 15, 'sql': 19, 'xls': 18, 'ps': 11, 'eps': 18, 'wp': 14, 'gz': 23, 'dwf': 20, 'ppt': 13, 'pptx': 15, 'kmz': 23, 'rtf': 18, 'csv': 18, 'dbase3': 9, 'pps': 20, 'xml': 21, 'f': 18, 'pdf': 9, 'txt': 21, 'doc': 15, 'swf': 18, 'log': 15, 'jpg': 13}\n",
      "10/10 [==============================] - 8s 774ms/step - loss: 0.2302 - categorical_accuracy: 0.9168 - binary_accuracy: 0.9168 - val_loss: 0.2369 - val_categorical_accuracy: 0.9109 - val_binary_accuracy: 0.9109\n",
      "Epoch 19/10000000\n",
      " 9/10 [==========================>...] - ETA: 0s - loss: 0.2329 - categorical_accuracy: 0.9114 - binary_accuracy: 0.9114{'java': 21, 'hlp': 17, 'png': 20, 'html': 17, 'gif': 11, 'kml': 11, 'sql': 13, 'xls': 11, 'ps': 18, 'eps': 18, 'wp': 11, 'gz': 13, 'dwf': 14, 'ppt': 17, 'pptx': 12, 'kmz': 9, 'rtf': 15, 'csv': 17, 'dbase3': 14, 'pps': 13, 'xml': 13, 'f': 12, 'pdf': 19, 'txt': 14, 'doc': 13, 'swf': 13, 'log': 19, 'jpg': 13}\n",
      "10/10 [==============================] - 8s 773ms/step - loss: 0.2361 - categorical_accuracy: 0.9090 - binary_accuracy: 0.9090 - val_loss: 0.2308 - val_categorical_accuracy: 0.9146 - val_binary_accuracy: 0.9146\n",
      "Epoch 20/10000000\n",
      " 9/10 [==========================>...] - ETA: 0s - loss: 0.2611 - categorical_accuracy: 0.9011 - binary_accuracy: 0.9011{'java': 20, 'hlp': 17, 'png': 15, 'html': 12, 'gif': 14, 'kml': 17, 'sql': 14, 'xls': 15, 'ps': 15, 'eps': 17, 'wp': 13, 'gz': 12, 'dwf': 8, 'ppt': 17, 'pptx': 13, 'kmz': 11, 'rtf': 12, 'csv': 11, 'dbase3': 18, 'pps': 18, 'xml': 13, 'f': 18, 'pdf': 20, 'txt': 21, 'doc': 20, 'swf': 19, 'log': 14, 'jpg': 18}\n",
      "10/10 [==============================] - 8s 756ms/step - loss: 0.2616 - categorical_accuracy: 0.8995 - binary_accuracy: 0.8995 - val_loss: 0.2442 - val_categorical_accuracy: 0.9076 - val_binary_accuracy: 0.9076\n",
      "Epoch 21/10000000\n",
      " 9/10 [==========================>...] - ETA: 0s - loss: 0.2430 - categorical_accuracy: 0.9056 - binary_accuracy: 0.9056{'java': 18, 'hlp': 18, 'png': 20, 'html': 21, 'gif': 19, 'kml': 13, 'sql': 13, 'xls': 24, 'ps': 26, 'eps': 17, 'wp': 18, 'gz': 18, 'dwf': 23, 'ppt': 26, 'pptx': 20, 'kmz': 15, 'rtf': 24, 'csv': 20, 'dbase3': 11, 'pps': 17, 'xml': 18, 'f': 18, 'pdf': 13, 'txt': 21, 'doc': 11, 'swf': 17, 'log': 19, 'jpg': 13}\n",
      "10/10 [==============================] - 8s 768ms/step - loss: 0.2431 - categorical_accuracy: 0.9050 - binary_accuracy: 0.9050 - val_loss: 0.2398 - val_categorical_accuracy: 0.9065 - val_binary_accuracy: 0.9065\n"
     ]
    }
   ],
   "source": [
    "result = rt.train(*rawset.rnd_split_fraction_by_category(0.5))"
   ]
  },
  {
   "cell_type": "code",
   "execution_count": 16,
   "metadata": {},
   "outputs": [
    {
     "data": {
      "text/plain": [
       "[<matplotlib.lines.Line2D at 0x7fd3042d0d30>]"
      ]
     },
     "execution_count": 16,
     "metadata": {},
     "output_type": "execute_result"
    },
    {
     "data": {
      "image/png": "[encoded data removed]",
      "text/plain": [
       "<Figure size 432x288 with 1 Axes>"
      ]
     },
     "metadata": {},
     "output_type": "display_data"
    }
   ],
   "source": [
    "plt.plot(result.history.history['val_categorical_accuracy'], 'o')"
   ]
  },
  {
   "cell_type": "code",
   "execution_count": 17,
   "metadata": {},
   "outputs": [
    {
     "data": {
      "text/plain": [
       "TrainResults(model=<tensorflow.python.keras.engine.training.Model object at 0x7fd3040c6f60>, history=<tensorflow.python.keras.callbacks.History object at 0x7fd2dc74c898>, metrics=['val_binary_accuracy', 'val_categorical_accuracy'], elapsed=163.61029839515686)"
      ]
     },
     "execution_count": 17,
     "metadata": {},
     "output_type": "execute_result"
    }
   ],
   "source": [
    "result"
   ]
  },
  {
   "cell_type": "code",
   "execution_count": 18,
   "metadata": {},
   "outputs": [],
   "source": [
    "result.model.save(result_dir + '/randomchk.h5')\n",
    "\n",
    "r = report.Reporter2(result_dir + '/randomchk.tsv')\n",
    "r.line(name=result.model.name,\n",
    "       elapsed=result.elapsed,\n",
    "       **report.report_epochs(**result._asdict()),\n",
    "       **report.report_metrics(result.history, result.metrics),\n",
    "      )\n",
    "r.close()"
   ]
  },
  {
   "cell_type": "code",
   "execution_count": 21,
   "metadata": {},
   "outputs": [
    {
     "data": {
      "text/html": [
       "<div>\n",
       "<style scoped>\n",
       "    .dataframe tbody tr th:only-of-type {\n",
       "        vertical-align: middle;\n",
       "    }\n",
       "\n",
       "    .dataframe tbody tr th {\n",
       "        vertical-align: top;\n",
       "    }\n",
       "\n",
       "    .dataframe thead th {\n",
       "        text-align: right;\n",
       "    }\n",
       "</style>\n",
       "<table border=\"1\" class=\"dataframe\">\n",
       "  <thead>\n",
       "    <tr style=\"text-align: right;\">\n",
       "      <th></th>\n",
       "      <th>name</th>\n",
       "      <th>elapsed</th>\n",
       "      <th>Epochs</th>\n",
       "      <th>val_binary_accuracy</th>\n",
       "      <th>val_categorical_accuracy</th>\n",
       "    </tr>\n",
       "  </thead>\n",
       "  <tbody>\n",
       "    <tr>\n",
       "      <td>0</td>\n",
       "      <td>C64_16_2pr_C32_4_2pr_C64_32_2pr_F_D2_cat</td>\n",
       "      <td>163.610298</td>\n",
       "      <td>21</td>\n",
       "      <td>0.9065</td>\n",
       "      <td>0.9065</td>\n",
       "    </tr>\n",
       "  </tbody>\n",
       "</table>\n",
       "</div>"
      ],
      "text/plain": [
       "                                       name     elapsed  Epochs  \\\n",
       "0  C64_16_2pr_C32_4_2pr_C64_32_2pr_F_D2_cat  163.610298      21   \n",
       "\n",
       "   val_binary_accuracy  val_categorical_accuracy  \n",
       "0               0.9065                    0.9065  "
      ]
     },
     "execution_count": 21,
     "metadata": {},
     "output_type": "execute_result"
    }
   ],
   "source": [
    "pd.read_csv(result_dir + '/randomchk.tsv', sep='\\t')"
   ]
  },
  {
   "cell_type": "markdown",
   "metadata": {},
   "source": [
    "# binary classifier\n",
    "\n"
   ]
  },
  {
   "cell_type": "code",
   "execution_count": 27,
   "metadata": {},
   "outputs": [
    {
     "name": "stdout",
     "output_type": "stream",
     "text": [
      "Epoch 1/10000000\n",
      " 9/10 [==========================>...] - ETA: 0s - loss: 0.5715 - categorical_accuracy: 0.7083 - binary_accuracy: 0.7101{'java': 23, 'png': 24, 'html': 31, 'dwf': 23, 'rtf': 21, 'sql': 24, 'kml': 26, 'ps': 27, 'eps': 31, 'wp': 27, 'ppt': 24, 'txt': 23, 'gif': 24, 'xls': 26, 'kmz': 31, 'csv': 23, 'pptx': 26, 'xml': 24, 'f': 31, 'dbase3': 27, 'doc': 32, 'pps': 33, 'swf': 16, 'pdf': 28, 'log': 23, 'hlp': 33, 'jpg': 21, 'gz': 21}\n",
      "10/10 [==============================] - 9s 934ms/step - loss: 0.5604 - categorical_accuracy: 0.7197 - binary_accuracy: 0.7210 - val_loss: 0.4138 - val_categorical_accuracy: 0.8425 - val_binary_accuracy: 0.8386\n",
      "Epoch 2/10000000\n",
      " 9/10 [==========================>...] - ETA: 0s - loss: 0.3903 - categorical_accuracy: 0.8450 - binary_accuracy: 0.8453{'java': 21, 'png': 29, 'html': 26, 'dwf': 29, 'rtf': 32, 'sql': 33, 'kml': 25, 'ps': 31, 'eps': 30, 'wp': 25, 'ppt': 32, 'txt': 30, 'gif': 27, 'xls': 27, 'kmz': 30, 'csv': 31, 'pptx': 30, 'xml': 27, 'f': 26, 'dbase3': 26, 'doc': 24, 'pps': 28, 'swf': 33, 'pdf': 32, 'log': 31, 'hlp': 32, 'jpg': 28, 'gz': 30}\n",
      "10/10 [==============================] - 8s 777ms/step - loss: 0.3875 - categorical_accuracy: 0.8460 - binary_accuracy: 0.8462 - val_loss: 0.3625 - val_categorical_accuracy: 0.8506 - val_binary_accuracy: 0.8514\n",
      "Epoch 3/10000000\n",
      " 9/10 [==========================>...] - ETA: 0s - loss: 0.3628 - categorical_accuracy: 0.8486 - binary_accuracy: 0.8474{'java': 32, 'png': 31, 'html': 21, 'dwf': 33, 'rtf': 25, 'sql': 31, 'kml': 27, 'ps': 33, 'eps': 36, 'wp': 26, 'ppt': 33, 'txt': 27, 'gif': 38, 'xls': 27, 'kmz': 28, 'csv': 34, 'pptx': 23, 'xml': 28, 'f': 30, 'dbase3': 32, 'doc': 36, 'pps': 24, 'swf': 32, 'pdf': 30, 'log': 30, 'hlp': 38, 'jpg': 25, 'gz': 31}\n",
      "10/10 [==============================] - 8s 780ms/step - loss: 0.3580 - categorical_accuracy: 0.8512 - binary_accuracy: 0.8501 - val_loss: 0.3526 - val_categorical_accuracy: 0.8478 - val_binary_accuracy: 0.8476\n",
      "Epoch 4/10000000\n",
      " 9/10 [==========================>...] - ETA: 0s - loss: 0.3408 - categorical_accuracy: 0.8569 - binary_accuracy: 0.8560{'java': 30, 'png': 26, 'html': 21, 'dwf': 27, 'rtf': 21, 'sql': 23, 'kml': 29, 'ps': 21, 'eps': 32, 'wp': 25, 'ppt': 30, 'txt': 26, 'gif': 30, 'xls': 26, 'kmz': 32, 'csv': 28, 'pptx': 31, 'xml': 26, 'f': 24, 'dbase3': 34, 'doc': 28, 'pps': 36, 'swf': 37, 'pdf': 25, 'log': 25, 'hlp': 30, 'jpg': 28, 'gz': 25}\n",
      "10/10 [==============================] - 8s 777ms/step - loss: 0.3399 - categorical_accuracy: 0.8580 - binary_accuracy: 0.8571 - val_loss: 0.3359 - val_categorical_accuracy: 0.8572 - val_binary_accuracy: 0.8575\n",
      "Epoch 5/10000000\n",
      " 9/10 [==========================>...] - ETA: 0s - loss: 0.3287 - categorical_accuracy: 0.8664 - binary_accuracy: 0.8662{'java': 29, 'png': 27, 'html': 26, 'dwf': 24, 'rtf': 27, 'sql': 19, 'kml': 28, 'ps': 25, 'eps': 30, 'wp': 28, 'ppt': 24, 'txt': 26, 'gif': 31, 'xls': 24, 'kmz': 28, 'csv': 20, 'pptx': 25, 'xml': 26, 'f': 33, 'dbase3': 33, 'doc': 25, 'pps': 25, 'swf': 32, 'pdf': 27, 'log': 19, 'hlp': 21, 'jpg': 31, 'gz': 23}\n",
      "10/10 [==============================] - 8s 761ms/step - loss: 0.3269 - categorical_accuracy: 0.8662 - binary_accuracy: 0.8661 - val_loss: 0.3203 - val_categorical_accuracy: 0.8654 - val_binary_accuracy: 0.8655\n",
      "Epoch 6/10000000\n",
      " 9/10 [==========================>...] - ETA: 0s - loss: 0.3038 - categorical_accuracy: 0.8731 - binary_accuracy: 0.8733{'java': 20, 'png': 24, 'html': 24, 'dwf': 25, 'rtf': 18, 'sql': 31, 'kml': 25, 'ps': 24, 'eps': 25, 'wp': 25, 'ppt': 32, 'txt': 25, 'gif': 21, 'xls': 26, 'kmz': 27, 'csv': 28, 'pptx': 25, 'xml': 31, 'f': 21, 'dbase3': 20, 'doc': 33, 'pps': 27, 'swf': 20, 'pdf': 21, 'log': 16, 'hlp': 27, 'jpg': 20, 'gz': 26}\n",
      "10/10 [==============================] - 8s 780ms/step - loss: 0.3080 - categorical_accuracy: 0.8708 - binary_accuracy: 0.8709 - val_loss: 0.2946 - val_categorical_accuracy: 0.8777 - val_binary_accuracy: 0.8775\n",
      "Epoch 7/10000000\n",
      " 9/10 [==========================>...] - ETA: 0s - loss: 0.2774 - categorical_accuracy: 0.8886 - binary_accuracy: 0.8883{'java': 17, 'png': 26, 'html': 24, 'dwf': 28, 'rtf': 27, 'sql': 23, 'kml': 11, 'ps': 33, 'eps': 20, 'wp': 21, 'ppt': 26, 'txt': 32, 'gif': 27, 'xls': 25, 'kmz': 19, 'csv': 28, 'pptx': 23, 'xml': 24, 'f': 31, 'dbase3': 21, 'doc': 19, 'pps': 26, 'swf': 20, 'pdf': 24, 'log': 20, 'hlp': 20, 'jpg': 27, 'gz': 23}\n",
      "10/10 [==============================] - 8s 769ms/step - loss: 0.2768 - categorical_accuracy: 0.8890 - binary_accuracy: 0.8890 - val_loss: 0.2801 - val_categorical_accuracy: 0.8817 - val_binary_accuracy: 0.8817\n",
      "Epoch 8/10000000\n",
      " 9/10 [==========================>...] - ETA: 0s - loss: 0.2801 - categorical_accuracy: 0.8853 - binary_accuracy: 0.8856{'java': 26, 'png': 18, 'html': 18, 'dwf': 20, 'rtf': 13, 'sql': 19, 'kml': 12, 'ps': 15, 'eps': 25, 'wp': 16, 'ppt': 27, 'txt': 19, 'gif': 19, 'xls': 19, 'kmz': 14, 'csv': 20, 'pptx': 19, 'xml': 21, 'f': 17, 'dbase3': 15, 'doc': 13, 'pps': 26, 'swf': 11, 'pdf': 20, 'log': 19, 'hlp': 18, 'jpg': 22, 'gz': 9}\n",
      "10/10 [==============================] - 8s 775ms/step - loss: 0.2804 - categorical_accuracy: 0.8850 - binary_accuracy: 0.8851 - val_loss: 0.2674 - val_categorical_accuracy: 0.8985 - val_binary_accuracy: 0.8983\n",
      "Epoch 9/10000000\n",
      " 9/10 [==========================>...] - ETA: 0s - loss: 0.2706 - categorical_accuracy: 0.9000 - binary_accuracy: 0.8979{'java': 14, 'png': 16, 'html': 14, 'dwf': 9, 'rtf': 15, 'sql': 17, 'kml': 17, 'ps': 19, 'eps': 12, 'wp': 17, 'ppt': 19, 'txt': 11, 'gif': 19, 'xls': 15, 'kmz': 12, 'csv': 18, 'pptx': 24, 'xml': 19, 'f': 15, 'dbase3': 17, 'doc': 14, 'pps': 15, 'swf': 20, 'pdf': 17, 'log': 13, 'hlp': 17, 'jpg': 17, 'gz': 14}\n",
      "10/10 [==============================] - 8s 766ms/step - loss: 0.2725 - categorical_accuracy: 0.9007 - binary_accuracy: 0.8990 - val_loss: 0.2672 - val_categorical_accuracy: 0.9022 - val_binary_accuracy: 0.9018\n",
      "Epoch 10/10000000\n",
      " 9/10 [==========================>...] - ETA: 0s - loss: 0.2513 - categorical_accuracy: 0.9056 - binary_accuracy: 0.9068{'java': 13, 'png': 19, 'html': 13, 'dwf': 17, 'rtf': 10, 'sql': 12, 'kml': 13, 'ps': 11, 'eps': 21, 'wp': 16, 'ppt': 17, 'txt': 12, 'gif': 18, 'xls': 19, 'kmz': 19, 'csv': 14, 'pptx': 7, 'xml': 18, 'f': 14, 'dbase3': 18, 'doc': 11, 'pps': 12, 'swf': 20, 'pdf': 13, 'log': 14, 'hlp': 11, 'jpg': 17, 'gz': 16}\n",
      "10/10 [==============================] - 8s 776ms/step - loss: 0.2507 - categorical_accuracy: 0.9055 - binary_accuracy: 0.9066 - val_loss: 0.2582 - val_categorical_accuracy: 0.9076 - val_binary_accuracy: 0.9075\n",
      "Epoch 11/10000000\n",
      " 9/10 [==========================>...] - ETA: 0s - loss: 0.2574 - categorical_accuracy: 0.9039 - binary_accuracy: 0.9040{'java': 13, 'png': 15, 'html': 24, 'dwf': 18, 'rtf': 13, 'sql': 13, 'kml': 15, 'ps': 21, 'eps': 16, 'wp': 21, 'ppt': 21, 'txt': 9, 'gif': 22, 'xls': 24, 'kmz': 22, 'csv': 15, 'pptx': 14, 'xml': 19, 'f': 13, 'dbase3': 14, 'doc': 15, 'pps': 17, 'swf': 17, 'pdf': 14, 'log': 18, 'hlp': 21, 'jpg': 9, 'gz': 19}\n",
      "10/10 [==============================] - 8s 771ms/step - loss: 0.2590 - categorical_accuracy: 0.9035 - binary_accuracy: 0.9038 - val_loss: 0.2611 - val_categorical_accuracy: 0.9020 - val_binary_accuracy: 0.9021\n",
      "Epoch 12/10000000\n",
      " 9/10 [==========================>...] - ETA: 0s - loss: 0.2547 - categorical_accuracy: 0.9014 - binary_accuracy: 0.9011{'java': 24, 'png': 17, 'html': 11, 'dwf': 19, 'rtf': 27, 'sql': 6, 'kml': 14, 'ps': 15, 'eps': 18, 'wp': 15, 'ppt': 24, 'txt': 17, 'gif': 28, 'xls': 25, 'kmz': 14, 'csv': 13, 'pptx': 14, 'xml': 23, 'f': 17, 'dbase3': 19, 'doc': 17, 'pps': 15, 'swf': 12, 'pdf': 13, 'log': 17, 'hlp': 9, 'jpg': 18, 'gz': 19}\n",
      "10/10 [==============================] - 8s 762ms/step - loss: 0.2539 - categorical_accuracy: 0.9025 - binary_accuracy: 0.9021 - val_loss: 0.2397 - val_categorical_accuracy: 0.9091 - val_binary_accuracy: 0.9081\n",
      "Epoch 13/10000000\n",
      " 9/10 [==========================>...] - ETA: 0s - loss: 0.2455 - categorical_accuracy: 0.9078 - binary_accuracy: 0.9079{'java': 18, 'png': 18, 'html': 13, 'dwf': 20, 'rtf': 14, 'sql': 14, 'kml': 18, 'ps': 14, 'eps': 14, 'wp': 23, 'ppt': 17, 'txt': 18, 'gif': 14, 'xls': 26, 'kmz': 20, 'csv': 17, 'pptx': 14, 'xml': 21, 'f': 23, 'dbase3': 19, 'doc': 19, 'pps': 18, 'swf': 21, 'pdf': 14, 'log': 19, 'hlp': 14, 'jpg': 26, 'gz': 22}\n",
      "10/10 [==============================] - 8s 773ms/step - loss: 0.2476 - categorical_accuracy: 0.9068 - binary_accuracy: 0.9069 - val_loss: 0.2450 - val_categorical_accuracy: 0.9082 - val_binary_accuracy: 0.9080\n"
     ]
    },
    {
     "name": "stdout",
     "output_type": "stream",
     "text": [
      "Epoch 14/10000000\n",
      " 9/10 [==========================>...] - ETA: 0s - loss: 0.2368 - categorical_accuracy: 0.9111 - binary_accuracy: 0.9114{'java': 15, 'png': 13, 'html': 12, 'dwf': 13, 'rtf': 17, 'sql': 12, 'kml': 12, 'ps': 19, 'eps': 19, 'wp': 13, 'ppt': 15, 'txt': 20, 'gif': 7, 'xls': 14, 'kmz': 19, 'csv': 17, 'pptx': 17, 'xml': 15, 'f': 7, 'dbase3': 9, 'doc': 11, 'pps': 14, 'swf': 12, 'pdf': 13, 'log': 17, 'hlp': 11, 'jpg': 14, 'gz': 21}\n",
      "10/10 [==============================] - 8s 761ms/step - loss: 0.2385 - categorical_accuracy: 0.9107 - binary_accuracy: 0.9101 - val_loss: 0.2266 - val_categorical_accuracy: 0.9147 - val_binary_accuracy: 0.9151\n",
      "Epoch 15/10000000\n",
      " 9/10 [==========================>...] - ETA: 0s - loss: 0.2397 - categorical_accuracy: 0.9133 - binary_accuracy: 0.9131{'java': 18, 'png': 19, 'html': 19, 'dwf': 27, 'rtf': 27, 'sql': 21, 'kml': 17, 'ps': 20, 'eps': 9, 'wp': 15, 'ppt': 26, 'txt': 19, 'gif': 25, 'xls': 25, 'kmz': 19, 'csv': 18, 'pptx': 18, 'xml': 14, 'f': 19, 'dbase3': 21, 'doc': 12, 'pps': 19, 'swf': 26, 'pdf': 23, 'log': 14, 'hlp': 18, 'jpg': 9, 'gz': 28}\n",
      "10/10 [==============================] - 8s 765ms/step - loss: 0.2349 - categorical_accuracy: 0.9147 - binary_accuracy: 0.9146 - val_loss: 0.2403 - val_categorical_accuracy: 0.9101 - val_binary_accuracy: 0.9104\n",
      "Epoch 16/10000000\n",
      " 9/10 [==========================>...] - ETA: 0s - loss: 0.2428 - categorical_accuracy: 0.9075 - binary_accuracy: 0.9069{'java': 20, 'png': 9, 'html': 15, 'dwf': 12, 'rtf': 12, 'sql': 8, 'kml': 15, 'ps': 13, 'eps': 14, 'wp': 22, 'ppt': 15, 'txt': 12, 'gif': 12, 'xls': 19, 'kmz': 13, 'csv': 13, 'pptx': 12, 'xml': 26, 'f': 17, 'dbase3': 11, 'doc': 16, 'pps': 13, 'swf': 15, 'pdf': 11, 'log': 14, 'hlp': 20, 'jpg': 13, 'gz': 15}\n",
      "10/10 [==============================] - 8s 772ms/step - loss: 0.2419 - categorical_accuracy: 0.9087 - binary_accuracy: 0.9084 - val_loss: 0.2416 - val_categorical_accuracy: 0.9080 - val_binary_accuracy: 0.9086\n",
      "Epoch 17/10000000\n",
      " 9/10 [==========================>...] - ETA: 0s - loss: 0.2406 - categorical_accuracy: 0.9108 - binary_accuracy: 0.9103{'java': 20, 'png': 20, 'html': 17, 'dwf': 18, 'rtf': 17, 'sql': 15, 'kml': 14, 'ps': 9, 'eps': 13, 'wp': 18, 'ppt': 12, 'txt': 11, 'gif': 15, 'xls': 10, 'kmz': 18, 'csv': 19, 'pptx': 14, 'xml': 12, 'f': 13, 'dbase3': 13, 'doc': 15, 'pps': 15, 'swf': 13, 'pdf': 11, 'log': 17, 'hlp': 16, 'jpg': 19, 'gz': 19}\n",
      "10/10 [==============================] - 8s 783ms/step - loss: 0.2449 - categorical_accuracy: 0.9093 - binary_accuracy: 0.9085 - val_loss: 0.2419 - val_categorical_accuracy: 0.9107 - val_binary_accuracy: 0.9109\n",
      "Epoch 18/10000000\n",
      " 9/10 [==========================>...] - ETA: 0s - loss: 0.2384 - categorical_accuracy: 0.9119 - binary_accuracy: 0.9112{'java': 19, 'png': 19, 'html': 14, 'dwf': 18, 'rtf': 19, 'sql': 15, 'kml': 19, 'ps': 18, 'eps': 12, 'wp': 19, 'ppt': 19, 'txt': 13, 'gif': 20, 'xls': 18, 'kmz': 13, 'csv': 17, 'pptx': 19, 'xml': 14, 'f': 17, 'dbase3': 18, 'doc': 8, 'pps': 17, 'swf': 15, 'pdf': 24, 'log': 15, 'hlp': 21, 'jpg': 19, 'gz': 22}\n",
      "10/10 [==============================] - 8s 777ms/step - loss: 0.2364 - categorical_accuracy: 0.9120 - binary_accuracy: 0.9112 - val_loss: 0.2319 - val_categorical_accuracy: 0.9116 - val_binary_accuracy: 0.9124\n",
      "Epoch 19/10000000\n",
      " 9/10 [==========================>...] - ETA: 0s - loss: 0.2311 - categorical_accuracy: 0.9133 - binary_accuracy: 0.9139{'java': 15, 'png': 15, 'html': 16, 'dwf': 19, 'rtf': 10, 'sql': 13, 'kml': 19, 'ps': 13, 'eps': 17, 'wp': 19, 'ppt': 18, 'txt': 14, 'gif': 15, 'xls': 9, 'kmz': 19, 'csv': 18, 'pptx': 17, 'xml': 11, 'f': 15, 'dbase3': 18, 'doc': 12, 'pps': 14, 'swf': 13, 'pdf': 12, 'log': 9, 'hlp': 11, 'jpg': 16, 'gz': 14}\n",
      "10/10 [==============================] - 8s 774ms/step - loss: 0.2358 - categorical_accuracy: 0.9110 - binary_accuracy: 0.9116 - val_loss: 0.2262 - val_categorical_accuracy: 0.9140 - val_binary_accuracy: 0.9139\n",
      "Epoch 20/10000000\n",
      " 9/10 [==========================>...] - ETA: 0s - loss: 0.2340 - categorical_accuracy: 0.9147 - binary_accuracy: 0.9139{'java': 14, 'png': 14, 'html': 26, 'dwf': 12, 'rtf': 20, 'sql': 13, 'kml': 18, 'ps': 23, 'eps': 13, 'wp': 18, 'ppt': 15, 'txt': 27, 'gif': 17, 'xls': 13, 'kmz': 13, 'csv': 14, 'pptx': 13, 'xml': 23, 'f': 13, 'dbase3': 21, 'doc': 10, 'pps': 20, 'swf': 14, 'pdf': 20, 'log': 19, 'hlp': 12, 'jpg': 7, 'gz': 8}\n",
      "10/10 [==============================] - 8s 779ms/step - loss: 0.2318 - categorical_accuracy: 0.9165 - binary_accuracy: 0.9155 - val_loss: 0.2276 - val_categorical_accuracy: 0.9165 - val_binary_accuracy: 0.9167\n",
      "Epoch 21/10000000\n",
      " 9/10 [==========================>...] - ETA: 0s - loss: 0.2287 - categorical_accuracy: 0.9178 - binary_accuracy: 0.9167{'java': 14, 'png': 17, 'html': 17, 'dwf': 12, 'rtf': 14, 'sql': 13, 'kml': 20, 'ps': 14, 'eps': 14, 'wp': 18, 'ppt': 12, 'txt': 19, 'gif': 13, 'xls': 9, 'kmz': 13, 'csv': 8, 'pptx': 17, 'xml': 18, 'f': 21, 'dbase3': 23, 'doc': 12, 'pps': 20, 'swf': 15, 'pdf': 19, 'log': 17, 'hlp': 15, 'jpg': 17, 'gz': 12}\n",
      "10/10 [==============================] - 8s 782ms/step - loss: 0.2331 - categorical_accuracy: 0.9150 - binary_accuracy: 0.9141 - val_loss: 0.2397 - val_categorical_accuracy: 0.9106 - val_binary_accuracy: 0.9107\n",
      "Epoch 22/10000000\n",
      " 9/10 [==========================>...] - ETA: 0s - loss: 0.2322 - categorical_accuracy: 0.9128 - binary_accuracy: 0.9119{'java': 11, 'png': 12, 'html': 13, 'dwf': 19, 'rtf': 12, 'sql': 11, 'kml': 19, 'ps': 17, 'eps': 14, 'wp': 19, 'ppt': 17, 'txt': 9, 'gif': 11, 'xls': 20, 'kmz': 18, 'csv': 19, 'pptx': 17, 'xml': 14, 'f': 19, 'dbase3': 13, 'doc': 13, 'pps': 17, 'swf': 15, 'pdf': 11, 'log': 18, 'hlp': 13, 'jpg': 15, 'gz': 17}\n",
      "10/10 [==============================] - 8s 782ms/step - loss: 0.2305 - categorical_accuracy: 0.9135 - binary_accuracy: 0.9130 - val_loss: 0.2298 - val_categorical_accuracy: 0.9141 - val_binary_accuracy: 0.9140\n",
      "Epoch 23/10000000\n",
      " 9/10 [==========================>...] - ETA: 0s - loss: 0.2310 - categorical_accuracy: 0.9158 - binary_accuracy: 0.9161{'java': 12, 'png': 12, 'html': 7, 'dwf': 13, 'rtf': 12, 'sql': 13, 'kml': 19, 'ps': 13, 'eps': 13, 'wp': 11, 'ppt': 16, 'txt': 8, 'gif': 13, 'xls': 9, 'kmz': 17, 'csv': 11, 'pptx': 9, 'xml': 19, 'f': 11, 'dbase3': 7, 'doc': 12, 'pps': 13, 'swf': 13, 'pdf': 11, 'log': 20, 'hlp': 13, 'jpg': 19, 'gz': 8}\n",
      "10/10 [==============================] - 8s 764ms/step - loss: 0.2321 - categorical_accuracy: 0.9150 - binary_accuracy: 0.9154 - val_loss: 0.2527 - val_categorical_accuracy: 0.9004 - val_binary_accuracy: 0.9000\n",
      "Epoch 24/10000000\n",
      " 9/10 [==========================>...] - ETA: 0s - loss: 0.2160 - categorical_accuracy: 0.9233 - binary_accuracy: 0.9226{'java': 13, 'png': 17, 'html': 24, 'dwf': 16, 'rtf': 23, 'sql': 16, 'kml': 17, 'ps': 9, 'eps': 18, 'wp': 21, 'ppt': 19, 'txt': 16, 'gif': 17, 'xls': 17, 'kmz': 20, 'csv': 17, 'pptx': 16, 'xml': 15, 'f': 16, 'dbase3': 13, 'doc': 11, 'pps': 12, 'swf': 17, 'pdf': 19, 'log': 10, 'hlp': 14, 'jpg': 19, 'gz': 20}\n",
      "10/10 [==============================] - 8s 774ms/step - loss: 0.2126 - categorical_accuracy: 0.9250 - binary_accuracy: 0.9245 - val_loss: 0.2371 - val_categorical_accuracy: 0.9103 - val_binary_accuracy: 0.9097\n",
      "Epoch 25/10000000\n",
      " 9/10 [==========================>...] - ETA: 0s - loss: 0.2357 - categorical_accuracy: 0.9142 - binary_accuracy: 0.9140{'java': 8, 'png': 19, 'html': 13, 'dwf': 14, 'rtf': 6, 'sql': 13, 'kml': 14, 'ps': 14, 'eps': 13, 'wp': 10, 'ppt': 12, 'txt': 20, 'gif': 17, 'xls': 19, 'kmz': 12, 'csv': 14, 'pptx': 14, 'xml': 14, 'f': 8, 'dbase3': 7, 'doc': 16, 'pps': 7, 'swf': 13, 'pdf': 12, 'log': 13, 'hlp': 12, 'jpg': 13, 'gz': 11}\n",
      "10/10 [==============================] - 8s 759ms/step - loss: 0.2363 - categorical_accuracy: 0.9143 - binary_accuracy: 0.9140 - val_loss: 0.2368 - val_categorical_accuracy: 0.9096 - val_binary_accuracy: 0.9101\n",
      "Epoch 26/10000000\n",
      " 9/10 [==========================>...] - ETA: 0s - loss: 0.2378 - categorical_accuracy: 0.9086 - binary_accuracy: 0.9085{'java': 21, 'png': 9, 'html': 16, 'dwf': 17, 'rtf': 18, 'sql': 14, 'kml': 9, 'ps': 9, 'eps': 11, 'wp': 13, 'ppt': 14, 'txt': 13, 'gif': 10, 'xls': 13, 'kmz': 12, 'csv': 13, 'pptx': 9, 'xml': 25, 'f': 14, 'dbase3': 15, 'doc': 17, 'pps': 12, 'swf': 26, 'pdf': 13, 'log': 7, 'hlp': 15, 'jpg': 13, 'gz': 13}\n",
      "10/10 [==============================] - 8s 769ms/step - loss: 0.2446 - categorical_accuracy: 0.9057 - binary_accuracy: 0.9054 - val_loss: 0.2354 - val_categorical_accuracy: 0.9111 - val_binary_accuracy: 0.9109\n"
     ]
    },
    {
     "name": "stdout",
     "output_type": "stream",
     "text": [
      "Epoch 27/10000000\n",
      " 9/10 [==========================>...] - ETA: 0s - loss: 0.2486 - categorical_accuracy: 0.9064 - binary_accuracy: 0.9075{'java': 24, 'png': 16, 'html': 18, 'dwf': 21, 'rtf': 19, 'sql': 17, 'kml': 20, 'ps': 20, 'eps': 22, 'wp': 21, 'ppt': 21, 'txt': 20, 'gif': 17, 'xls': 23, 'kmz': 12, 'csv': 13, 'pptx': 19, 'xml': 13, 'f': 21, 'dbase3': 21, 'doc': 23, 'pps': 24, 'swf': 21, 'pdf': 17, 'log': 13, 'hlp': 24, 'jpg': 23, 'gz': 22}\n",
      "10/10 [==============================] - 8s 771ms/step - loss: 0.2496 - categorical_accuracy: 0.9053 - binary_accuracy: 0.9064 - val_loss: 0.2600 - val_categorical_accuracy: 0.8997 - val_binary_accuracy: 0.8999\n",
      "Epoch 28/10000000\n",
      " 9/10 [==========================>...] - ETA: 0s - loss: 0.2500 - categorical_accuracy: 0.9039 - binary_accuracy: 0.9026{'java': 19, 'png': 18, 'html': 15, 'dwf': 9, 'rtf': 13, 'sql': 15, 'kml': 11, 'ps': 19, 'eps': 9, 'wp': 20, 'ppt': 18, 'txt': 24, 'gif': 18, 'xls': 15, 'kmz': 16, 'csv': 15, 'pptx': 10, 'xml': 18, 'f': 13, 'dbase3': 31, 'doc': 17, 'pps': 8, 'swf': 16, 'pdf': 20, 'log': 13, 'hlp': 15, 'jpg': 17, 'gz': 14}\n",
      "10/10 [==============================] - 8s 790ms/step - loss: 0.2481 - categorical_accuracy: 0.9047 - binary_accuracy: 0.9035 - val_loss: 0.2492 - val_categorical_accuracy: 0.9071 - val_binary_accuracy: 0.9071\n",
      "Epoch 29/10000000\n",
      " 9/10 [==========================>...] - ETA: 0s - loss: 0.2473 - categorical_accuracy: 0.9050 - binary_accuracy: 0.9054{'java': 12, 'png': 8, 'html': 20, 'dwf': 17, 'rtf': 18, 'sql': 19, 'kml': 12, 'ps': 16, 'eps': 12, 'wp': 19, 'ppt': 9, 'txt': 20, 'gif': 15, 'xls': 13, 'kmz': 14, 'csv': 17, 'pptx': 21, 'xml': 18, 'f': 18, 'dbase3': 15, 'doc': 11, 'pps': 14, 'swf': 18, 'pdf': 13, 'log': 13, 'hlp': 16, 'jpg': 23, 'gz': 14}\n",
      "10/10 [==============================] - 8s 775ms/step - loss: 0.2438 - categorical_accuracy: 0.9072 - binary_accuracy: 0.9078 - val_loss: 0.2338 - val_categorical_accuracy: 0.9115 - val_binary_accuracy: 0.9118\n",
      "Epoch 30/10000000\n",
      " 9/10 [==========================>...] - ETA: 0s - loss: 0.2234 - categorical_accuracy: 0.9175 - binary_accuracy: 0.9179{'java': 16, 'png': 18, 'html': 18, 'dwf': 17, 'rtf': 8, 'sql': 21, 'kml': 12, 'ps': 13, 'eps': 13, 'wp': 20, 'ppt': 13, 'txt': 15, 'gif': 14, 'xls': 9, 'kmz': 12, 'csv': 18, 'pptx': 16, 'xml': 15, 'f': 17, 'dbase3': 18, 'doc': 8, 'pps': 17, 'swf': 17, 'pdf': 15, 'log': 13, 'hlp': 18, 'jpg': 13, 'gz': 20}\n",
      "10/10 [==============================] - 8s 775ms/step - loss: 0.2263 - categorical_accuracy: 0.9172 - binary_accuracy: 0.9174 - val_loss: 0.2208 - val_categorical_accuracy: 0.9169 - val_binary_accuracy: 0.9162\n"
     ]
    },
    {
     "data": {
      "image/png": "[encoded data removed]",
      "text/plain": [
       "<Figure size 432x288 with 1 Axes>"
      ]
     },
     "metadata": {},
     "output_type": "display_data"
    }
   ],
   "source": [
    "model = models.C64_16_2pr_C32_4_2pr_C64_32_2pr_F_D(\n",
    "        2, 8, 'sigmoid', 'binary_crossentropy')\n",
    "\n",
    "rt = RandomTrainer(model, patience=10)\n",
    "\n",
    "result = rt.train(*rawset.rnd_split_fraction_by_category(0.5))\n",
    "\n",
    "plt.plot(result.history.history['val_categorical_accuracy'], 'o')\n",
    "\n",
    "result.model.save(result_dir + '/randomchk_bin.h5')\n",
    "\n",
    "r = report.Reporter2(result_dir + '/randomchk_bin.tsv')\n",
    "r.line(name=result.model.name,\n",
    "       elapsed=result.elapsed,\n",
    "       **report.report_epochs(**result._asdict()),\n",
    "       **report.report_metrics(result.history, result.metrics),\n",
    "      )\n",
    "r.close()"
   ]
  },
  {
   "cell_type": "code",
   "execution_count": 28,
   "metadata": {},
   "outputs": [
    {
     "data": {
      "text/plain": [
       "TrainResults(model=<tensorflow.python.keras.engine.training.Model object at 0x7fd2d0590908>, history=<tensorflow.python.keras.callbacks.History object at 0x7fd2dc208240>, metrics=['val_binary_accuracy', 'val_categorical_accuracy'], elapsed=233.98343300819397)"
      ]
     },
     "execution_count": 28,
     "metadata": {},
     "output_type": "execute_result"
    }
   ],
   "source": [
    "result"
   ]
  },
  {
   "cell_type": "code",
   "execution_count": 29,
   "metadata": {},
   "outputs": [
    {
     "data": {
      "text/html": [
       "<div>\n",
       "<style scoped>\n",
       "    .dataframe tbody tr th:only-of-type {\n",
       "        vertical-align: middle;\n",
       "    }\n",
       "\n",
       "    .dataframe tbody tr th {\n",
       "        vertical-align: top;\n",
       "    }\n",
       "\n",
       "    .dataframe thead th {\n",
       "        text-align: right;\n",
       "    }\n",
       "</style>\n",
       "<table border=\"1\" class=\"dataframe\">\n",
       "  <thead>\n",
       "    <tr style=\"text-align: right;\">\n",
       "      <th></th>\n",
       "      <th>name</th>\n",
       "      <th>elapsed</th>\n",
       "      <th>Epochs</th>\n",
       "      <th>val_binary_accuracy</th>\n",
       "      <th>val_categorical_accuracy</th>\n",
       "    </tr>\n",
       "  </thead>\n",
       "  <tbody>\n",
       "    <tr>\n",
       "      <td>0</td>\n",
       "      <td>C64_16_2pr_C32_4_2pr_C64_32_2pr_F_D2_cat</td>\n",
       "      <td>233.983433</td>\n",
       "      <td>30</td>\n",
       "      <td>0.91625</td>\n",
       "      <td>0.916875</td>\n",
       "    </tr>\n",
       "  </tbody>\n",
       "</table>\n",
       "</div>"
      ],
      "text/plain": [
       "                                       name     elapsed  Epochs  \\\n",
       "0  C64_16_2pr_C32_4_2pr_C64_32_2pr_F_D2_cat  233.983433      30   \n",
       "\n",
       "   val_binary_accuracy  val_categorical_accuracy  \n",
       "0              0.91625                  0.916875  "
      ]
     },
     "execution_count": 29,
     "metadata": {},
     "output_type": "execute_result"
    }
   ],
   "source": [
    "pd.read_csv(result_dir + '/randomchk_bin.tsv', sep='\\t')"
   ]
  },
  {
   "cell_type": "code",
   "execution_count": null,
   "metadata": {},
   "outputs": [],
   "source": []
  }
 ],
 "metadata": {
  "kernelspec": {
   "display_name": "Python 3",
   "language": "python",
   "name": "python3"
  },
  "language_info": {
   "codemirror_mode": {
    "name": "ipython",
    "version": 3
   },
   "file_extension": ".py",
   "mimetype": "text/x-python",
   "name": "python",
   "nbconvert_exporter": "python",
   "pygments_lexer": "ipython3",
   "version": "3.6.6"
  }
 },
 "nbformat": 4,
 "nbformat_minor": 2
}
