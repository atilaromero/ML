{
 "cells": [
  {
   "cell_type": "markdown",
   "metadata": {},
   "source": [
    "# Exp 38\n",
    "\n",
    "### Compare models on 28 classes\n",
    "\n",
    "31 classes that have 200 or more files, minus 'text' and 'unk' that are not filetypes."
   ]
  },
  {
   "cell_type": "code",
   "execution_count": 18,
   "metadata": {},
   "outputs": [],
   "source": [
    "import os\n",
    "import datetime\n",
    "import tensorflow\n",
    "import numpy as np\n",
    "import pandas as pd\n",
    "import matplotlib.pyplot as plt\n",
    "from collections import OrderedDict\n",
    "\n",
    "import models\n",
    "import report\n",
    "import block_sampler\n",
    "import batch_encoder\n",
    "from dataset import Dataset\n",
    "from report import Reporter\n",
    "from trainer import Trainer\n",
    "from batch_encoder import Dataset\n",
    "from block_sampler import count_sectors, BlockSamplerByCategory, RandomSampler\n",
    "from batch_encoder import xs_encoder_8bits_11, BatchEncoder\n",
    "from filter_random import gen_rndchk_models, evaluate_rnd_model, filter_dataset\n",
    "\n",
    "from tensorflow.keras.layers import Input, Conv1D, MaxPooling1D, LSTM, Dense, Activation, TimeDistributed, Flatten, Dot, Softmax, Lambda\n",
    "import tensorflow.keras.backend as K"
   ]
  },
  {
   "cell_type": "code",
   "execution_count": 4,
   "metadata": {},
   "outputs": [],
   "source": [
    "raw_dataset_folder='/home/user/sample200'\n",
    "# raw_dataset_folder='../datasets/govdocs1/sample200'\n",
    "random_dataset_folder='../datasets/random'\n",
    "minimum=200\n",
    "maximum=200\n",
    "result_dir = 'results/exp38'\n",
    "os.makedirs(result_dir, exist_ok=True)"
   ]
  },
  {
   "cell_type": "code",
   "execution_count": 5,
   "metadata": {},
   "outputs": [],
   "source": [
    "rawset = Dataset.new_from_folders(raw_dataset_folder).filter_min_max(minimum, maximum)\n",
    "rawset = rawset.filter(lambda x: rawset.category_from(x) not in ['text', 'unk'])\n",
    "rawset.rebuild_categories()"
   ]
  },
  {
   "cell_type": "code",
   "execution_count": 5,
   "metadata": {},
   "outputs": [],
   "source": [
    "model = models.C64_16_2pr_C32_4_2pr_C64_32_2pr_F_D(\n",
    "        28, 8, 'softmax', 'categorical_crossentropy')"
   ]
  },
  {
   "cell_type": "code",
   "execution_count": 6,
   "metadata": {},
   "outputs": [],
   "source": [
    "result = Trainer(model).train(*rawset.rnd_split_fraction_by_category(0.5))"
   ]
  },
  {
   "cell_type": "code",
   "execution_count": 7,
   "metadata": {},
   "outputs": [
    {
     "data": {
      "text/plain": [
       "[<matplotlib.lines.Line2D at 0x7f6fd8046358>]"
      ]
     },
     "execution_count": 7,
     "metadata": {},
     "output_type": "execute_result"
    },
    {
     "data": {
      "image/png": "[encoded data removed]",
      "text/plain": [
       "<Figure size 432x288 with 1 Axes>"
      ]
     },
     "metadata": {},
     "output_type": "display_data"
    }
   ],
   "source": [
    "plt.plot(result.history.history['val_categorical_accuracy'], 'o')"
   ]
  },
  {
   "cell_type": "code",
   "execution_count": 21,
   "metadata": {},
   "outputs": [],
   "source": [
    "result.model.save(result_dir + '/28classes.h5')"
   ]
  },
  {
   "cell_type": "code",
   "execution_count": null,
   "metadata": {},
   "outputs": [],
   "source": [
    "r = report.Reporter2(result_dir + '/28classes.tsv')\n",
    "\n",
    "r.line(name=result.model.name,\n",
    "       elapsed=result.elapsed,\n",
    "       **report.report_epochs(**result._asdict()),\n",
    "       **report.report_metrics(result.history, result.metrics),\n",
    "      )\n",
    "\n",
    "r.close()"
   ]
  },
  {
   "cell_type": "code",
   "execution_count": 44,
   "metadata": {},
   "outputs": [
    {
     "data": {
      "text/html": [
       "<div>\n",
       "<style scoped>\n",
       "    .dataframe tbody tr th:only-of-type {\n",
       "        vertical-align: middle;\n",
       "    }\n",
       "\n",
       "    .dataframe tbody tr th {\n",
       "        vertical-align: top;\n",
       "    }\n",
       "\n",
       "    .dataframe thead th {\n",
       "        text-align: right;\n",
       "    }\n",
       "</style>\n",
       "<table border=\"1\" class=\"dataframe\">\n",
       "  <thead>\n",
       "    <tr style=\"text-align: right;\">\n",
       "      <th></th>\n",
       "      <th>name</th>\n",
       "      <th>elapsed</th>\n",
       "      <th>Epochs</th>\n",
       "      <th>val_binary_accuracy</th>\n",
       "      <th>val_categorical_accuracy</th>\n",
       "    </tr>\n",
       "  </thead>\n",
       "  <tbody>\n",
       "    <tr>\n",
       "      <td>0</td>\n",
       "      <td>C64_16_2pr_C32_4_2pr_C64_32_2pr_F_D28_cat</td>\n",
       "      <td>256.885371</td>\n",
       "      <td>42</td>\n",
       "      <td>0.972862</td>\n",
       "      <td>0.468625</td>\n",
       "    </tr>\n",
       "  </tbody>\n",
       "</table>\n",
       "</div>"
      ],
      "text/plain": [
       "                                        name     elapsed  Epochs  \\\n",
       "0  C64_16_2pr_C32_4_2pr_C64_32_2pr_F_D28_cat  256.885371      42   \n",
       "\n",
       "   val_binary_accuracy  val_categorical_accuracy  \n",
       "0             0.972862                  0.468625  "
      ]
     },
     "execution_count": 44,
     "metadata": {},
     "output_type": "execute_result"
    }
   ],
   "source": [
    "pd.read_csv(result_dir + '/28classes.tsv', sep='\\t')"
   ]
  },
  {
   "cell_type": "markdown",
   "metadata": {},
   "source": [
    "# CLD"
   ]
  },
  {
   "cell_type": "code",
   "execution_count": 37,
   "metadata": {},
   "outputs": [],
   "source": [
    "model = models.C256_16_16_L128_D(28, 8, 'softmax', 'categorical_crossentropy')"
   ]
  },
  {
   "cell_type": "code",
   "execution_count": 38,
   "metadata": {},
   "outputs": [
    {
     "name": "stdout",
     "output_type": "stream",
     "text": [
      "WARNING:tensorflow:From /home/atila.alr/.local/lib/python3.6/site-packages/tensorflow/python/ops/math_grad.py:1250: add_dispatch_support.<locals>.wrapper (from tensorflow.python.ops.array_ops) is deprecated and will be removed in a future version.\n",
      "Instructions for updating:\n",
      "Use tf.where in 2.0, which has the same broadcast rule as np.where\n"
     ]
    }
   ],
   "source": [
    "result = Trainer(model).train(*rawset.rnd_split_fraction_by_category(0.5))"
   ]
  },
  {
   "cell_type": "code",
   "execution_count": 39,
   "metadata": {},
   "outputs": [
    {
     "data": {
      "text/plain": [
       "[<matplotlib.lines.Line2D at 0x7f6f8c1147b8>]"
      ]
     },
     "execution_count": 39,
     "metadata": {},
     "output_type": "execute_result"
    },
    {
     "data": {
      "image/png": "[encoded data removed]",
      "text/plain": [
       "<Figure size 432x288 with 1 Axes>"
      ]
     },
     "metadata": {},
     "output_type": "display_data"
    }
   ],
   "source": [
    "plt.plot(result.history.history['val_categorical_accuracy'], 'o')"
   ]
  },
  {
   "cell_type": "code",
   "execution_count": 40,
   "metadata": {},
   "outputs": [],
   "source": [
    "result.model.save(result_dir + '/28classes-CLD.h5')"
   ]
  },
  {
   "cell_type": "code",
   "execution_count": 41,
   "metadata": {},
   "outputs": [],
   "source": [
    "r = report.Reporter2(result_dir + '/28classes-CLD.tsv')\n",
    "\n",
    "r.line(name=result.model.name,\n",
    "       elapsed=result.elapsed,\n",
    "       **report.report_epochs(**result._asdict()),\n",
    "       **report.report_metrics(result.history, result.metrics),\n",
    "      )\n",
    "\n",
    "r.close()"
   ]
  },
  {
   "cell_type": "code",
   "execution_count": 42,
   "metadata": {},
   "outputs": [
    {
     "data": {
      "text/html": [
       "<div>\n",
       "<style scoped>\n",
       "    .dataframe tbody tr th:only-of-type {\n",
       "        vertical-align: middle;\n",
       "    }\n",
       "\n",
       "    .dataframe tbody tr th {\n",
       "        vertical-align: top;\n",
       "    }\n",
       "\n",
       "    .dataframe thead th {\n",
       "        text-align: right;\n",
       "    }\n",
       "</style>\n",
       "<table border=\"1\" class=\"dataframe\">\n",
       "  <thead>\n",
       "    <tr style=\"text-align: right;\">\n",
       "      <th></th>\n",
       "      <th>name</th>\n",
       "      <th>elapsed</th>\n",
       "      <th>Epochs</th>\n",
       "      <th>val_binary_accuracy</th>\n",
       "      <th>val_categorical_accuracy</th>\n",
       "    </tr>\n",
       "  </thead>\n",
       "  <tbody>\n",
       "    <tr>\n",
       "      <td>0</td>\n",
       "      <td>C256_16_16_L128_D28_cat</td>\n",
       "      <td>205.507304</td>\n",
       "      <td>28</td>\n",
       "      <td>0.971437</td>\n",
       "      <td>0.433875</td>\n",
       "    </tr>\n",
       "  </tbody>\n",
       "</table>\n",
       "</div>"
      ],
      "text/plain": [
       "                      name     elapsed  Epochs  val_binary_accuracy  \\\n",
       "0  C256_16_16_L128_D28_cat  205.507304      28             0.971437   \n",
       "\n",
       "   val_categorical_accuracy  \n",
       "0                  0.433875  "
      ]
     },
     "execution_count": 42,
     "metadata": {},
     "output_type": "execute_result"
    }
   ],
   "source": [
    "pd.read_csv(result_dir + '/28classes-CLD.tsv', sep='\\t')"
   ]
  },
  {
   "cell_type": "markdown",
   "metadata": {},
   "source": [
    "# Attention"
   ]
  },
  {
   "cell_type": "code",
   "execution_count": 29,
   "metadata": {},
   "outputs": [],
   "source": [
    "def Attention(timesteps, nfeatures, name):\n",
    "    def f(last):\n",
    "        TIMESTEPS=timesteps\n",
    "        NFEATURES=nfeatures\n",
    "        query = last                                        # (None, TIMESTEPS, NFEATURES)\n",
    "        # pick one of the convolutions\n",
    "        query = MaxPooling1D(pool_size=TIMESTEPS,strides=1)(query)  # (None, 1, NFEATURES)\n",
    "        # remove dimension with size 1\n",
    "        query = Lambda(lambda q: K.squeeze(q, 1))(query)    # (None, NFEATURES)\n",
    "        query = Dense(NFEATURES)(query)                     # (None, NFEATURES)\n",
    "        attScores = Dot(axes=[1, 2])([query, last])         # (None, TIMESTEPS)\n",
    "        attScores = Softmax(name=name)(attScores)\n",
    "        # apply attention scores\n",
    "        attVector = Dot(axes=[1, 1])([attScores, last])     # (None, NFEATURES)\n",
    "        last = attVector\n",
    "        return last\n",
    "    return f"
   ]
  },
  {
   "cell_type": "code",
   "execution_count": 30,
   "metadata": {},
   "outputs": [],
   "source": [
    "def mkmodel(classes, len_byte_vector, activation='softmax', loss='categorical_crossentropy'):\n",
    "    last = l0 = Input(shape=(512,len_byte_vector))\n",
    "    last = Conv1D(64, (16,), strides=1, padding='same', activation='relu')(last)\n",
    "    last = Conv1D(32, (4,), strides=1, padding='same', activation='relu')(last)\n",
    "    last = Attention(512, 32, name='attScores')(last)\n",
    "    last = Dense(classes)(last)\n",
    "    last = Activation(activation)(last)\n",
    "    model = tensorflow.keras.Model(l0, last, name='attentionModel')\n",
    "    model.compile(loss=loss,\n",
    "        optimizer=tensorflow.keras.optimizers.Adam(),\n",
    "        metrics=['categorical_accuracy', 'binary_accuracy'])\n",
    "    return model"
   ]
  },
  {
   "cell_type": "code",
   "execution_count": 31,
   "metadata": {},
   "outputs": [],
   "source": [
    "model = mkmodel(28, 8)"
   ]
  },
  {
   "cell_type": "code",
   "execution_count": 32,
   "metadata": {},
   "outputs": [
    {
     "name": "stdout",
     "output_type": "stream",
     "text": [
      "__________________________________________________________________________________________________\n",
      "Layer (type)                    Output Shape         Param #     Connected to                     \n",
      "==================================================================================================\n",
      "input_8 (InputLayer)            (None, 512, 8)       0                                            \n",
      "__________________________________________________________________________________________________\n",
      "conv1d_14 (Conv1D)              (None, 512, 64)      8256        input_8[0][0]                    \n",
      "__________________________________________________________________________________________________\n",
      "conv1d_15 (Conv1D)              (None, 512, 32)      8224        conv1d_14[0][0]                  \n",
      "__________________________________________________________________________________________________\n",
      "max_pooling1d_5 (MaxPooling1D)  (None, 1, 32)        0           conv1d_15[0][0]                  \n",
      "__________________________________________________________________________________________________\n",
      "lambda_5 (Lambda)               (None, 32)           0           max_pooling1d_5[0][0]            \n",
      "__________________________________________________________________________________________________\n",
      "dense_7 (Dense)                 (None, 32)           1056        lambda_5[0][0]                   \n",
      "__________________________________________________________________________________________________\n",
      "dot_7 (Dot)                     (None, 512)          0           dense_7[0][0]                    \n",
      "                                                                 conv1d_15[0][0]                  \n",
      "__________________________________________________________________________________________________\n",
      "attScores (Softmax)             (None, 512)          0           dot_7[0][0]                      \n",
      "__________________________________________________________________________________________________\n",
      "dot_8 (Dot)                     (None, 32)           0           attScores[0][0]                  \n",
      "                                                                 conv1d_15[0][0]                  \n",
      "__________________________________________________________________________________________________\n",
      "dense_8 (Dense)                 (None, 28)           924         dot_8[0][0]                      \n",
      "__________________________________________________________________________________________________\n",
      "activation_3 (Activation)       (None, 28)           0           dense_8[0][0]                    \n",
      "==================================================================================================\n",
      "Total params: 18,460\n",
      "Trainable params: 18,460\n",
      "Non-trainable params: 0\n",
      "__________________________________________________________________________________________________\n"
     ]
    }
   ],
   "source": [
    "model.summary()"
   ]
  },
  {
   "cell_type": "code",
   "execution_count": 33,
   "metadata": {},
   "outputs": [
    {
     "name": "stdout",
     "output_type": "stream",
     "text": [
      "WARNING:tensorflow:From /home/user/.local/lib/python3.7/site-packages/tensorflow/python/ops/math_ops.py:3066: to_int32 (from tensorflow.python.ops.math_ops) is deprecated and will be removed in a future version.\n",
      "Instructions for updating:\n",
      "Use tf.cast instead.\n",
      "20/20 [==============================] - 9s 446ms/step - loss: 3.1889 - categorical_accuracy: 0.1234 - binary_accuracy: 0.9643\n",
      "20/20 [==============================] - 8s 385ms/step - loss: 2.9691 - categorical_accuracy: 0.1315 - binary_accuracy: 0.9643\n",
      "20/20 [==============================] - 8s 390ms/step - loss: 2.7441 - categorical_accuracy: 0.1511 - binary_accuracy: 0.9643\n",
      "20/20 [==============================] - 7s 362ms/step - loss: 2.5569 - categorical_accuracy: 0.1834 - binary_accuracy: 0.9643\n",
      "20/20 [==============================] - 7s 355ms/step - loss: 2.4705 - categorical_accuracy: 0.2141 - binary_accuracy: 0.9645\n",
      "20/20 [==============================] - 7s 348ms/step - loss: 2.3880 - categorical_accuracy: 0.2271 - binary_accuracy: 0.9646\n",
      "20/20 [==============================] - 7s 367ms/step - loss: 2.3418 - categorical_accuracy: 0.2504 - binary_accuracy: 0.9646\n",
      "20/20 [==============================] - 7s 344ms/step - loss: 2.2916 - categorical_accuracy: 0.2627 - binary_accuracy: 0.9654\n",
      "20/20 [==============================] - 7s 347ms/step - loss: 2.2588 - categorical_accuracy: 0.2702 - binary_accuracy: 0.9648\n",
      "20/20 [==============================] - 7s 367ms/step - loss: 2.1971 - categorical_accuracy: 0.2898 - binary_accuracy: 0.9658\n",
      "20/20 [==============================] - 8s 380ms/step - loss: 2.2007 - categorical_accuracy: 0.2856 - binary_accuracy: 0.9659\n",
      "20/20 [==============================] - 7s 344ms/step - loss: 2.1652 - categorical_accuracy: 0.2957 - binary_accuracy: 0.9664\n",
      "20/20 [==============================] - 7s 355ms/step - loss: 2.1767 - categorical_accuracy: 0.3054 - binary_accuracy: 0.9666\n",
      "20/20 [==============================] - 7s 348ms/step - loss: 2.1141 - categorical_accuracy: 0.3030 - binary_accuracy: 0.9674\n",
      "20/20 [==============================] - 7s 334ms/step - loss: 2.1013 - categorical_accuracy: 0.3237 - binary_accuracy: 0.9678\n",
      "20/20 [==============================] - 7s 333ms/step - loss: 2.0929 - categorical_accuracy: 0.3173 - binary_accuracy: 0.9678\n",
      "20/20 [==============================] - 7s 330ms/step - loss: 2.0575 - categorical_accuracy: 0.3305 - binary_accuracy: 0.9679\n",
      "20/20 [==============================] - 7s 330ms/step - loss: 2.0445 - categorical_accuracy: 0.3228 - binary_accuracy: 0.9682\n",
      "20/20 [==============================] - 7s 328ms/step - loss: 2.0370 - categorical_accuracy: 0.3352 - binary_accuracy: 0.9682\n",
      "20/20 [==============================] - 7s 326ms/step - loss: 2.0331 - categorical_accuracy: 0.3396 - binary_accuracy: 0.9684\n",
      "20/20 [==============================] - 7s 328ms/step - loss: 1.9988 - categorical_accuracy: 0.3495 - binary_accuracy: 0.9688\n",
      "20/20 [==============================] - 6s 323ms/step - loss: 1.9950 - categorical_accuracy: 0.3559 - binary_accuracy: 0.9689\n",
      "20/20 [==============================] - 6s 325ms/step - loss: 1.9553 - categorical_accuracy: 0.3663 - binary_accuracy: 0.9692\n",
      "20/20 [==============================] - 7s 326ms/step - loss: 1.9805 - categorical_accuracy: 0.3594 - binary_accuracy: 0.9689\n",
      "20/20 [==============================] - 8s 386ms/step - loss: 1.9685 - categorical_accuracy: 0.3638 - binary_accuracy: 0.9694\n",
      "20/20 [==============================] - 7s 331ms/step - loss: 1.9313 - categorical_accuracy: 0.3656 - binary_accuracy: 0.9696\n",
      "20/20 [==============================] - 7s 326ms/step - loss: 1.9086 - categorical_accuracy: 0.3812 - binary_accuracy: 0.9695\n",
      "20/20 [==============================] - 7s 343ms/step - loss: 1.8947 - categorical_accuracy: 0.3800 - binary_accuracy: 0.9700\n",
      "20/20 [==============================] - 7s 331ms/step - loss: 1.8916 - categorical_accuracy: 0.3828 - binary_accuracy: 0.9702\n",
      "20/20 [==============================] - 7s 343ms/step - loss: 1.8950 - categorical_accuracy: 0.3781 - binary_accuracy: 0.9700\n",
      "20/20 [==============================] - 6s 325ms/step - loss: 1.8606 - categorical_accuracy: 0.3947 - binary_accuracy: 0.9703\n",
      "20/20 [==============================] - 6s 324ms/step - loss: 1.8714 - categorical_accuracy: 0.3902 - binary_accuracy: 0.9704\n",
      "20/20 [==============================] - 6s 321ms/step - loss: 1.8991 - categorical_accuracy: 0.3784 - binary_accuracy: 0.9705\n",
      "20/20 [==============================] - 6s 323ms/step - loss: 1.8558 - categorical_accuracy: 0.3865 - binary_accuracy: 0.9705\n",
      "20/20 [==============================] - 7s 330ms/step - loss: 1.8627 - categorical_accuracy: 0.3968 - binary_accuracy: 0.9703\n"
     ]
    }
   ],
   "source": [
    "result = Trainer(model).train(*rawset.rnd_split_fraction_by_category(0.5))"
   ]
  },
  {
   "cell_type": "code",
   "execution_count": 34,
   "metadata": {},
   "outputs": [
    {
     "data": {
      "text/plain": [
       "[<matplotlib.lines.Line2D at 0x7f3f1861fe10>]"
      ]
     },
     "execution_count": 34,
     "metadata": {},
     "output_type": "execute_result"
    },
    {
     "data": {
      "image/png": "[encoded data removed]",
      "text/plain": [
       "<Figure size 432x288 with 1 Axes>"
      ]
     },
     "metadata": {
      "needs_background": "light"
     },
     "output_type": "display_data"
    }
   ],
   "source": [
    "plt.plot(result.history.history['val_categorical_accuracy'], 'o')"
   ]
  },
  {
   "cell_type": "code",
   "execution_count": 35,
   "metadata": {},
   "outputs": [],
   "source": [
    "result.model.save(result_dir + '/28classes-attention.h5')"
   ]
  },
  {
   "cell_type": "code",
   "execution_count": 36,
   "metadata": {},
   "outputs": [],
   "source": [
    "r = report.Reporter2(result_dir + '/28classes-attention.tsv')\n",
    "\n",
    "r.line(name=result.model.name,\n",
    "       elapsed=result.elapsed,\n",
    "       **report.report_epochs(**result._asdict()),\n",
    "       **report.report_metrics(result.history, result.metrics),\n",
    "      )\n",
    "\n",
    "r.close()"
   ]
  },
  {
   "cell_type": "code",
   "execution_count": 37,
   "metadata": {},
   "outputs": [
    {
     "data": {
      "text/html": [
       "<div>\n",
       "<style scoped>\n",
       "    .dataframe tbody tr th:only-of-type {\n",
       "        vertical-align: middle;\n",
       "    }\n",
       "\n",
       "    .dataframe tbody tr th {\n",
       "        vertical-align: top;\n",
       "    }\n",
       "\n",
       "    .dataframe thead th {\n",
       "        text-align: right;\n",
       "    }\n",
       "</style>\n",
       "<table border=\"1\" class=\"dataframe\">\n",
       "  <thead>\n",
       "    <tr style=\"text-align: right;\">\n",
       "      <th></th>\n",
       "      <th>name</th>\n",
       "      <th>elapsed</th>\n",
       "      <th>Epochs</th>\n",
       "      <th>val_binary_accuracy</th>\n",
       "      <th>val_categorical_accuracy</th>\n",
       "    </tr>\n",
       "  </thead>\n",
       "  <tbody>\n",
       "    <tr>\n",
       "      <td>0</td>\n",
       "      <td>attentionModel</td>\n",
       "      <td>615.242611</td>\n",
       "      <td>35</td>\n",
       "      <td>0.970264</td>\n",
       "      <td>0.39675</td>\n",
       "    </tr>\n",
       "  </tbody>\n",
       "</table>\n",
       "</div>"
      ],
      "text/plain": [
       "             name     elapsed  Epochs  val_binary_accuracy  \\\n",
       "0  attentionModel  615.242611      35             0.970264   \n",
       "\n",
       "   val_categorical_accuracy  \n",
       "0                   0.39675  "
      ]
     },
     "execution_count": 37,
     "metadata": {},
     "output_type": "execute_result"
    }
   ],
   "source": [
    "pd.read_csv(result_dir + '/28classes-attention.tsv', sep='\\t')"
   ]
  },
  {
   "cell_type": "markdown",
   "metadata": {},
   "source": [
    "# Show attention"
   ]
  },
  {
   "cell_type": "code",
   "execution_count": 60,
   "metadata": {},
   "outputs": [],
   "source": [
    "from IPython.core.display import HTML"
   ]
  },
  {
   "cell_type": "code",
   "execution_count": 124,
   "metadata": {},
   "outputs": [],
   "source": [
    "def showHex(sample, model, attention_layer_model, n):\n",
    "    attention_output = attention_layer_model.predict(sample)\n",
    "    prediction = model.predict(sample)\n",
    "    print(np.argmax(prediction[n]))\n",
    "    print(rawset.ix_to_cat[np.argmax(prediction[n])])\n",
    "    data2=np.argmax(sample[0][n],axis=1)\n",
    "    x = normColor(attention_output[n])\n",
    "    hex, printable = hexdump(data2)\n",
    "    s = \"\"\n",
    "    s+='<div style=\"font-family:monospace;font-size:10px;\">'\n",
    "    for i in range(0,512,16):\n",
    "        s+=\"<div>\"\n",
    "        for j in range(16):\n",
    "            s+='<span style=\"background-color: rgba(255,%d,%d,1);\">%s </span>'%(x[i+j],x[i+j],hex[i+j])\n",
    "        s+=\" | \"\n",
    "        for j in range(16):\n",
    "            s+='<span style=\"background-color: rgba(255,%d,%d,1);\">%s</span>'%(x[i+j],x[i+j],printable[i+j])\n",
    "        s+=\"</div>\"\n",
    "    s+=('</div>')\n",
    "    return HTML(s)"
   ]
  },
  {
   "cell_type": "code",
   "execution_count": 125,
   "metadata": {},
   "outputs": [],
   "source": [
    "def hexdump(chars):\n",
    "    FILTER = ''.join([(len(repr(chr(x))) == 3) and chr(x) or '.' for x in range(256)])\n",
    "    hex = [\"%02x\" % x for x in chars]\n",
    "    printable = [\"%s\" % ((x <= 127 and FILTER[x]) or '.') for x in chars]\n",
    "    return hex, printable"
   ]
  },
  {
   "cell_type": "code",
   "execution_count": 126,
   "metadata": {},
   "outputs": [],
   "source": [
    "def normColor(attention_output):\n",
    "    xmax=np.max(attention_output)\n",
    "    xmin=np.min(attention_output)\n",
    "    x = np.array(attention_output).reshape((512))\n",
    "    x=(x-xmin)/(xmax-xmin)\n",
    "    x = 255-(250*x+5)\n",
    "    return x"
   ]
  },
  {
   "cell_type": "code",
   "execution_count": 119,
   "metadata": {},
   "outputs": [],
   "source": [
    "by_category = rawset.by_category()\n",
    "batch_size = 100\n",
    "mycat = by_category['pdf']\n",
    "mycat.rebuild_categories(rawset.categories)\n",
    "sampler = block_sampler.BlockSamplerByFile(by_category['pdf'])\n",
    "encoder = batch_encoder.BatchEncoder(sampler, batch_size=batch_size,xs_encoder='8bits_11')\n",
    "itencoder = iter(encoder)"
   ]
  },
  {
   "cell_type": "code",
   "execution_count": 102,
   "metadata": {},
   "outputs": [],
   "source": [
    "sample = next(itencoder)"
   ]
  },
  {
   "cell_type": "code",
   "execution_count": 103,
   "metadata": {},
   "outputs": [],
   "source": [
    "model = tensorflow.keras.models.load_model(result_dir + '/28classes-attention.h5')"
   ]
  },
  {
   "cell_type": "code",
   "execution_count": 104,
   "metadata": {},
   "outputs": [],
   "source": [
    "layer_name = 'attScores'\n",
    "attention_layer_model = tensorflow.keras.Model(inputs=model.input,\n",
    "                                               outputs=model.get_layer(layer_name).output)\n",
    "attention_output = attention_layer_model.predict(sample)"
   ]
  },
  {
   "cell_type": "code",
   "execution_count": 105,
   "metadata": {},
   "outputs": [
    {
     "data": {
      "text/plain": [
       "(100, 512)"
      ]
     },
     "execution_count": 105,
     "metadata": {},
     "output_type": "execute_result"
    }
   ],
   "source": [
    "attention_output.shape"
   ]
  },
  {
   "cell_type": "code",
   "execution_count": 108,
   "metadata": {},
   "outputs": [
    {
     "data": {
      "text/plain": [
       "array([15, 15, 15, 15, 15, 15, 15, 15, 15, 15, 15, 15, 15, 15, 15, 15, 15,\n",
       "       15, 15, 15, 15, 15, 15, 15, 15, 15, 15, 15, 15, 15, 15, 15, 15, 15,\n",
       "       15, 15, 15, 15, 15, 15, 15, 15, 15, 15, 15, 15, 15, 15, 15, 15, 15,\n",
       "       15, 15, 15, 15, 15, 15, 15, 15, 15, 15, 15, 15, 15, 15, 15, 15, 15,\n",
       "       15, 15, 15, 15, 15, 15, 15, 15, 15, 15, 15, 15, 15, 15, 15, 15, 15,\n",
       "       15, 15, 15, 15, 15, 15, 15, 15, 15, 15, 15, 15, 15, 15, 15])"
      ]
     },
     "execution_count": 108,
     "metadata": {},
     "output_type": "execute_result"
    }
   ],
   "source": [
    "np.argmax(sample[1],axis=1)"
   ]
  },
  {
   "cell_type": "code",
   "execution_count": 128,
   "metadata": {},
   "outputs": [
    {
     "data": {
      "text/plain": [
       "(100, 28)"
      ]
     },
     "execution_count": 128,
     "metadata": {},
     "output_type": "execute_result"
    }
   ],
   "source": [
    "prediction = model.predict(sample)\n",
    "prediction.shape"
   ]
  },
  {
   "cell_type": "code",
   "execution_count": 137,
   "metadata": {},
   "outputs": [
    {
     "data": {
      "text/plain": [
       "<BarContainer object of 28 artists>"
      ]
     },
     "execution_count": 137,
     "metadata": {},
     "output_type": "execute_result"
    },
    {
     "data": {
      "image/png": "[encoded data removed]",
      "text/plain": [
       "<Figure size 432x288 with 1 Axes>"
      ]
     },
     "metadata": {
      "needs_background": "light"
     },
     "output_type": "display_data"
    }
   ],
   "source": [
    "plt.bar([rawset.ix_to_cat[x] for x in range(28)], prediction[0])"
   ]
  },
  {
   "cell_type": "code",
   "execution_count": 120,
   "metadata": {},
   "outputs": [
    {
     "name": "stdout",
     "output_type": "stream",
     "text": [
      "[[1.47035935e-05 1.30826549e-04 2.83225402e-02 ... 1.57158368e-03\n",
      "  1.13321259e-03 7.09535263e-04]\n",
      " [1.93217405e-04 1.61760824e-03 1.61948204e-01 ... 3.13802481e-01\n",
      "  1.15566172e-01 3.01789795e-03]\n",
      " [2.20473967e-02 8.10377125e-04 1.56980834e-03 ... 4.19650227e-03\n",
      "  2.06974754e-03 3.92324701e-02]\n",
      " ...\n",
      " [2.10601487e-04 2.78667634e-04 1.88148748e-02 ... 5.65418461e-03\n",
      "  1.43900374e-03 2.11701123e-03]\n",
      " [2.22302356e-06 2.55586401e-05 1.59884561e-02 ... 6.33714313e-04\n",
      "  2.42187511e-04 2.71419442e-04]\n",
      " [1.39434051e-05 4.83905060e-05 1.10978382e-02 ... 1.53370295e-03\n",
      "  5.90832962e-04 3.69621353e-04]]\n",
      "swf\n"
     ]
    },
    {
     "data": {
      "text/html": [
       "<div style=\"font-family:monospace;font-size:10px;\"><div><span style=\"background-color: rgba(255,250,250,1);\">02 </span><span style=\"background-color: rgba(255,250,250,1);\">02 </span><span style=\"background-color: rgba(255,250,250,1);\">01 </span><span style=\"background-color: rgba(255,250,250,1);\">01 </span><span style=\"background-color: rgba(255,250,250,1);\">01 </span><span style=\"background-color: rgba(255,250,250,1);\">01 </span><span style=\"background-color: rgba(255,250,250,1);\">02 </span><span style=\"background-color: rgba(255,250,250,1);\">01 </span><span style=\"background-color: rgba(255,250,250,1);\">02 </span><span style=\"background-color: rgba(255,250,250,1);\">02 </span><span style=\"background-color: rgba(255,250,250,1);\">02 </span><span style=\"background-color: rgba(255,250,250,1);\">02 </span><span style=\"background-color: rgba(255,250,250,1);\">02 </span><span style=\"background-color: rgba(255,250,250,1);\">01 </span><span style=\"background-color: rgba(255,250,250,1);\">01 </span><span style=\"background-color: rgba(255,250,250,1);\">02 </span> | <span style=\"background-color: rgba(255,250,250,1);\">.</span><span style=\"background-color: rgba(255,250,250,1);\">.</span><span style=\"background-color: rgba(255,250,250,1);\">.</span><span style=\"background-color: rgba(255,250,250,1);\">.</span><span style=\"background-color: rgba(255,250,250,1);\">.</span><span style=\"background-color: rgba(255,250,250,1);\">.</span><span style=\"background-color: rgba(255,250,250,1);\">.</span><span style=\"background-color: rgba(255,250,250,1);\">.</span><span style=\"background-color: rgba(255,250,250,1);\">.</span><span style=\"background-color: rgba(255,250,250,1);\">.</span><span style=\"background-color: rgba(255,250,250,1);\">.</span><span style=\"background-color: rgba(255,250,250,1);\">.</span><span style=\"background-color: rgba(255,250,250,1);\">.</span><span style=\"background-color: rgba(255,250,250,1);\">.</span><span style=\"background-color: rgba(255,250,250,1);\">.</span><span style=\"background-color: rgba(255,250,250,1);\">.</span></div><div><span style=\"background-color: rgba(255,250,250,1);\">02 </span><span style=\"background-color: rgba(255,250,250,1);\">02 </span><span style=\"background-color: rgba(255,250,250,1);\">02 </span><span style=\"background-color: rgba(255,250,250,1);\">02 </span><span style=\"background-color: rgba(255,250,250,1);\">02 </span><span style=\"background-color: rgba(255,250,250,1);\">02 </span><span style=\"background-color: rgba(255,250,250,1);\">01 </span><span style=\"background-color: rgba(255,250,250,1);\">01 </span><span style=\"background-color: rgba(255,250,250,1);\">02 </span><span style=\"background-color: rgba(255,250,250,1);\">02 </span><span style=\"background-color: rgba(255,250,250,1);\">01 </span><span style=\"background-color: rgba(255,250,250,1);\">02 </span><span style=\"background-color: rgba(255,250,250,1);\">01 </span><span style=\"background-color: rgba(255,250,250,1);\">02 </span><span style=\"background-color: rgba(255,250,250,1);\">02 </span><span style=\"background-color: rgba(255,250,250,1);\">02 </span> | <span style=\"background-color: rgba(255,250,250,1);\">.</span><span style=\"background-color: rgba(255,250,250,1);\">.</span><span style=\"background-color: rgba(255,250,250,1);\">.</span><span style=\"background-color: rgba(255,250,250,1);\">.</span><span style=\"background-color: rgba(255,250,250,1);\">.</span><span style=\"background-color: rgba(255,250,250,1);\">.</span><span style=\"background-color: rgba(255,250,250,1);\">.</span><span style=\"background-color: rgba(255,250,250,1);\">.</span><span style=\"background-color: rgba(255,250,250,1);\">.</span><span style=\"background-color: rgba(255,250,250,1);\">.</span><span style=\"background-color: rgba(255,250,250,1);\">.</span><span style=\"background-color: rgba(255,250,250,1);\">.</span><span style=\"background-color: rgba(255,250,250,1);\">.</span><span style=\"background-color: rgba(255,250,250,1);\">.</span><span style=\"background-color: rgba(255,250,250,1);\">.</span><span style=\"background-color: rgba(255,250,250,1);\">.</span></div><div><span style=\"background-color: rgba(255,250,250,1);\">01 </span><span style=\"background-color: rgba(255,250,250,1);\">02 </span><span style=\"background-color: rgba(255,250,250,1);\">02 </span><span style=\"background-color: rgba(255,250,250,1);\">01 </span><span style=\"background-color: rgba(255,250,250,1);\">01 </span><span style=\"background-color: rgba(255,250,250,1);\">01 </span><span style=\"background-color: rgba(255,250,250,1);\">01 </span><span style=\"background-color: rgba(255,250,250,1);\">01 </span><span style=\"background-color: rgba(255,250,250,1);\">01 </span><span style=\"background-color: rgba(255,250,250,1);\">01 </span><span style=\"background-color: rgba(255,250,250,1);\">02 </span><span style=\"background-color: rgba(255,250,250,1);\">01 </span><span style=\"background-color: rgba(255,250,250,1);\">02 </span><span style=\"background-color: rgba(255,250,250,1);\">02 </span><span style=\"background-color: rgba(255,250,250,1);\">04 </span><span style=\"background-color: rgba(255,250,250,1);\">04 </span> | <span style=\"background-color: rgba(255,250,250,1);\">.</span><span style=\"background-color: rgba(255,250,250,1);\">.</span><span style=\"background-color: rgba(255,250,250,1);\">.</span><span style=\"background-color: rgba(255,250,250,1);\">.</span><span style=\"background-color: rgba(255,250,250,1);\">.</span><span style=\"background-color: rgba(255,250,250,1);\">.</span><span style=\"background-color: rgba(255,250,250,1);\">.</span><span style=\"background-color: rgba(255,250,250,1);\">.</span><span style=\"background-color: rgba(255,250,250,1);\">.</span><span style=\"background-color: rgba(255,250,250,1);\">.</span><span style=\"background-color: rgba(255,250,250,1);\">.</span><span style=\"background-color: rgba(255,250,250,1);\">.</span><span style=\"background-color: rgba(255,250,250,1);\">.</span><span style=\"background-color: rgba(255,250,250,1);\">.</span><span style=\"background-color: rgba(255,250,250,1);\">.</span><span style=\"background-color: rgba(255,250,250,1);\">.</span></div><div><span style=\"background-color: rgba(255,250,250,1);\">01 </span><span style=\"background-color: rgba(255,250,250,1);\">01 </span><span style=\"background-color: rgba(255,250,250,1);\">01 </span><span style=\"background-color: rgba(255,250,250,1);\">01 </span><span style=\"background-color: rgba(255,250,250,1);\">01 </span><span style=\"background-color: rgba(255,250,250,1);\">01 </span><span style=\"background-color: rgba(255,250,250,1);\">01 </span><span style=\"background-color: rgba(255,250,250,1);\">01 </span><span style=\"background-color: rgba(255,250,250,1);\">01 </span><span style=\"background-color: rgba(255,250,250,1);\">04 </span><span style=\"background-color: rgba(255,250,250,1);\">04 </span><span style=\"background-color: rgba(255,250,250,1);\">02 </span><span style=\"background-color: rgba(255,250,250,1);\">04 </span><span style=\"background-color: rgba(255,250,250,1);\">04 </span><span style=\"background-color: rgba(255,250,250,1);\">02 </span><span style=\"background-color: rgba(255,250,250,1);\">02 </span> | <span style=\"background-color: rgba(255,250,250,1);\">.</span><span style=\"background-color: rgba(255,250,250,1);\">.</span><span style=\"background-color: rgba(255,250,250,1);\">.</span><span style=\"background-color: rgba(255,250,250,1);\">.</span><span style=\"background-color: rgba(255,250,250,1);\">.</span><span style=\"background-color: rgba(255,250,250,1);\">.</span><span style=\"background-color: rgba(255,250,250,1);\">.</span><span style=\"background-color: rgba(255,250,250,1);\">.</span><span style=\"background-color: rgba(255,250,250,1);\">.</span><span style=\"background-color: rgba(255,250,250,1);\">.</span><span style=\"background-color: rgba(255,250,250,1);\">.</span><span style=\"background-color: rgba(255,250,250,1);\">.</span><span style=\"background-color: rgba(255,250,250,1);\">.</span><span style=\"background-color: rgba(255,250,250,1);\">.</span><span style=\"background-color: rgba(255,250,250,1);\">.</span><span style=\"background-color: rgba(255,250,250,1);\">.</span></div><div><span style=\"background-color: rgba(255,250,250,1);\">01 </span><span style=\"background-color: rgba(255,250,250,1);\">01 </span><span style=\"background-color: rgba(255,250,250,1);\">01 </span><span style=\"background-color: rgba(255,250,250,1);\">04 </span><span style=\"background-color: rgba(255,250,250,1);\">04 </span><span style=\"background-color: rgba(255,250,250,1);\">02 </span><span style=\"background-color: rgba(255,250,250,1);\">02 </span><span style=\"background-color: rgba(255,250,250,1);\">02 </span><span style=\"background-color: rgba(255,250,250,1);\">02 </span><span style=\"background-color: rgba(255,250,250,1);\">02 </span><span style=\"background-color: rgba(255,250,250,1);\">02 </span><span style=\"background-color: rgba(255,250,250,1);\">02 </span><span style=\"background-color: rgba(255,250,250,1);\">02 </span><span style=\"background-color: rgba(255,250,250,1);\">02 </span><span style=\"background-color: rgba(255,250,250,1);\">02 </span><span style=\"background-color: rgba(255,250,250,1);\">02 </span> | <span style=\"background-color: rgba(255,250,250,1);\">.</span><span style=\"background-color: rgba(255,250,250,1);\">.</span><span style=\"background-color: rgba(255,250,250,1);\">.</span><span style=\"background-color: rgba(255,250,250,1);\">.</span><span style=\"background-color: rgba(255,250,250,1);\">.</span><span style=\"background-color: rgba(255,250,250,1);\">.</span><span style=\"background-color: rgba(255,250,250,1);\">.</span><span style=\"background-color: rgba(255,250,250,1);\">.</span><span style=\"background-color: rgba(255,250,250,1);\">.</span><span style=\"background-color: rgba(255,250,250,1);\">.</span><span style=\"background-color: rgba(255,250,250,1);\">.</span><span style=\"background-color: rgba(255,250,250,1);\">.</span><span style=\"background-color: rgba(255,250,250,1);\">.</span><span style=\"background-color: rgba(255,250,250,1);\">.</span><span style=\"background-color: rgba(255,250,250,1);\">.</span><span style=\"background-color: rgba(255,250,250,1);\">.</span></div><div><span style=\"background-color: rgba(255,250,250,1);\">02 </span><span style=\"background-color: rgba(255,250,250,1);\">02 </span><span style=\"background-color: rgba(255,250,250,1);\">04 </span><span style=\"background-color: rgba(255,250,250,1);\">04 </span><span style=\"background-color: rgba(255,250,250,1);\">02 </span><span style=\"background-color: rgba(255,250,250,1);\">02 </span><span style=\"background-color: rgba(255,250,250,1);\">02 </span><span style=\"background-color: rgba(255,250,250,1);\">02 </span><span style=\"background-color: rgba(255,250,250,1);\">02 </span><span style=\"background-color: rgba(255,250,250,1);\">01 </span><span style=\"background-color: rgba(255,250,250,1);\">01 </span><span style=\"background-color: rgba(255,250,250,1);\">01 </span><span style=\"background-color: rgba(255,250,250,1);\">02 </span><span style=\"background-color: rgba(255,250,250,1);\">02 </span><span style=\"background-color: rgba(255,250,250,1);\">02 </span><span style=\"background-color: rgba(255,250,250,1);\">01 </span> | <span style=\"background-color: rgba(255,250,250,1);\">.</span><span style=\"background-color: rgba(255,250,250,1);\">.</span><span style=\"background-color: rgba(255,250,250,1);\">.</span><span style=\"background-color: rgba(255,250,250,1);\">.</span><span style=\"background-color: rgba(255,250,250,1);\">.</span><span style=\"background-color: rgba(255,250,250,1);\">.</span><span style=\"background-color: rgba(255,250,250,1);\">.</span><span style=\"background-color: rgba(255,250,250,1);\">.</span><span style=\"background-color: rgba(255,250,250,1);\">.</span><span style=\"background-color: rgba(255,250,250,1);\">.</span><span style=\"background-color: rgba(255,250,250,1);\">.</span><span style=\"background-color: rgba(255,250,250,1);\">.</span><span style=\"background-color: rgba(255,250,250,1);\">.</span><span style=\"background-color: rgba(255,250,250,1);\">.</span><span style=\"background-color: rgba(255,250,250,1);\">.</span><span style=\"background-color: rgba(255,250,250,1);\">.</span></div><div><span style=\"background-color: rgba(255,250,250,1);\">01 </span><span style=\"background-color: rgba(255,250,250,1);\">01 </span><span style=\"background-color: rgba(255,250,250,1);\">01 </span><span style=\"background-color: rgba(255,250,250,1);\">01 </span><span style=\"background-color: rgba(255,250,250,1);\">01 </span><span style=\"background-color: rgba(255,250,250,1);\">02 </span><span style=\"background-color: rgba(255,250,250,1);\">02 </span><span style=\"background-color: rgba(255,250,250,1);\">02 </span><span style=\"background-color: rgba(255,250,250,1);\">02 </span><span style=\"background-color: rgba(255,250,250,1);\">02 </span><span style=\"background-color: rgba(255,250,250,1);\">01 </span><span style=\"background-color: rgba(255,250,250,1);\">01 </span><span style=\"background-color: rgba(255,250,250,1);\">01 </span><span style=\"background-color: rgba(255,250,250,1);\">01 </span><span style=\"background-color: rgba(255,250,250,1);\">01 </span><span style=\"background-color: rgba(255,250,250,1);\">01 </span> | <span style=\"background-color: rgba(255,250,250,1);\">.</span><span style=\"background-color: rgba(255,250,250,1);\">.</span><span style=\"background-color: rgba(255,250,250,1);\">.</span><span style=\"background-color: rgba(255,250,250,1);\">.</span><span style=\"background-color: rgba(255,250,250,1);\">.</span><span style=\"background-color: rgba(255,250,250,1);\">.</span><span style=\"background-color: rgba(255,250,250,1);\">.</span><span style=\"background-color: rgba(255,250,250,1);\">.</span><span style=\"background-color: rgba(255,250,250,1);\">.</span><span style=\"background-color: rgba(255,250,250,1);\">.</span><span style=\"background-color: rgba(255,250,250,1);\">.</span><span style=\"background-color: rgba(255,250,250,1);\">.</span><span style=\"background-color: rgba(255,250,250,1);\">.</span><span style=\"background-color: rgba(255,250,250,1);\">.</span><span style=\"background-color: rgba(255,250,250,1);\">.</span><span style=\"background-color: rgba(255,250,250,1);\">.</span></div><div><span style=\"background-color: rgba(255,250,250,1);\">02 </span><span style=\"background-color: rgba(255,250,250,1);\">01 </span><span style=\"background-color: rgba(255,250,250,1);\">01 </span><span style=\"background-color: rgba(255,250,250,1);\">01 </span><span style=\"background-color: rgba(255,250,250,1);\">01 </span><span style=\"background-color: rgba(255,250,250,1);\">01 </span><span style=\"background-color: rgba(255,250,250,1);\">01 </span><span style=\"background-color: rgba(255,250,250,1);\">01 </span><span style=\"background-color: rgba(255,250,250,1);\">01 </span><span style=\"background-color: rgba(255,250,250,1);\">01 </span><span style=\"background-color: rgba(255,250,250,1);\">01 </span><span style=\"background-color: rgba(255,250,250,1);\">01 </span><span style=\"background-color: rgba(255,250,250,1);\">02 </span><span style=\"background-color: rgba(255,250,250,1);\">01 </span><span style=\"background-color: rgba(255,250,250,1);\">02 </span><span style=\"background-color: rgba(255,250,250,1);\">02 </span> | <span style=\"background-color: rgba(255,250,250,1);\">.</span><span style=\"background-color: rgba(255,250,250,1);\">.</span><span style=\"background-color: rgba(255,250,250,1);\">.</span><span style=\"background-color: rgba(255,250,250,1);\">.</span><span style=\"background-color: rgba(255,250,250,1);\">.</span><span style=\"background-color: rgba(255,250,250,1);\">.</span><span style=\"background-color: rgba(255,250,250,1);\">.</span><span style=\"background-color: rgba(255,250,250,1);\">.</span><span style=\"background-color: rgba(255,250,250,1);\">.</span><span style=\"background-color: rgba(255,250,250,1);\">.</span><span style=\"background-color: rgba(255,250,250,1);\">.</span><span style=\"background-color: rgba(255,250,250,1);\">.</span><span style=\"background-color: rgba(255,250,250,1);\">.</span><span style=\"background-color: rgba(255,250,250,1);\">.</span><span style=\"background-color: rgba(255,250,250,1);\">.</span><span style=\"background-color: rgba(255,250,250,1);\">.</span></div><div><span style=\"background-color: rgba(255,250,250,1);\">02 </span><span style=\"background-color: rgba(255,250,250,1);\">02 </span><span style=\"background-color: rgba(255,250,250,1);\">02 </span><span style=\"background-color: rgba(255,250,250,1);\">01 </span><span style=\"background-color: rgba(255,250,250,1);\">02 </span><span style=\"background-color: rgba(255,250,250,1);\">02 </span><span style=\"background-color: rgba(255,250,250,1);\">02 </span><span style=\"background-color: rgba(255,250,250,1);\">02 </span><span style=\"background-color: rgba(255,250,250,1);\">02 </span><span style=\"background-color: rgba(255,250,250,1);\">01 </span><span style=\"background-color: rgba(255,250,250,1);\">02 </span><span style=\"background-color: rgba(255,250,250,1);\">02 </span><span style=\"background-color: rgba(255,250,250,1);\">02 </span><span style=\"background-color: rgba(255,250,250,1);\">02 </span><span style=\"background-color: rgba(255,250,250,1);\">02 </span><span style=\"background-color: rgba(255,250,250,1);\">02 </span> | <span style=\"background-color: rgba(255,250,250,1);\">.</span><span style=\"background-color: rgba(255,250,250,1);\">.</span><span style=\"background-color: rgba(255,250,250,1);\">.</span><span style=\"background-color: rgba(255,250,250,1);\">.</span><span style=\"background-color: rgba(255,250,250,1);\">.</span><span style=\"background-color: rgba(255,250,250,1);\">.</span><span style=\"background-color: rgba(255,250,250,1);\">.</span><span style=\"background-color: rgba(255,250,250,1);\">.</span><span style=\"background-color: rgba(255,250,250,1);\">.</span><span style=\"background-color: rgba(255,250,250,1);\">.</span><span style=\"background-color: rgba(255,250,250,1);\">.</span><span style=\"background-color: rgba(255,250,250,1);\">.</span><span style=\"background-color: rgba(255,250,250,1);\">.</span><span style=\"background-color: rgba(255,250,250,1);\">.</span><span style=\"background-color: rgba(255,250,250,1);\">.</span><span style=\"background-color: rgba(255,250,250,1);\">.</span></div><div><span style=\"background-color: rgba(255,250,250,1);\">01 </span><span style=\"background-color: rgba(255,250,250,1);\">01 </span><span style=\"background-color: rgba(255,250,250,1);\">01 </span><span style=\"background-color: rgba(255,250,250,1);\">01 </span><span style=\"background-color: rgba(255,250,250,1);\">01 </span><span style=\"background-color: rgba(255,250,250,1);\">01 </span><span style=\"background-color: rgba(255,250,250,1);\">04 </span><span style=\"background-color: rgba(255,250,250,1);\">04 </span><span style=\"background-color: rgba(255,250,250,1);\">01 </span><span style=\"background-color: rgba(255,250,250,1);\">00 </span><span style=\"background-color: rgba(255,250,250,1);\">01 </span><span style=\"background-color: rgba(255,250,250,1);\">01 </span><span style=\"background-color: rgba(255,250,250,1);\">01 </span><span style=\"background-color: rgba(255,250,250,1);\">01 </span><span style=\"background-color: rgba(255,250,250,1);\">01 </span><span style=\"background-color: rgba(255,250,250,1);\">01 </span> | <span style=\"background-color: rgba(255,250,250,1);\">.</span><span style=\"background-color: rgba(255,250,250,1);\">.</span><span style=\"background-color: rgba(255,250,250,1);\">.</span><span style=\"background-color: rgba(255,250,250,1);\">.</span><span style=\"background-color: rgba(255,250,250,1);\">.</span><span style=\"background-color: rgba(255,250,250,1);\">.</span><span style=\"background-color: rgba(255,250,250,1);\">.</span><span style=\"background-color: rgba(255,250,250,1);\">.</span><span style=\"background-color: rgba(255,250,250,1);\">.</span><span style=\"background-color: rgba(255,250,250,1);\">.</span><span style=\"background-color: rgba(255,250,250,1);\">.</span><span style=\"background-color: rgba(255,250,250,1);\">.</span><span style=\"background-color: rgba(255,250,250,1);\">.</span><span style=\"background-color: rgba(255,250,250,1);\">.</span><span style=\"background-color: rgba(255,250,250,1);\">.</span><span style=\"background-color: rgba(255,250,250,1);\">.</span></div><div><span style=\"background-color: rgba(255,250,250,1);\">01 </span><span style=\"background-color: rgba(255,250,250,1);\">01 </span><span style=\"background-color: rgba(255,250,250,1);\">00 </span><span style=\"background-color: rgba(255,250,250,1);\">00 </span><span style=\"background-color: rgba(255,250,250,1);\">06 </span><span style=\"background-color: rgba(255,250,250,1);\">02 </span><span style=\"background-color: rgba(255,250,250,1);\">00 </span><span style=\"background-color: rgba(255,249,249,1);\">02 </span><span style=\"background-color: rgba(255,250,250,1);\">00 </span><span style=\"background-color: rgba(255,250,250,1);\">02 </span><span style=\"background-color: rgba(255,250,250,1);\">02 </span><span style=\"background-color: rgba(255,250,250,1);\">00 </span><span style=\"background-color: rgba(255,250,250,1);\">02 </span><span style=\"background-color: rgba(255,250,250,1);\">01 </span><span style=\"background-color: rgba(255,250,250,1);\">04 </span><span style=\"background-color: rgba(255,250,250,1);\">05 </span> | <span style=\"background-color: rgba(255,250,250,1);\">.</span><span style=\"background-color: rgba(255,250,250,1);\">.</span><span style=\"background-color: rgba(255,250,250,1);\">.</span><span style=\"background-color: rgba(255,250,250,1);\">.</span><span style=\"background-color: rgba(255,250,250,1);\">.</span><span style=\"background-color: rgba(255,250,250,1);\">.</span><span style=\"background-color: rgba(255,250,250,1);\">.</span><span style=\"background-color: rgba(255,249,249,1);\">.</span><span style=\"background-color: rgba(255,250,250,1);\">.</span><span style=\"background-color: rgba(255,250,250,1);\">.</span><span style=\"background-color: rgba(255,250,250,1);\">.</span><span style=\"background-color: rgba(255,250,250,1);\">.</span><span style=\"background-color: rgba(255,250,250,1);\">.</span><span style=\"background-color: rgba(255,250,250,1);\">.</span><span style=\"background-color: rgba(255,250,250,1);\">.</span><span style=\"background-color: rgba(255,250,250,1);\">.</span></div><div><span style=\"background-color: rgba(255,250,250,1);\">02 </span><span style=\"background-color: rgba(255,250,250,1);\">02 </span><span style=\"background-color: rgba(255,250,250,1);\">00 </span><span style=\"background-color: rgba(255,249,249,1);\">00 </span><span style=\"background-color: rgba(255,249,249,1);\">00 </span><span style=\"background-color: rgba(255,250,250,1);\">02 </span><span style=\"background-color: rgba(255,250,250,1);\">01 </span><span style=\"background-color: rgba(255,249,249,1);\">00 </span><span style=\"background-color: rgba(255,250,250,1);\">00 </span><span style=\"background-color: rgba(255,249,249,1);\">05 </span><span style=\"background-color: rgba(255,250,250,1);\">02 </span><span style=\"background-color: rgba(255,249,249,1);\">00 </span><span style=\"background-color: rgba(255,249,249,1);\">00 </span><span style=\"background-color: rgba(255,249,249,1);\">00 </span><span style=\"background-color: rgba(255,249,249,1);\">01 </span><span style=\"background-color: rgba(255,250,250,1);\">00 </span> | <span style=\"background-color: rgba(255,250,250,1);\">.</span><span style=\"background-color: rgba(255,250,250,1);\">.</span><span style=\"background-color: rgba(255,250,250,1);\">.</span><span style=\"background-color: rgba(255,249,249,1);\">.</span><span style=\"background-color: rgba(255,249,249,1);\">.</span><span style=\"background-color: rgba(255,250,250,1);\">.</span><span style=\"background-color: rgba(255,250,250,1);\">.</span><span style=\"background-color: rgba(255,249,249,1);\">.</span><span style=\"background-color: rgba(255,250,250,1);\">.</span><span style=\"background-color: rgba(255,249,249,1);\">.</span><span style=\"background-color: rgba(255,250,250,1);\">.</span><span style=\"background-color: rgba(255,249,249,1);\">.</span><span style=\"background-color: rgba(255,249,249,1);\">.</span><span style=\"background-color: rgba(255,249,249,1);\">.</span><span style=\"background-color: rgba(255,249,249,1);\">.</span><span style=\"background-color: rgba(255,250,250,1);\">.</span></div><div><span style=\"background-color: rgba(255,249,249,1);\">01 </span><span style=\"background-color: rgba(255,249,249,1);\">02 </span><span style=\"background-color: rgba(255,249,249,1);\">00 </span><span style=\"background-color: rgba(255,250,250,1);\">00 </span><span style=\"background-color: rgba(255,250,250,1);\">05 </span><span style=\"background-color: rgba(255,250,250,1);\">04 </span><span style=\"background-color: rgba(255,249,249,1);\">04 </span><span style=\"background-color: rgba(255,248,248,1);\">00 </span><span style=\"background-color: rgba(255,249,249,1);\">00 </span><span style=\"background-color: rgba(255,249,249,1);\">00 </span><span style=\"background-color: rgba(255,250,250,1);\">00 </span><span style=\"background-color: rgba(255,250,250,1);\">00 </span><span style=\"background-color: rgba(255,250,250,1);\">07 </span><span style=\"background-color: rgba(255,250,250,1);\">02 </span><span style=\"background-color: rgba(255,250,250,1);\">02 </span><span style=\"background-color: rgba(255,250,250,1);\">01 </span> | <span style=\"background-color: rgba(255,249,249,1);\">.</span><span style=\"background-color: rgba(255,249,249,1);\">.</span><span style=\"background-color: rgba(255,249,249,1);\">.</span><span style=\"background-color: rgba(255,250,250,1);\">.</span><span style=\"background-color: rgba(255,250,250,1);\">.</span><span style=\"background-color: rgba(255,250,250,1);\">.</span><span style=\"background-color: rgba(255,249,249,1);\">.</span><span style=\"background-color: rgba(255,248,248,1);\">.</span><span style=\"background-color: rgba(255,249,249,1);\">.</span><span style=\"background-color: rgba(255,249,249,1);\">.</span><span style=\"background-color: rgba(255,250,250,1);\">.</span><span style=\"background-color: rgba(255,250,250,1);\">.</span><span style=\"background-color: rgba(255,250,250,1);\">.</span><span style=\"background-color: rgba(255,250,250,1);\">.</span><span style=\"background-color: rgba(255,250,250,1);\">.</span><span style=\"background-color: rgba(255,250,250,1);\">.</span></div><div><span style=\"background-color: rgba(255,250,250,1);\">00 </span><span style=\"background-color: rgba(255,250,250,1);\">03 </span><span style=\"background-color: rgba(255,249,249,1);\">01 </span><span style=\"background-color: rgba(255,249,249,1);\">00 </span><span style=\"background-color: rgba(255,158,158,1);\">00 </span><span style=\"background-color: rgba(255,249,249,1);\">00 </span><span style=\"background-color: rgba(255,249,249,1);\">00 </span><span style=\"background-color: rgba(255,250,250,1);\">04 </span><span style=\"background-color: rgba(255,249,249,1);\">04 </span><span style=\"background-color: rgba(255,249,249,1);\">00 </span><span style=\"background-color: rgba(255,249,249,1);\">00 </span><span style=\"background-color: rgba(255,249,249,1);\">00 </span><span style=\"background-color: rgba(255,249,249,1);\">00 </span><span style=\"background-color: rgba(255,249,249,1);\">00 </span><span style=\"background-color: rgba(255,250,250,1);\">06 </span><span style=\"background-color: rgba(255,249,249,1);\">03 </span> | <span style=\"background-color: rgba(255,250,250,1);\">.</span><span style=\"background-color: rgba(255,250,250,1);\">.</span><span style=\"background-color: rgba(255,249,249,1);\">.</span><span style=\"background-color: rgba(255,249,249,1);\">.</span><span style=\"background-color: rgba(255,158,158,1);\">.</span><span style=\"background-color: rgba(255,249,249,1);\">.</span><span style=\"background-color: rgba(255,249,249,1);\">.</span><span style=\"background-color: rgba(255,250,250,1);\">.</span><span style=\"background-color: rgba(255,249,249,1);\">.</span><span style=\"background-color: rgba(255,249,249,1);\">.</span><span style=\"background-color: rgba(255,249,249,1);\">.</span><span style=\"background-color: rgba(255,249,249,1);\">.</span><span style=\"background-color: rgba(255,249,249,1);\">.</span><span style=\"background-color: rgba(255,249,249,1);\">.</span><span style=\"background-color: rgba(255,250,250,1);\">.</span><span style=\"background-color: rgba(255,249,249,1);\">.</span></div><div><span style=\"background-color: rgba(255,249,249,1);\">00 </span><span style=\"background-color: rgba(255,249,249,1);\">00 </span><span style=\"background-color: rgba(255,249,249,1);\">00 </span><span style=\"background-color: rgba(255,250,250,1);\">02 </span><span style=\"background-color: rgba(255,250,250,1);\">00 </span><span style=\"background-color: rgba(255,249,249,1);\">00 </span><span style=\"background-color: rgba(255,250,250,1);\">00 </span><span style=\"background-color: rgba(255,249,249,1);\">00 </span><span style=\"background-color: rgba(255,250,250,1);\">00 </span><span style=\"background-color: rgba(255,250,250,1);\">00 </span><span style=\"background-color: rgba(255,249,249,1);\">00 </span><span style=\"background-color: rgba(255,250,250,1);\">00 </span><span style=\"background-color: rgba(255,250,250,1);\">00 </span><span style=\"background-color: rgba(255,250,250,1);\">00 </span><span style=\"background-color: rgba(255,250,250,1);\">00 </span><span style=\"background-color: rgba(255,249,249,1);\">03 </span> | <span style=\"background-color: rgba(255,249,249,1);\">.</span><span style=\"background-color: rgba(255,249,249,1);\">.</span><span style=\"background-color: rgba(255,249,249,1);\">.</span><span style=\"background-color: rgba(255,250,250,1);\">.</span><span style=\"background-color: rgba(255,250,250,1);\">.</span><span style=\"background-color: rgba(255,249,249,1);\">.</span><span style=\"background-color: rgba(255,250,250,1);\">.</span><span style=\"background-color: rgba(255,249,249,1);\">.</span><span style=\"background-color: rgba(255,250,250,1);\">.</span><span style=\"background-color: rgba(255,250,250,1);\">.</span><span style=\"background-color: rgba(255,249,249,1);\">.</span><span style=\"background-color: rgba(255,250,250,1);\">.</span><span style=\"background-color: rgba(255,250,250,1);\">.</span><span style=\"background-color: rgba(255,250,250,1);\">.</span><span style=\"background-color: rgba(255,250,250,1);\">.</span><span style=\"background-color: rgba(255,249,249,1);\">.</span></div><div><span style=\"background-color: rgba(255,250,250,1);\">01 </span><span style=\"background-color: rgba(255,249,249,1);\">04 </span><span style=\"background-color: rgba(255,250,250,1);\">01 </span><span style=\"background-color: rgba(255,0,0,1);\">03 </span><span style=\"background-color: rgba(255,249,249,1);\">05 </span><span style=\"background-color: rgba(255,250,250,1);\">00 </span><span style=\"background-color: rgba(255,250,250,1);\">04 </span><span style=\"background-color: rgba(255,250,250,1);\">01 </span><span style=\"background-color: rgba(255,250,250,1);\">00 </span><span style=\"background-color: rgba(255,250,250,1);\">05 </span><span style=\"background-color: rgba(255,250,250,1);\">00 </span><span style=\"background-color: rgba(255,250,250,1);\">03 </span><span style=\"background-color: rgba(255,250,250,1);\">03 </span><span style=\"background-color: rgba(255,250,250,1);\">00 </span><span style=\"background-color: rgba(255,250,250,1);\">03 </span><span style=\"background-color: rgba(255,250,250,1);\">01 </span> | <span style=\"background-color: rgba(255,250,250,1);\">.</span><span style=\"background-color: rgba(255,249,249,1);\">.</span><span style=\"background-color: rgba(255,250,250,1);\">.</span><span style=\"background-color: rgba(255,0,0,1);\">.</span><span style=\"background-color: rgba(255,249,249,1);\">.</span><span style=\"background-color: rgba(255,250,250,1);\">.</span><span style=\"background-color: rgba(255,250,250,1);\">.</span><span style=\"background-color: rgba(255,250,250,1);\">.</span><span style=\"background-color: rgba(255,250,250,1);\">.</span><span style=\"background-color: rgba(255,250,250,1);\">.</span><span style=\"background-color: rgba(255,250,250,1);\">.</span><span style=\"background-color: rgba(255,250,250,1);\">.</span><span style=\"background-color: rgba(255,250,250,1);\">.</span><span style=\"background-color: rgba(255,250,250,1);\">.</span><span style=\"background-color: rgba(255,250,250,1);\">.</span><span style=\"background-color: rgba(255,250,250,1);\">.</span></div><div><span style=\"background-color: rgba(255,250,250,1);\">01 </span><span style=\"background-color: rgba(255,249,249,1);\">02 </span><span style=\"background-color: rgba(255,250,250,1);\">02 </span><span style=\"background-color: rgba(255,250,250,1);\">01 </span><span style=\"background-color: rgba(255,250,250,1);\">01 </span><span style=\"background-color: rgba(255,250,250,1);\">00 </span><span style=\"background-color: rgba(255,250,250,1);\">01 </span><span style=\"background-color: rgba(255,250,250,1);\">01 </span><span style=\"background-color: rgba(255,249,249,1);\">00 </span><span style=\"background-color: rgba(255,250,250,1);\">00 </span><span style=\"background-color: rgba(255,250,250,1);\">00 </span><span style=\"background-color: rgba(255,250,250,1);\">02 </span><span style=\"background-color: rgba(255,250,250,1);\">01 </span><span style=\"background-color: rgba(255,250,250,1);\">02 </span><span style=\"background-color: rgba(255,249,249,1);\">00 </span><span style=\"background-color: rgba(255,250,250,1);\">00 </span> | <span style=\"background-color: rgba(255,250,250,1);\">.</span><span style=\"background-color: rgba(255,249,249,1);\">.</span><span style=\"background-color: rgba(255,250,250,1);\">.</span><span style=\"background-color: rgba(255,250,250,1);\">.</span><span style=\"background-color: rgba(255,250,250,1);\">.</span><span style=\"background-color: rgba(255,250,250,1);\">.</span><span style=\"background-color: rgba(255,250,250,1);\">.</span><span style=\"background-color: rgba(255,250,250,1);\">.</span><span style=\"background-color: rgba(255,249,249,1);\">.</span><span style=\"background-color: rgba(255,250,250,1);\">.</span><span style=\"background-color: rgba(255,250,250,1);\">.</span><span style=\"background-color: rgba(255,250,250,1);\">.</span><span style=\"background-color: rgba(255,250,250,1);\">.</span><span style=\"background-color: rgba(255,250,250,1);\">.</span><span style=\"background-color: rgba(255,249,249,1);\">.</span><span style=\"background-color: rgba(255,250,250,1);\">.</span></div><div><span style=\"background-color: rgba(255,250,250,1);\">00 </span><span style=\"background-color: rgba(255,250,250,1);\">04 </span><span style=\"background-color: rgba(255,250,250,1);\">00 </span><span style=\"background-color: rgba(255,250,250,1);\">00 </span><span style=\"background-color: rgba(255,249,249,1);\">02 </span><span style=\"background-color: rgba(255,250,250,1);\">00 </span><span style=\"background-color: rgba(255,249,249,1);\">04 </span><span style=\"background-color: rgba(255,250,250,1);\">04 </span><span style=\"background-color: rgba(255,250,250,1);\">01 </span><span style=\"background-color: rgba(255,250,250,1);\">02 </span><span style=\"background-color: rgba(255,250,250,1);\">01 </span><span style=\"background-color: rgba(255,249,249,1);\">00 </span><span style=\"background-color: rgba(255,249,249,1);\">04 </span><span style=\"background-color: rgba(255,249,249,1);\">00 </span><span style=\"background-color: rgba(255,249,249,1);\">00 </span><span style=\"background-color: rgba(255,250,250,1);\">00 </span> | <span style=\"background-color: rgba(255,250,250,1);\">.</span><span style=\"background-color: rgba(255,250,250,1);\">.</span><span style=\"background-color: rgba(255,250,250,1);\">.</span><span style=\"background-color: rgba(255,250,250,1);\">.</span><span style=\"background-color: rgba(255,249,249,1);\">.</span><span style=\"background-color: rgba(255,250,250,1);\">.</span><span style=\"background-color: rgba(255,249,249,1);\">.</span><span style=\"background-color: rgba(255,250,250,1);\">.</span><span style=\"background-color: rgba(255,250,250,1);\">.</span><span style=\"background-color: rgba(255,250,250,1);\">.</span><span style=\"background-color: rgba(255,250,250,1);\">.</span><span style=\"background-color: rgba(255,249,249,1);\">.</span><span style=\"background-color: rgba(255,249,249,1);\">.</span><span style=\"background-color: rgba(255,249,249,1);\">.</span><span style=\"background-color: rgba(255,249,249,1);\">.</span><span style=\"background-color: rgba(255,250,250,1);\">.</span></div><div><span style=\"background-color: rgba(255,250,250,1);\">01 </span><span style=\"background-color: rgba(255,249,249,1);\">00 </span><span style=\"background-color: rgba(255,250,250,1);\">00 </span><span style=\"background-color: rgba(255,250,250,1);\">02 </span><span style=\"background-color: rgba(255,250,250,1);\">02 </span><span style=\"background-color: rgba(255,250,250,1);\">03 </span><span style=\"background-color: rgba(255,250,250,1);\">01 </span><span style=\"background-color: rgba(255,238,238,1);\">02 </span><span style=\"background-color: rgba(255,249,249,1);\">06 </span><span style=\"background-color: rgba(255,249,249,1);\">00 </span><span style=\"background-color: rgba(255,250,250,1);\">01 </span><span style=\"background-color: rgba(255,250,250,1);\">00 </span><span style=\"background-color: rgba(255,250,250,1);\">00 </span><span style=\"background-color: rgba(255,250,250,1);\">06 </span><span style=\"background-color: rgba(255,250,250,1);\">00 </span><span style=\"background-color: rgba(255,250,250,1);\">03 </span> | <span style=\"background-color: rgba(255,250,250,1);\">.</span><span style=\"background-color: rgba(255,249,249,1);\">.</span><span style=\"background-color: rgba(255,250,250,1);\">.</span><span style=\"background-color: rgba(255,250,250,1);\">.</span><span style=\"background-color: rgba(255,250,250,1);\">.</span><span style=\"background-color: rgba(255,250,250,1);\">.</span><span style=\"background-color: rgba(255,250,250,1);\">.</span><span style=\"background-color: rgba(255,238,238,1);\">.</span><span style=\"background-color: rgba(255,249,249,1);\">.</span><span style=\"background-color: rgba(255,249,249,1);\">.</span><span style=\"background-color: rgba(255,250,250,1);\">.</span><span style=\"background-color: rgba(255,250,250,1);\">.</span><span style=\"background-color: rgba(255,250,250,1);\">.</span><span style=\"background-color: rgba(255,250,250,1);\">.</span><span style=\"background-color: rgba(255,250,250,1);\">.</span><span style=\"background-color: rgba(255,250,250,1);\">.</span></div><div><span style=\"background-color: rgba(255,250,250,1);\">00 </span><span style=\"background-color: rgba(255,250,250,1);\">02 </span><span style=\"background-color: rgba(255,250,250,1);\">00 </span><span style=\"background-color: rgba(255,250,250,1);\">04 </span><span style=\"background-color: rgba(255,250,250,1);\">04 </span><span style=\"background-color: rgba(255,250,250,1);\">01 </span><span style=\"background-color: rgba(255,250,250,1);\">01 </span><span style=\"background-color: rgba(255,250,250,1);\">01 </span><span style=\"background-color: rgba(255,250,250,1);\">01 </span><span style=\"background-color: rgba(255,250,250,1);\">01 </span><span style=\"background-color: rgba(255,250,250,1);\">01 </span><span style=\"background-color: rgba(255,250,250,1);\">01 </span><span style=\"background-color: rgba(255,250,250,1);\">01 </span><span style=\"background-color: rgba(255,250,250,1);\">01 </span><span style=\"background-color: rgba(255,250,250,1);\">04 </span><span style=\"background-color: rgba(255,250,250,1);\">01 </span> | <span style=\"background-color: rgba(255,250,250,1);\">.</span><span style=\"background-color: rgba(255,250,250,1);\">.</span><span style=\"background-color: rgba(255,250,250,1);\">.</span><span style=\"background-color: rgba(255,250,250,1);\">.</span><span style=\"background-color: rgba(255,250,250,1);\">.</span><span style=\"background-color: rgba(255,250,250,1);\">.</span><span style=\"background-color: rgba(255,250,250,1);\">.</span><span style=\"background-color: rgba(255,250,250,1);\">.</span><span style=\"background-color: rgba(255,250,250,1);\">.</span><span style=\"background-color: rgba(255,250,250,1);\">.</span><span style=\"background-color: rgba(255,250,250,1);\">.</span><span style=\"background-color: rgba(255,250,250,1);\">.</span><span style=\"background-color: rgba(255,250,250,1);\">.</span><span style=\"background-color: rgba(255,250,250,1);\">.</span><span style=\"background-color: rgba(255,250,250,1);\">.</span><span style=\"background-color: rgba(255,250,250,1);\">.</span></div><div><span style=\"background-color: rgba(255,250,250,1);\">01 </span><span style=\"background-color: rgba(255,250,250,1);\">01 </span><span style=\"background-color: rgba(255,250,250,1);\">01 </span><span style=\"background-color: rgba(255,250,250,1);\">01 </span><span style=\"background-color: rgba(255,250,250,1);\">01 </span><span style=\"background-color: rgba(255,250,250,1);\">04 </span><span style=\"background-color: rgba(255,250,250,1);\">02 </span><span style=\"background-color: rgba(255,250,250,1);\">02 </span><span style=\"background-color: rgba(255,250,250,1);\">02 </span><span style=\"background-color: rgba(255,250,250,1);\">02 </span><span style=\"background-color: rgba(255,250,250,1);\">02 </span><span style=\"background-color: rgba(255,250,250,1);\">01 </span><span style=\"background-color: rgba(255,250,250,1);\">01 </span><span style=\"background-color: rgba(255,250,250,1);\">01 </span><span style=\"background-color: rgba(255,250,250,1);\">02 </span><span style=\"background-color: rgba(255,250,250,1);\">02 </span> | <span style=\"background-color: rgba(255,250,250,1);\">.</span><span style=\"background-color: rgba(255,250,250,1);\">.</span><span style=\"background-color: rgba(255,250,250,1);\">.</span><span style=\"background-color: rgba(255,250,250,1);\">.</span><span style=\"background-color: rgba(255,250,250,1);\">.</span><span style=\"background-color: rgba(255,250,250,1);\">.</span><span style=\"background-color: rgba(255,250,250,1);\">.</span><span style=\"background-color: rgba(255,250,250,1);\">.</span><span style=\"background-color: rgba(255,250,250,1);\">.</span><span style=\"background-color: rgba(255,250,250,1);\">.</span><span style=\"background-color: rgba(255,250,250,1);\">.</span><span style=\"background-color: rgba(255,250,250,1);\">.</span><span style=\"background-color: rgba(255,250,250,1);\">.</span><span style=\"background-color: rgba(255,250,250,1);\">.</span><span style=\"background-color: rgba(255,250,250,1);\">.</span><span style=\"background-color: rgba(255,250,250,1);\">.</span></div><div><span style=\"background-color: rgba(255,250,250,1);\">02 </span><span style=\"background-color: rgba(255,250,250,1);\">01 </span><span style=\"background-color: rgba(255,250,250,1);\">01 </span><span style=\"background-color: rgba(255,250,250,1);\">01 </span><span style=\"background-color: rgba(255,250,250,1);\">01 </span><span style=\"background-color: rgba(255,250,250,1);\">01 </span><span style=\"background-color: rgba(255,250,250,1);\">01 </span><span style=\"background-color: rgba(255,250,250,1);\">01 </span><span style=\"background-color: rgba(255,250,250,1);\">01 </span><span style=\"background-color: rgba(255,250,250,1);\">02 </span><span style=\"background-color: rgba(255,250,250,1);\">02 </span><span style=\"background-color: rgba(255,250,250,1);\">02 </span><span style=\"background-color: rgba(255,250,250,1);\">02 </span><span style=\"background-color: rgba(255,250,250,1);\">02 </span><span style=\"background-color: rgba(255,250,250,1);\">02 </span><span style=\"background-color: rgba(255,250,250,1);\">01 </span> | <span style=\"background-color: rgba(255,250,250,1);\">.</span><span style=\"background-color: rgba(255,250,250,1);\">.</span><span style=\"background-color: rgba(255,250,250,1);\">.</span><span style=\"background-color: rgba(255,250,250,1);\">.</span><span style=\"background-color: rgba(255,250,250,1);\">.</span><span style=\"background-color: rgba(255,250,250,1);\">.</span><span style=\"background-color: rgba(255,250,250,1);\">.</span><span style=\"background-color: rgba(255,250,250,1);\">.</span><span style=\"background-color: rgba(255,250,250,1);\">.</span><span style=\"background-color: rgba(255,250,250,1);\">.</span><span style=\"background-color: rgba(255,250,250,1);\">.</span><span style=\"background-color: rgba(255,250,250,1);\">.</span><span style=\"background-color: rgba(255,250,250,1);\">.</span><span style=\"background-color: rgba(255,250,250,1);\">.</span><span style=\"background-color: rgba(255,250,250,1);\">.</span><span style=\"background-color: rgba(255,250,250,1);\">.</span></div><div><span style=\"background-color: rgba(255,250,250,1);\">02 </span><span style=\"background-color: rgba(255,250,250,1);\">01 </span><span style=\"background-color: rgba(255,250,250,1);\">01 </span><span style=\"background-color: rgba(255,250,250,1);\">01 </span><span style=\"background-color: rgba(255,250,250,1);\">01 </span><span style=\"background-color: rgba(255,250,250,1);\">01 </span><span style=\"background-color: rgba(255,250,250,1);\">02 </span><span style=\"background-color: rgba(255,250,250,1);\">02 </span><span style=\"background-color: rgba(255,250,250,1);\">02 </span><span style=\"background-color: rgba(255,250,250,1);\">02 </span><span style=\"background-color: rgba(255,250,250,1);\">02 </span><span style=\"background-color: rgba(255,250,250,1);\">02 </span><span style=\"background-color: rgba(255,250,250,1);\">01 </span><span style=\"background-color: rgba(255,250,250,1);\">02 </span><span style=\"background-color: rgba(255,250,250,1);\">01 </span><span style=\"background-color: rgba(255,250,250,1);\">01 </span> | <span style=\"background-color: rgba(255,250,250,1);\">.</span><span style=\"background-color: rgba(255,250,250,1);\">.</span><span style=\"background-color: rgba(255,250,250,1);\">.</span><span style=\"background-color: rgba(255,250,250,1);\">.</span><span style=\"background-color: rgba(255,250,250,1);\">.</span><span style=\"background-color: rgba(255,250,250,1);\">.</span><span style=\"background-color: rgba(255,250,250,1);\">.</span><span style=\"background-color: rgba(255,250,250,1);\">.</span><span style=\"background-color: rgba(255,250,250,1);\">.</span><span style=\"background-color: rgba(255,250,250,1);\">.</span><span style=\"background-color: rgba(255,250,250,1);\">.</span><span style=\"background-color: rgba(255,250,250,1);\">.</span><span style=\"background-color: rgba(255,250,250,1);\">.</span><span style=\"background-color: rgba(255,250,250,1);\">.</span><span style=\"background-color: rgba(255,250,250,1);\">.</span><span style=\"background-color: rgba(255,250,250,1);\">.</span></div><div><span style=\"background-color: rgba(255,250,250,1);\">01 </span><span style=\"background-color: rgba(255,250,250,1);\">01 </span><span style=\"background-color: rgba(255,250,250,1);\">02 </span><span style=\"background-color: rgba(255,250,250,1);\">01 </span><span style=\"background-color: rgba(255,250,250,1);\">01 </span><span style=\"background-color: rgba(255,250,250,1);\">01 </span><span style=\"background-color: rgba(255,250,250,1);\">01 </span><span style=\"background-color: rgba(255,250,250,1);\">01 </span><span style=\"background-color: rgba(255,250,250,1);\">01 </span><span style=\"background-color: rgba(255,250,250,1);\">01 </span><span style=\"background-color: rgba(255,250,250,1);\">02 </span><span style=\"background-color: rgba(255,250,250,1);\">01 </span><span style=\"background-color: rgba(255,250,250,1);\">01 </span><span style=\"background-color: rgba(255,250,250,1);\">01 </span><span style=\"background-color: rgba(255,250,250,1);\">01 </span><span style=\"background-color: rgba(255,250,250,1);\">01 </span> | <span style=\"background-color: rgba(255,250,250,1);\">.</span><span style=\"background-color: rgba(255,250,250,1);\">.</span><span style=\"background-color: rgba(255,250,250,1);\">.</span><span style=\"background-color: rgba(255,250,250,1);\">.</span><span style=\"background-color: rgba(255,250,250,1);\">.</span><span style=\"background-color: rgba(255,250,250,1);\">.</span><span style=\"background-color: rgba(255,250,250,1);\">.</span><span style=\"background-color: rgba(255,250,250,1);\">.</span><span style=\"background-color: rgba(255,250,250,1);\">.</span><span style=\"background-color: rgba(255,250,250,1);\">.</span><span style=\"background-color: rgba(255,250,250,1);\">.</span><span style=\"background-color: rgba(255,250,250,1);\">.</span><span style=\"background-color: rgba(255,250,250,1);\">.</span><span style=\"background-color: rgba(255,250,250,1);\">.</span><span style=\"background-color: rgba(255,250,250,1);\">.</span><span style=\"background-color: rgba(255,250,250,1);\">.</span></div><div><span style=\"background-color: rgba(255,250,250,1);\">01 </span><span style=\"background-color: rgba(255,250,250,1);\">01 </span><span style=\"background-color: rgba(255,250,250,1);\">01 </span><span style=\"background-color: rgba(255,250,250,1);\">01 </span><span style=\"background-color: rgba(255,250,250,1);\">01 </span><span style=\"background-color: rgba(255,250,250,1);\">02 </span><span style=\"background-color: rgba(255,250,250,1);\">02 </span><span style=\"background-color: rgba(255,250,250,1);\">02 </span><span style=\"background-color: rgba(255,250,250,1);\">02 </span><span style=\"background-color: rgba(255,250,250,1);\">02 </span><span style=\"background-color: rgba(255,250,250,1);\">02 </span><span style=\"background-color: rgba(255,250,250,1);\">01 </span><span style=\"background-color: rgba(255,250,250,1);\">02 </span><span style=\"background-color: rgba(255,250,250,1);\">02 </span><span style=\"background-color: rgba(255,250,250,1);\">04 </span><span style=\"background-color: rgba(255,250,250,1);\">01 </span> | <span style=\"background-color: rgba(255,250,250,1);\">.</span><span style=\"background-color: rgba(255,250,250,1);\">.</span><span style=\"background-color: rgba(255,250,250,1);\">.</span><span style=\"background-color: rgba(255,250,250,1);\">.</span><span style=\"background-color: rgba(255,250,250,1);\">.</span><span style=\"background-color: rgba(255,250,250,1);\">.</span><span style=\"background-color: rgba(255,250,250,1);\">.</span><span style=\"background-color: rgba(255,250,250,1);\">.</span><span style=\"background-color: rgba(255,250,250,1);\">.</span><span style=\"background-color: rgba(255,250,250,1);\">.</span><span style=\"background-color: rgba(255,250,250,1);\">.</span><span style=\"background-color: rgba(255,250,250,1);\">.</span><span style=\"background-color: rgba(255,250,250,1);\">.</span><span style=\"background-color: rgba(255,250,250,1);\">.</span><span style=\"background-color: rgba(255,250,250,1);\">.</span><span style=\"background-color: rgba(255,250,250,1);\">.</span></div><div><span style=\"background-color: rgba(255,250,250,1);\">01 </span><span style=\"background-color: rgba(255,250,250,1);\">01 </span><span style=\"background-color: rgba(255,250,250,1);\">01 </span><span style=\"background-color: rgba(255,250,250,1);\">01 </span><span style=\"background-color: rgba(255,250,250,1);\">01 </span><span style=\"background-color: rgba(255,250,250,1);\">04 </span><span style=\"background-color: rgba(255,250,250,1);\">02 </span><span style=\"background-color: rgba(255,250,250,1);\">02 </span><span style=\"background-color: rgba(255,250,250,1);\">02 </span><span style=\"background-color: rgba(255,250,250,1);\">02 </span><span style=\"background-color: rgba(255,250,250,1);\">02 </span><span style=\"background-color: rgba(255,250,250,1);\">01 </span><span style=\"background-color: rgba(255,250,250,1);\">01 </span><span style=\"background-color: rgba(255,250,250,1);\">01 </span><span style=\"background-color: rgba(255,250,250,1);\">02 </span><span style=\"background-color: rgba(255,250,250,1);\">02 </span> | <span style=\"background-color: rgba(255,250,250,1);\">.</span><span style=\"background-color: rgba(255,250,250,1);\">.</span><span style=\"background-color: rgba(255,250,250,1);\">.</span><span style=\"background-color: rgba(255,250,250,1);\">.</span><span style=\"background-color: rgba(255,250,250,1);\">.</span><span style=\"background-color: rgba(255,250,250,1);\">.</span><span style=\"background-color: rgba(255,250,250,1);\">.</span><span style=\"background-color: rgba(255,250,250,1);\">.</span><span style=\"background-color: rgba(255,250,250,1);\">.</span><span style=\"background-color: rgba(255,250,250,1);\">.</span><span style=\"background-color: rgba(255,250,250,1);\">.</span><span style=\"background-color: rgba(255,250,250,1);\">.</span><span style=\"background-color: rgba(255,250,250,1);\">.</span><span style=\"background-color: rgba(255,250,250,1);\">.</span><span style=\"background-color: rgba(255,250,250,1);\">.</span><span style=\"background-color: rgba(255,250,250,1);\">.</span></div><div><span style=\"background-color: rgba(255,250,250,1);\">02 </span><span style=\"background-color: rgba(255,250,250,1);\">01 </span><span style=\"background-color: rgba(255,250,250,1);\">01 </span><span style=\"background-color: rgba(255,250,250,1);\">01 </span><span style=\"background-color: rgba(255,250,250,1);\">01 </span><span style=\"background-color: rgba(255,250,250,1);\">01 </span><span style=\"background-color: rgba(255,250,250,1);\">01 </span><span style=\"background-color: rgba(255,250,250,1);\">01 </span><span style=\"background-color: rgba(255,250,250,1);\">01 </span><span style=\"background-color: rgba(255,250,250,1);\">02 </span><span style=\"background-color: rgba(255,250,250,1);\">02 </span><span style=\"background-color: rgba(255,250,250,1);\">02 </span><span style=\"background-color: rgba(255,250,250,1);\">02 </span><span style=\"background-color: rgba(255,250,250,1);\">02 </span><span style=\"background-color: rgba(255,250,250,1);\">02 </span><span style=\"background-color: rgba(255,250,250,1);\">02 </span> | <span style=\"background-color: rgba(255,250,250,1);\">.</span><span style=\"background-color: rgba(255,250,250,1);\">.</span><span style=\"background-color: rgba(255,250,250,1);\">.</span><span style=\"background-color: rgba(255,250,250,1);\">.</span><span style=\"background-color: rgba(255,250,250,1);\">.</span><span style=\"background-color: rgba(255,250,250,1);\">.</span><span style=\"background-color: rgba(255,250,250,1);\">.</span><span style=\"background-color: rgba(255,250,250,1);\">.</span><span style=\"background-color: rgba(255,250,250,1);\">.</span><span style=\"background-color: rgba(255,250,250,1);\">.</span><span style=\"background-color: rgba(255,250,250,1);\">.</span><span style=\"background-color: rgba(255,250,250,1);\">.</span><span style=\"background-color: rgba(255,250,250,1);\">.</span><span style=\"background-color: rgba(255,250,250,1);\">.</span><span style=\"background-color: rgba(255,250,250,1);\">.</span><span style=\"background-color: rgba(255,250,250,1);\">.</span></div><div><span style=\"background-color: rgba(255,250,250,1);\">02 </span><span style=\"background-color: rgba(255,250,250,1);\">02 </span><span style=\"background-color: rgba(255,250,250,1);\">02 </span><span style=\"background-color: rgba(255,250,250,1);\">02 </span><span style=\"background-color: rgba(255,250,250,1);\">01 </span><span style=\"background-color: rgba(255,250,250,1);\">02 </span><span style=\"background-color: rgba(255,250,250,1);\">01 </span><span style=\"background-color: rgba(255,250,250,1);\">01 </span><span style=\"background-color: rgba(255,250,250,1);\">01 </span><span style=\"background-color: rgba(255,250,250,1);\">01 </span><span style=\"background-color: rgba(255,250,250,1);\">01 </span><span style=\"background-color: rgba(255,250,250,1);\">01 </span><span style=\"background-color: rgba(255,250,250,1);\">02 </span><span style=\"background-color: rgba(255,250,250,1);\">02 </span><span style=\"background-color: rgba(255,250,250,1);\">02 </span><span style=\"background-color: rgba(255,250,250,1);\">02 </span> | <span style=\"background-color: rgba(255,250,250,1);\">.</span><span style=\"background-color: rgba(255,250,250,1);\">.</span><span style=\"background-color: rgba(255,250,250,1);\">.</span><span style=\"background-color: rgba(255,250,250,1);\">.</span><span style=\"background-color: rgba(255,250,250,1);\">.</span><span style=\"background-color: rgba(255,250,250,1);\">.</span><span style=\"background-color: rgba(255,250,250,1);\">.</span><span style=\"background-color: rgba(255,250,250,1);\">.</span><span style=\"background-color: rgba(255,250,250,1);\">.</span><span style=\"background-color: rgba(255,250,250,1);\">.</span><span style=\"background-color: rgba(255,250,250,1);\">.</span><span style=\"background-color: rgba(255,250,250,1);\">.</span><span style=\"background-color: rgba(255,250,250,1);\">.</span><span style=\"background-color: rgba(255,250,250,1);\">.</span><span style=\"background-color: rgba(255,250,250,1);\">.</span><span style=\"background-color: rgba(255,250,250,1);\">.</span></div><div><span style=\"background-color: rgba(255,250,250,1);\">02 </span><span style=\"background-color: rgba(255,250,250,1);\">02 </span><span style=\"background-color: rgba(255,250,250,1);\">01 </span><span style=\"background-color: rgba(255,250,250,1);\">02 </span><span style=\"background-color: rgba(255,250,250,1);\">01 </span><span style=\"background-color: rgba(255,250,250,1);\">01 </span><span style=\"background-color: rgba(255,250,250,1);\">01 </span><span style=\"background-color: rgba(255,250,250,1);\">01 </span><span style=\"background-color: rgba(255,250,250,1);\">01 </span><span style=\"background-color: rgba(255,250,250,1);\">01 </span><span style=\"background-color: rgba(255,250,250,1);\">01 </span><span style=\"background-color: rgba(255,250,250,1);\">01 </span><span style=\"background-color: rgba(255,250,250,1);\">02 </span><span style=\"background-color: rgba(255,250,250,1);\">02 </span><span style=\"background-color: rgba(255,250,250,1);\">02 </span><span style=\"background-color: rgba(255,250,250,1);\">02 </span> | <span style=\"background-color: rgba(255,250,250,1);\">.</span><span style=\"background-color: rgba(255,250,250,1);\">.</span><span style=\"background-color: rgba(255,250,250,1);\">.</span><span style=\"background-color: rgba(255,250,250,1);\">.</span><span style=\"background-color: rgba(255,250,250,1);\">.</span><span style=\"background-color: rgba(255,250,250,1);\">.</span><span style=\"background-color: rgba(255,250,250,1);\">.</span><span style=\"background-color: rgba(255,250,250,1);\">.</span><span style=\"background-color: rgba(255,250,250,1);\">.</span><span style=\"background-color: rgba(255,250,250,1);\">.</span><span style=\"background-color: rgba(255,250,250,1);\">.</span><span style=\"background-color: rgba(255,250,250,1);\">.</span><span style=\"background-color: rgba(255,250,250,1);\">.</span><span style=\"background-color: rgba(255,250,250,1);\">.</span><span style=\"background-color: rgba(255,250,250,1);\">.</span><span style=\"background-color: rgba(255,250,250,1);\">.</span></div><div><span style=\"background-color: rgba(255,250,250,1);\">02 </span><span style=\"background-color: rgba(255,250,250,1);\">02 </span><span style=\"background-color: rgba(255,250,250,1);\">01 </span><span style=\"background-color: rgba(255,250,250,1);\">02 </span><span style=\"background-color: rgba(255,250,250,1);\">01 </span><span style=\"background-color: rgba(255,250,250,1);\">01 </span><span style=\"background-color: rgba(255,250,250,1);\">01 </span><span style=\"background-color: rgba(255,250,250,1);\">01 </span><span style=\"background-color: rgba(255,250,250,1);\">01 </span><span style=\"background-color: rgba(255,250,250,1);\">01 </span><span style=\"background-color: rgba(255,250,250,1);\">02 </span><span style=\"background-color: rgba(255,250,250,1);\">02 </span><span style=\"background-color: rgba(255,250,250,1);\">02 </span><span style=\"background-color: rgba(255,250,250,1);\">01 </span><span style=\"background-color: rgba(255,250,250,1);\">01 </span><span style=\"background-color: rgba(255,250,250,1);\">01 </span> | <span style=\"background-color: rgba(255,250,250,1);\">.</span><span style=\"background-color: rgba(255,250,250,1);\">.</span><span style=\"background-color: rgba(255,250,250,1);\">.</span><span style=\"background-color: rgba(255,250,250,1);\">.</span><span style=\"background-color: rgba(255,250,250,1);\">.</span><span style=\"background-color: rgba(255,250,250,1);\">.</span><span style=\"background-color: rgba(255,250,250,1);\">.</span><span style=\"background-color: rgba(255,250,250,1);\">.</span><span style=\"background-color: rgba(255,250,250,1);\">.</span><span style=\"background-color: rgba(255,250,250,1);\">.</span><span style=\"background-color: rgba(255,250,250,1);\">.</span><span style=\"background-color: rgba(255,250,250,1);\">.</span><span style=\"background-color: rgba(255,250,250,1);\">.</span><span style=\"background-color: rgba(255,250,250,1);\">.</span><span style=\"background-color: rgba(255,250,250,1);\">.</span><span style=\"background-color: rgba(255,250,250,1);\">.</span></div><div><span style=\"background-color: rgba(255,250,250,1);\">01 </span><span style=\"background-color: rgba(255,250,250,1);\">01 </span><span style=\"background-color: rgba(255,250,250,1);\">01 </span><span style=\"background-color: rgba(255,250,250,1);\">01 </span><span style=\"background-color: rgba(255,250,250,1);\">01 </span><span style=\"background-color: rgba(255,250,250,1);\">01 </span><span style=\"background-color: rgba(255,250,250,1);\">02 </span><span style=\"background-color: rgba(255,250,250,1);\">02 </span><span style=\"background-color: rgba(255,250,250,1);\">02 </span><span style=\"background-color: rgba(255,250,250,1);\">02 </span><span style=\"background-color: rgba(255,250,250,1);\">02 </span><span style=\"background-color: rgba(255,250,250,1);\">02 </span><span style=\"background-color: rgba(255,250,250,1);\">02 </span><span style=\"background-color: rgba(255,250,250,1);\">02 </span><span style=\"background-color: rgba(255,250,250,1);\">02 </span><span style=\"background-color: rgba(255,250,250,1);\">02 </span> | <span style=\"background-color: rgba(255,250,250,1);\">.</span><span style=\"background-color: rgba(255,250,250,1);\">.</span><span style=\"background-color: rgba(255,250,250,1);\">.</span><span style=\"background-color: rgba(255,250,250,1);\">.</span><span style=\"background-color: rgba(255,250,250,1);\">.</span><span style=\"background-color: rgba(255,250,250,1);\">.</span><span style=\"background-color: rgba(255,250,250,1);\">.</span><span style=\"background-color: rgba(255,250,250,1);\">.</span><span style=\"background-color: rgba(255,250,250,1);\">.</span><span style=\"background-color: rgba(255,250,250,1);\">.</span><span style=\"background-color: rgba(255,250,250,1);\">.</span><span style=\"background-color: rgba(255,250,250,1);\">.</span><span style=\"background-color: rgba(255,250,250,1);\">.</span><span style=\"background-color: rgba(255,250,250,1);\">.</span><span style=\"background-color: rgba(255,250,250,1);\">.</span><span style=\"background-color: rgba(255,250,250,1);\">.</span></div><div><span style=\"background-color: rgba(255,250,250,1);\">02 </span><span style=\"background-color: rgba(255,250,250,1);\">01 </span><span style=\"background-color: rgba(255,250,250,1);\">02 </span><span style=\"background-color: rgba(255,250,250,1);\">01 </span><span style=\"background-color: rgba(255,250,250,1);\">01 </span><span style=\"background-color: rgba(255,250,250,1);\">01 </span><span style=\"background-color: rgba(255,250,250,1);\">01 </span><span style=\"background-color: rgba(255,250,250,1);\">01 </span><span style=\"background-color: rgba(255,250,250,1);\">01 </span><span style=\"background-color: rgba(255,250,250,1);\">01 </span><span style=\"background-color: rgba(255,250,250,1);\">01 </span><span style=\"background-color: rgba(255,250,250,1);\">01 </span><span style=\"background-color: rgba(255,250,250,1);\">02 </span><span style=\"background-color: rgba(255,250,250,1);\">02 </span><span style=\"background-color: rgba(255,250,250,1);\">02 </span><span style=\"background-color: rgba(255,250,250,1);\">02 </span> | <span style=\"background-color: rgba(255,250,250,1);\">.</span><span style=\"background-color: rgba(255,250,250,1);\">.</span><span style=\"background-color: rgba(255,250,250,1);\">.</span><span style=\"background-color: rgba(255,250,250,1);\">.</span><span style=\"background-color: rgba(255,250,250,1);\">.</span><span style=\"background-color: rgba(255,250,250,1);\">.</span><span style=\"background-color: rgba(255,250,250,1);\">.</span><span style=\"background-color: rgba(255,250,250,1);\">.</span><span style=\"background-color: rgba(255,250,250,1);\">.</span><span style=\"background-color: rgba(255,250,250,1);\">.</span><span style=\"background-color: rgba(255,250,250,1);\">.</span><span style=\"background-color: rgba(255,250,250,1);\">.</span><span style=\"background-color: rgba(255,250,250,1);\">.</span><span style=\"background-color: rgba(255,250,250,1);\">.</span><span style=\"background-color: rgba(255,250,250,1);\">.</span><span style=\"background-color: rgba(255,250,250,1);\">.</span></div></div>"
      ],
      "text/plain": [
       "<IPython.core.display.HTML object>"
      ]
     },
     "execution_count": 120,
     "metadata": {},
     "output_type": "execute_result"
    }
   ],
   "source": [
    "showHex(sample,model,attention_layer_model, 6)"
   ]
  },
  {
   "cell_type": "code",
   "execution_count": null,
   "metadata": {},
   "outputs": [],
   "source": []
  }
 ],
 "metadata": {
  "kernelspec": {
   "display_name": "Python 3",
   "language": "python",
   "name": "python3"
  },
  "language_info": {
   "codemirror_mode": {
    "name": "ipython",
    "version": 3
   },
   "file_extension": ".py",
   "mimetype": "text/x-python",
   "name": "python",
   "nbconvert_exporter": "python",
   "pygments_lexer": "ipython3",
   "version": "3.7.3rc1"
  }
 },
 "nbformat": 4,
 "nbformat_minor": 2
}
