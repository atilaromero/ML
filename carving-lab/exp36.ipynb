{
 "cells": [
  {
   "cell_type": "markdown",
   "metadata": {},
   "source": [
    "# Exp36\n",
    "\n",
    "### Train a model for each dataset category, comparing it to random data"
   ]
  },
  {
   "cell_type": "code",
   "execution_count": 99,
   "metadata": {},
   "outputs": [],
   "source": [
    "import os\n",
    "import datetime\n",
    "import tensorflow\n",
    "import numpy as np\n",
    "import pandas as pd\n",
    "import matplotlib.pyplot as plt\n",
    "from collections import OrderedDict\n",
    "\n",
    "import models\n",
    "import report\n",
    "import block_sampler\n",
    "import batch_encoder\n",
    "from dataset import Dataset\n",
    "from report import Reporter\n",
    "from trainer import Trainer\n",
    "from batch_encoder import Dataset\n",
    "from block_sampler import count_sectors, BlockSamplerByFile\n",
    "from batch_encoder import xs_encoder_8bits_11, BatchEncoder\n",
    "from filter_random import gen_rndchk_models, evaluate_rnd_model, filter_dataset"
   ]
  },
  {
   "cell_type": "code",
   "execution_count": 2,
   "metadata": {},
   "outputs": [
    {
     "data": {
      "text/plain": [
       "'/home/atila.alr/Sync/codebase/src/github.com/atilaromero/ML/carving-lab'"
      ]
     },
     "execution_count": 2,
     "metadata": {},
     "output_type": "execute_result"
    }
   ],
   "source": [
    "pwd"
   ]
  },
  {
   "cell_type": "code",
   "execution_count": 48,
   "metadata": {},
   "outputs": [],
   "source": [
    "# raw_dataset_folder='/home/user/sample200'\n",
    "raw_dataset_folder='../datasets/govdocs1/sample200'\n",
    "random_dataset_folder='../datasets/random'\n",
    "minimum=200\n",
    "maximum=200\n",
    "result_dir = 'results/exp36'"
   ]
  },
  {
   "cell_type": "code",
   "execution_count": 6,
   "metadata": {},
   "outputs": [],
   "source": [
    "rawset = Dataset.new_from_folders(raw_dataset_folder).filter_min_max(minimum, maximum)\n",
    "rndset = Dataset.new_from_folders(random_dataset_folder).filter_min_max(minimum, maximum)"
   ]
  },
  {
   "cell_type": "markdown",
   "metadata": {},
   "source": [
    "# Create models"
   ]
  },
  {
   "cell_type": "code",
   "execution_count": null,
   "metadata": {},
   "outputs": [],
   "source": [
    "gen_rndchk_models(raw_dataset_folder, random_dataset_folder, minimum, maximum, result_dir)"
   ]
  },
  {
   "cell_type": "markdown",
   "metadata": {},
   "source": [
    "# Load models"
   ]
  },
  {
   "cell_type": "code",
   "execution_count": 8,
   "metadata": {},
   "outputs": [
    {
     "name": "stdout",
     "output_type": "stream",
     "text": [
      "java\n",
      "WARNING:tensorflow:From /home/atila.alr/.local/lib/python3.6/site-packages/tensorflow/python/ops/init_ops.py:97: calling GlorotUniform.__init__ (from tensorflow.python.ops.init_ops) with dtype is deprecated and will be removed in a future version.\n",
      "Instructions for updating:\n",
      "Call initializer instance with the dtype argument instead of passing it to the constructor\n",
      "WARNING:tensorflow:From /home/atila.alr/.local/lib/python3.6/site-packages/tensorflow/python/ops/init_ops.py:1251: calling VarianceScaling.__init__ (from tensorflow.python.ops.init_ops) with dtype is deprecated and will be removed in a future version.\n",
      "Instructions for updating:\n",
      "Call initializer instance with the dtype argument instead of passing it to the constructor\n",
      "WARNING:tensorflow:From /home/atila.alr/.local/lib/python3.6/site-packages/tensorflow/python/ops/init_ops.py:97: calling Zeros.__init__ (from tensorflow.python.ops.init_ops) with dtype is deprecated and will be removed in a future version.\n",
      "Instructions for updating:\n",
      "Call initializer instance with the dtype argument instead of passing it to the constructor\n",
      "jpg\n",
      "kml\n",
      "pdf\n",
      "kmz\n",
      "text\n",
      "xml\n",
      "png\n",
      "rtf\n",
      "ps\n",
      "gif\n",
      "f\n",
      "wp\n",
      "pptx\n",
      "pps\n",
      "swf\n",
      "txt\n",
      "ppt\n",
      "unk\n",
      "log\n",
      "xls\n",
      "csv\n",
      "html\n",
      "gz\n",
      "eps\n",
      "dbase3\n",
      "dwf\n",
      "doc\n",
      "hlp\n",
      "sql\n"
     ]
    }
   ],
   "source": [
    "cat_models = {}\n",
    "for cat in list(rawset.categories):\n",
    "    print(cat)\n",
    "    model = tensorflow.keras.models.load_model('results/exp36/%s_random.h5'%cat)\n",
    "    cat_models[cat] = model"
   ]
  },
  {
   "cell_type": "markdown",
   "metadata": {},
   "source": [
    "# Evaluate models accuracy"
   ]
  },
  {
   "cell_type": "code",
   "execution_count": 17,
   "metadata": {},
   "outputs": [
    {
     "name": "stdout",
     "output_type": "stream",
     "text": [
      "odict_values(['doc', 0.13294830024242402, 0.9595, 0.9595])\n",
      "odict_values(['csv', 1.1943280782134024e-07, 1.0, 1.0])\n",
      "odict_values(['png', 0.6314608812332153, 0.68925, 0.68925])\n",
      "odict_values(['unk', 0.038713449612259865, 0.99, 0.99])\n",
      "odict_values(['gif', 0.290908420085907, 0.8885, 0.8885])\n",
      "odict_values(['ps', 0.004029641702771869, 0.99975, 0.99975])\n",
      "odict_values(['kmz', 0.5346010267734528, 0.745, 0.745])\n",
      "odict_values(['sql', 1.1920928955078125e-07, 1.0, 1.0])\n",
      "odict_values(['pdf', 0.713506531715393, 0.66875, 0.66875])\n",
      "odict_values(['gz', 0.5563446342945099, 0.718, 0.718])\n",
      "odict_values(['log', 1.1920928955078125e-07, 1.0, 1.0])\n",
      "odict_values(['kml', 1.1920928955078125e-07, 1.0, 1.0])\n",
      "odict_values(['dwf', 1.2896759152412414, 0.6075, 0.6075])\n",
      "odict_values(['swf', 0.6432314097881318, 0.69975, 0.69975])\n",
      "odict_values(['dbase3', 1.1920928955078125e-07, 1.0, 1.0])\n",
      "odict_values(['f', 0.01720931362139737, 0.99875, 0.99875])\n",
      "odict_values(['txt', 8.96546884973759e-05, 1.0, 1.0])\n",
      "odict_values(['html', 1.1920928955078125e-07, 1.0, 1.0])\n",
      "odict_values(['wp', 0.010173871973529458, 0.998, 0.998])\n",
      "odict_values(['pptx', 0.4399863243103027, 0.79, 0.79])\n",
      "odict_values(['hlp', 1.1920928955078125e-07, 1.0, 1.0])\n",
      "odict_values(['text', 0.21543871015310287, 0.9105, 0.9105])\n",
      "odict_values(['jpg', 1.113708531856537, 0.614, 0.614])\n",
      "odict_values(['java', 1.1920928955078125e-07, 1.0, 1.0])\n",
      "odict_values(['pps', 0.4674321115016937, 0.758, 0.758])\n",
      "odict_values(['xls', 0.03439753372222185, 0.99425, 0.99425])\n",
      "odict_values(['eps', 0.0030213141238277785, 0.99925, 0.99925])\n",
      "odict_values(['xml', 1.298787495329634e-07, 1.0, 1.0])\n",
      "odict_values(['ppt', 0.3646761327981949, 0.82825, 0.82825])\n",
      "odict_values(['rtf', 0.0044187784584210025, 0.99975, 0.99975])\n"
     ]
    }
   ],
   "source": [
    "by_category = rawset.by_category()\n",
    "rep = report.Reporter2(os.path.join(result_dir, 'experiments.tsv'))\n",
    "for cat, model in cat_models.items():\n",
    "    dset = rndset.join(by_category[cat])\n",
    "    r = evaluate_rnd_model(cat, model, dset)\n",
    "    rep.line(**r)\n",
    "    print(r.values())\n",
    "rep.close()\n"
   ]
  },
  {
   "cell_type": "markdown",
   "metadata": {},
   "source": [
    "# Evaluate datasets randomness"
   ]
  },
  {
   "cell_type": "code",
   "execution_count": 56,
   "metadata": {},
   "outputs": [],
   "source": [
    "def evaluate_dataset_randomness_full(name, model, dset):\n",
    "    b_counter = 0\n",
    "    g_counter = 0\n",
    "    if len(dset.categories) != 1:\n",
    "        print('multiple categories in dataset!')\n",
    "    for filename in dset.filenames:\n",
    "        with open(filename, 'rb') as infile:\n",
    "            while(True):\n",
    "                b = infile.read(51200)\n",
    "                if len(b) == 0:\n",
    "                    break\n",
    "                bs = []\n",
    "                for i in range(0, len(b), 512):\n",
    "                    b2 = b[i:i+512]\n",
    "                    blk = np.zeros((512,), dtype='int')\n",
    "                    blk[:len(b2)] = [int(x) for x in b2]\n",
    "                    bs.append(blk)\n",
    "                ys = model.predict(xs_encoder_8bits_11(bs))\n",
    "                for i, y in enumerate(ys):\n",
    "                    if np.argmax(y, axis=-1) == 1:\n",
    "                        b_counter+=1\n",
    "                    else:\n",
    "                        g_counter+=1\n",
    "    return OrderedDict(\n",
    "        name=name,\n",
    "        g_counter=g_counter,\n",
    "        b_counter=b_counter,\n",
    "        randomness=b_counter/(g_counter+b_counter)\n",
    "    )"
   ]
  },
  {
   "cell_type": "code",
   "execution_count": 75,
   "metadata": {},
   "outputs": [],
   "source": [
    "def evaluate_dataset_randomness(category, model, dset):\n",
    "    if len(dset.categories) != 1:\n",
    "        print('multiple categories in dataset!')\n",
    "    dset = dset.clone(categories=[category, 'zzz'])\n",
    "    dsampler = block_sampler.BlockSampler(dset)\n",
    "    dbenc = BatchEncoder(dsampler, 100, xs_encoder='8bits_11')\n",
    "    result = model.evaluate_generator(iter(dbenc), steps=50)\n",
    "    return OrderedDict(\n",
    "        category=category,\n",
    "        randomness=1-result[-1]\n",
    "    )"
   ]
  },
  {
   "cell_type": "code",
   "execution_count": 76,
   "metadata": {},
   "outputs": [
    {
     "data": {
      "text/plain": [
       "OrderedDict([('category', 'eps'), ('randomness', 0.011200010776519775)])"
      ]
     },
     "execution_count": 76,
     "metadata": {},
     "output_type": "execute_result"
    }
   ],
   "source": [
    "eps_set = rawset.by_category()['eps']\n",
    "eps_set.rebuild_categories(categories=['eps', 'zzz'])\n",
    "evaluate_dataset_randomness('eps', cat_models['eps'], rawset.by_category()['eps'])"
   ]
  },
  {
   "cell_type": "code",
   "execution_count": 77,
   "metadata": {},
   "outputs": [
    {
     "name": "stdout",
     "output_type": "stream",
     "text": [
      "java\n",
      "jpg\n",
      "kml\n",
      "pdf\n",
      "kmz\n",
      "text\n",
      "xml\n",
      "png\n",
      "rtf\n",
      "ps\n",
      "gif\n",
      "f\n",
      "wp\n",
      "pptx\n",
      "pps\n",
      "swf\n",
      "txt\n",
      "ppt\n",
      "unk\n",
      "log\n",
      "xls\n",
      "csv\n",
      "html\n",
      "gz\n",
      "eps\n",
      "dbase3\n",
      "dwf\n",
      "doc\n",
      "hlp\n",
      "sql\n"
     ]
    }
   ],
   "source": [
    "randomness = {}\n",
    "for cat, model in cat_models.items():\n",
    "    print(cat)\n",
    "    randomness[cat] = evaluate_dataset_randomness(cat, model, rawset.by_category()[cat])"
   ]
  },
  {
   "cell_type": "code",
   "execution_count": 83,
   "metadata": {},
   "outputs": [
    {
     "name": "stdout",
     "output_type": "stream",
     "text": [
      "odict_values(['java', 0.0])\n",
      "odict_values(['jpg', 0.062399983406066895])\n",
      "odict_values(['kml', 0.0])\n",
      "odict_values(['pdf', 0.06019997596740723])\n",
      "odict_values(['kmz', 0.13899999856948853])\n",
      "odict_values(['text', 0.07239997386932373])\n",
      "odict_values(['xml', 0.001600027084350586])\n",
      "odict_values(['png', 0.11260002851486206])\n",
      "odict_values(['rtf', 0.006399989128112793])\n",
      "odict_values(['ps', 0.019999980926513672])\n",
      "odict_values(['gif', 0.0658000111579895])\n",
      "odict_values(['f', 0.003600001335144043])\n",
      "odict_values(['wp', 0.001999974250793457])\n",
      "odict_values(['pptx', 0.16680002212524414])\n",
      "odict_values(['pps', 0.11080002784729004])\n",
      "odict_values(['swf', 0.15119999647140503])\n",
      "odict_values(['txt', 0.0])\n",
      "odict_values(['ppt', 0.14099997282028198])\n",
      "odict_values(['unk', 0.020799994468688965])\n",
      "odict_values(['log', 0.0])\n",
      "odict_values(['xls', 0.013400018215179443])\n",
      "odict_values(['csv', 0.000599980354309082])\n",
      "odict_values(['html', 0.0])\n",
      "odict_values(['gz', 0.1574000120162964])\n",
      "odict_values(['eps', 0.0098000168800354])\n",
      "odict_values(['dbase3', 0.0])\n",
      "odict_values(['dwf', 0.05019998550415039])\n",
      "odict_values(['doc', 0.08899998664855957])\n",
      "odict_values(['hlp', 0.0])\n",
      "odict_values(['sql', 0.0026000142097473145])\n"
     ]
    }
   ],
   "source": [
    "rep = report.Reporter2(os.path.join(result_dir, 'randomness.tsv'))\n",
    "for r in randomness.values():\n",
    "    rep.line(**r)\n",
    "    print(r.values())\n",
    "rep.close()"
   ]
  },
  {
   "cell_type": "markdown",
   "metadata": {},
   "source": [
    "# Plot"
   ]
  },
  {
   "cell_type": "code",
   "execution_count": 16,
   "metadata": {},
   "outputs": [
    {
     "data": {
      "text/html": [
       "<div>\n",
       "<style scoped>\n",
       "    .dataframe tbody tr th:only-of-type {\n",
       "        vertical-align: middle;\n",
       "    }\n",
       "\n",
       "    .dataframe tbody tr th {\n",
       "        vertical-align: top;\n",
       "    }\n",
       "\n",
       "    .dataframe thead th {\n",
       "        text-align: right;\n",
       "    }\n",
       "</style>\n",
       "<table border=\"1\" class=\"dataframe\">\n",
       "  <thead>\n",
       "    <tr style=\"text-align: right;\">\n",
       "      <th></th>\n",
       "      <th>category</th>\n",
       "      <th>Epochs</th>\n",
       "      <th>Time</th>\n",
       "      <th>val_binary_accuracy</th>\n",
       "      <th>val_categorical_accuracy</th>\n",
       "    </tr>\n",
       "  </thead>\n",
       "  <tbody>\n",
       "    <tr>\n",
       "      <td>0</td>\n",
       "      <td>unk</td>\n",
       "      <td>19</td>\n",
       "      <td>3m48s</td>\n",
       "      <td>0.982375</td>\n",
       "      <td>0.982375</td>\n",
       "    </tr>\n",
       "    <tr>\n",
       "      <td>1</td>\n",
       "      <td>jpg</td>\n",
       "      <td>11</td>\n",
       "      <td>2m12s</td>\n",
       "      <td>0.531750</td>\n",
       "      <td>0.531750</td>\n",
       "    </tr>\n",
       "  </tbody>\n",
       "</table>\n",
       "</div>"
      ],
      "text/plain": [
       "  category  Epochs   Time  val_binary_accuracy  val_categorical_accuracy\n",
       "0      unk      19  3m48s             0.982375                  0.982375\n",
       "1      jpg      11  2m12s             0.531750                  0.531750"
      ]
     },
     "execution_count": 16,
     "metadata": {},
     "output_type": "execute_result"
    }
   ],
   "source": [
    "data = pd.read_csv('results/exp36/experiments.tsv', sep='\\t')\n",
    "data[:2]"
   ]
  },
  {
   "cell_type": "code",
   "execution_count": 30,
   "metadata": {},
   "outputs": [],
   "source": [
    "data = data.sort_values('val_categorical_accuracy')"
   ]
  },
  {
   "cell_type": "code",
   "execution_count": 42,
   "metadata": {},
   "outputs": [
    {
     "data": {
      "image/png": "[encoded data removed]",
      "text/plain": [
       "<Figure size 864x288 with 1 Axes>"
      ]
     },
     "metadata": {},
     "output_type": "display_data"
    }
   ],
   "source": [
    "data.plot.bar('category', ['val_categorical_accuracy','val_binary_accuracy'], figsize=(12,4))\n",
    "plt.show()"
   ]
  },
  {
   "cell_type": "code",
   "execution_count": 84,
   "metadata": {},
   "outputs": [
    {
     "data": {
      "text/html": [
       "<div>\n",
       "<style scoped>\n",
       "    .dataframe tbody tr th:only-of-type {\n",
       "        vertical-align: middle;\n",
       "    }\n",
       "\n",
       "    .dataframe tbody tr th {\n",
       "        vertical-align: top;\n",
       "    }\n",
       "\n",
       "    .dataframe thead th {\n",
       "        text-align: right;\n",
       "    }\n",
       "</style>\n",
       "<table border=\"1\" class=\"dataframe\">\n",
       "  <thead>\n",
       "    <tr style=\"text-align: right;\">\n",
       "      <th></th>\n",
       "      <th>category</th>\n",
       "      <th>randomness</th>\n",
       "    </tr>\n",
       "  </thead>\n",
       "  <tbody>\n",
       "    <tr>\n",
       "      <td>0</td>\n",
       "      <td>java</td>\n",
       "      <td>0.0000</td>\n",
       "    </tr>\n",
       "    <tr>\n",
       "      <td>1</td>\n",
       "      <td>jpg</td>\n",
       "      <td>0.0624</td>\n",
       "    </tr>\n",
       "  </tbody>\n",
       "</table>\n",
       "</div>"
      ],
      "text/plain": [
       "  category  randomness\n",
       "0     java      0.0000\n",
       "1      jpg      0.0624"
      ]
     },
     "execution_count": 84,
     "metadata": {},
     "output_type": "execute_result"
    }
   ],
   "source": [
    "rdata = pd.read_csv('results/exp36/randomness.tsv', sep='\\t')\n",
    "rdata[:2]"
   ]
  },
  {
   "cell_type": "code",
   "execution_count": 92,
   "metadata": {},
   "outputs": [
    {
     "data": {
      "text/html": [
       "<div>\n",
       "<style scoped>\n",
       "    .dataframe tbody tr th:only-of-type {\n",
       "        vertical-align: middle;\n",
       "    }\n",
       "\n",
       "    .dataframe tbody tr th {\n",
       "        vertical-align: top;\n",
       "    }\n",
       "\n",
       "    .dataframe thead th {\n",
       "        text-align: right;\n",
       "    }\n",
       "</style>\n",
       "<table border=\"1\" class=\"dataframe\">\n",
       "  <thead>\n",
       "    <tr style=\"text-align: right;\">\n",
       "      <th></th>\n",
       "      <th>category</th>\n",
       "      <th>Epochs</th>\n",
       "      <th>Time</th>\n",
       "      <th>val_binary_accuracy</th>\n",
       "      <th>val_categorical_accuracy</th>\n",
       "      <th>randomness</th>\n",
       "    </tr>\n",
       "  </thead>\n",
       "  <tbody>\n",
       "    <tr>\n",
       "      <td>0</td>\n",
       "      <td>dwf</td>\n",
       "      <td>9</td>\n",
       "      <td>1m50s</td>\n",
       "      <td>0.506375</td>\n",
       "      <td>0.506375</td>\n",
       "      <td>0.0502</td>\n",
       "    </tr>\n",
       "    <tr>\n",
       "      <td>1</td>\n",
       "      <td>jpg</td>\n",
       "      <td>11</td>\n",
       "      <td>2m12s</td>\n",
       "      <td>0.531750</td>\n",
       "      <td>0.531750</td>\n",
       "      <td>0.0624</td>\n",
       "    </tr>\n",
       "  </tbody>\n",
       "</table>\n",
       "</div>"
      ],
      "text/plain": [
       "  category  Epochs   Time  val_binary_accuracy  val_categorical_accuracy  \\\n",
       "0      dwf       9  1m50s             0.506375                  0.506375   \n",
       "1      jpg      11  2m12s             0.531750                  0.531750   \n",
       "\n",
       "   randomness  \n",
       "0      0.0502  \n",
       "1      0.0624  "
      ]
     },
     "execution_count": 92,
     "metadata": {},
     "output_type": "execute_result"
    }
   ],
   "source": [
    "mdata = pd.merge(data, rdata)\n",
    "mdata[:2]"
   ]
  },
  {
   "cell_type": "code",
   "execution_count": 93,
   "metadata": {},
   "outputs": [
    {
     "data": {
      "image/png": "[encoded data removed]",
      "text/plain": [
       "<Figure size 864x288 with 1 Axes>"
      ]
     },
     "metadata": {},
     "output_type": "display_data"
    }
   ],
   "source": [
    "mdata.plot.bar('category', ['val_categorical_accuracy','randomness'], figsize=(12,4))\n",
    "plt.show()"
   ]
  },
  {
   "cell_type": "code",
   "execution_count": 89,
   "metadata": {},
   "outputs": [],
   "source": [
    "mdata = mdata.sort_values('randomness')"
   ]
  },
  {
   "cell_type": "code",
   "execution_count": 90,
   "metadata": {},
   "outputs": [
    {
     "data": {
      "image/png": "[encoded data removed]",
      "text/plain": [
       "<Figure size 864x288 with 1 Axes>"
      ]
     },
     "metadata": {},
     "output_type": "display_data"
    }
   ],
   "source": [
    "mdata.plot.bar('category', ['val_categorical_accuracy','randomness'], figsize=(12,4))\n",
    "plt.show()"
   ]
  },
  {
   "cell_type": "code",
   "execution_count": 91,
   "metadata": {},
   "outputs": [
    {
     "data": {
      "text/html": [
       "<div>\n",
       "<style scoped>\n",
       "    .dataframe tbody tr th:only-of-type {\n",
       "        vertical-align: middle;\n",
       "    }\n",
       "\n",
       "    .dataframe tbody tr th {\n",
       "        vertical-align: top;\n",
       "    }\n",
       "\n",
       "    .dataframe thead th {\n",
       "        text-align: right;\n",
       "    }\n",
       "</style>\n",
       "<table border=\"1\" class=\"dataframe\">\n",
       "  <thead>\n",
       "    <tr style=\"text-align: right;\">\n",
       "      <th></th>\n",
       "      <th>category</th>\n",
       "      <th>Epochs</th>\n",
       "      <th>Time</th>\n",
       "      <th>val_binary_accuracy</th>\n",
       "      <th>val_categorical_accuracy</th>\n",
       "      <th>randomness</th>\n",
       "    </tr>\n",
       "  </thead>\n",
       "  <tbody>\n",
       "    <tr>\n",
       "      <td>29</td>\n",
       "      <td>html</td>\n",
       "      <td>5</td>\n",
       "      <td>1m01s</td>\n",
       "      <td>1.000000</td>\n",
       "      <td>1.000000</td>\n",
       "      <td>0.0000</td>\n",
       "    </tr>\n",
       "    <tr>\n",
       "      <td>27</td>\n",
       "      <td>kml</td>\n",
       "      <td>5</td>\n",
       "      <td>1m04s</td>\n",
       "      <td>1.000000</td>\n",
       "      <td>1.000000</td>\n",
       "      <td>0.0000</td>\n",
       "    </tr>\n",
       "    <tr>\n",
       "      <td>26</td>\n",
       "      <td>log</td>\n",
       "      <td>5</td>\n",
       "      <td>1m00s</td>\n",
       "      <td>1.000000</td>\n",
       "      <td>1.000000</td>\n",
       "      <td>0.0000</td>\n",
       "    </tr>\n",
       "    <tr>\n",
       "      <td>25</td>\n",
       "      <td>dbase3</td>\n",
       "      <td>5</td>\n",
       "      <td>1m03s</td>\n",
       "      <td>1.000000</td>\n",
       "      <td>1.000000</td>\n",
       "      <td>0.0000</td>\n",
       "    </tr>\n",
       "    <tr>\n",
       "      <td>24</td>\n",
       "      <td>hlp</td>\n",
       "      <td>5</td>\n",
       "      <td>1m02s</td>\n",
       "      <td>1.000000</td>\n",
       "      <td>1.000000</td>\n",
       "      <td>0.0000</td>\n",
       "    </tr>\n",
       "    <tr>\n",
       "      <td>22</td>\n",
       "      <td>java</td>\n",
       "      <td>5</td>\n",
       "      <td>1m02s</td>\n",
       "      <td>1.000000</td>\n",
       "      <td>1.000000</td>\n",
       "      <td>0.0000</td>\n",
       "    </tr>\n",
       "    <tr>\n",
       "      <td>19</td>\n",
       "      <td>txt</td>\n",
       "      <td>6</td>\n",
       "      <td>1m13s</td>\n",
       "      <td>0.999375</td>\n",
       "      <td>0.999375</td>\n",
       "      <td>0.0000</td>\n",
       "    </tr>\n",
       "    <tr>\n",
       "      <td>21</td>\n",
       "      <td>csv</td>\n",
       "      <td>5</td>\n",
       "      <td>1m01s</td>\n",
       "      <td>0.999875</td>\n",
       "      <td>0.999875</td>\n",
       "      <td>0.0006</td>\n",
       "    </tr>\n",
       "    <tr>\n",
       "      <td>28</td>\n",
       "      <td>xml</td>\n",
       "      <td>5</td>\n",
       "      <td>1m01s</td>\n",
       "      <td>1.000000</td>\n",
       "      <td>1.000000</td>\n",
       "      <td>0.0016</td>\n",
       "    </tr>\n",
       "    <tr>\n",
       "      <td>14</td>\n",
       "      <td>wp</td>\n",
       "      <td>6</td>\n",
       "      <td>1m17s</td>\n",
       "      <td>0.996500</td>\n",
       "      <td>0.996500</td>\n",
       "      <td>0.0020</td>\n",
       "    </tr>\n",
       "    <tr>\n",
       "      <td>23</td>\n",
       "      <td>sql</td>\n",
       "      <td>5</td>\n",
       "      <td>1m00s</td>\n",
       "      <td>1.000000</td>\n",
       "      <td>1.000000</td>\n",
       "      <td>0.0026</td>\n",
       "    </tr>\n",
       "    <tr>\n",
       "      <td>16</td>\n",
       "      <td>f</td>\n",
       "      <td>8</td>\n",
       "      <td>1m39s</td>\n",
       "      <td>0.997125</td>\n",
       "      <td>0.997125</td>\n",
       "      <td>0.0036</td>\n",
       "    </tr>\n",
       "    <tr>\n",
       "      <td>20</td>\n",
       "      <td>rtf</td>\n",
       "      <td>5</td>\n",
       "      <td>1m01s</td>\n",
       "      <td>0.999375</td>\n",
       "      <td>0.999375</td>\n",
       "      <td>0.0064</td>\n",
       "    </tr>\n",
       "    <tr>\n",
       "      <td>17</td>\n",
       "      <td>eps</td>\n",
       "      <td>8</td>\n",
       "      <td>1m42s</td>\n",
       "      <td>0.998875</td>\n",
       "      <td>0.998875</td>\n",
       "      <td>0.0098</td>\n",
       "    </tr>\n",
       "    <tr>\n",
       "      <td>15</td>\n",
       "      <td>xls</td>\n",
       "      <td>8</td>\n",
       "      <td>1m36s</td>\n",
       "      <td>0.996875</td>\n",
       "      <td>0.996875</td>\n",
       "      <td>0.0134</td>\n",
       "    </tr>\n",
       "    <tr>\n",
       "      <td>18</td>\n",
       "      <td>ps</td>\n",
       "      <td>6</td>\n",
       "      <td>1m18s</td>\n",
       "      <td>0.999125</td>\n",
       "      <td>0.999125</td>\n",
       "      <td>0.0200</td>\n",
       "    </tr>\n",
       "    <tr>\n",
       "      <td>13</td>\n",
       "      <td>unk</td>\n",
       "      <td>19</td>\n",
       "      <td>3m48s</td>\n",
       "      <td>0.982375</td>\n",
       "      <td>0.982375</td>\n",
       "      <td>0.0208</td>\n",
       "    </tr>\n",
       "    <tr>\n",
       "      <td>0</td>\n",
       "      <td>dwf</td>\n",
       "      <td>9</td>\n",
       "      <td>1m50s</td>\n",
       "      <td>0.506375</td>\n",
       "      <td>0.506375</td>\n",
       "      <td>0.0502</td>\n",
       "    </tr>\n",
       "    <tr>\n",
       "      <td>2</td>\n",
       "      <td>pdf</td>\n",
       "      <td>9</td>\n",
       "      <td>1m49s</td>\n",
       "      <td>0.590875</td>\n",
       "      <td>0.590875</td>\n",
       "      <td>0.0602</td>\n",
       "    </tr>\n",
       "    <tr>\n",
       "      <td>1</td>\n",
       "      <td>jpg</td>\n",
       "      <td>11</td>\n",
       "      <td>2m12s</td>\n",
       "      <td>0.531750</td>\n",
       "      <td>0.531750</td>\n",
       "      <td>0.0624</td>\n",
       "    </tr>\n",
       "    <tr>\n",
       "      <td>10</td>\n",
       "      <td>gif</td>\n",
       "      <td>15</td>\n",
       "      <td>2m57s</td>\n",
       "      <td>0.852000</td>\n",
       "      <td>0.852000</td>\n",
       "      <td>0.0658</td>\n",
       "    </tr>\n",
       "    <tr>\n",
       "      <td>11</td>\n",
       "      <td>text</td>\n",
       "      <td>11</td>\n",
       "      <td>2m15s</td>\n",
       "      <td>0.909625</td>\n",
       "      <td>0.909625</td>\n",
       "      <td>0.0724</td>\n",
       "    </tr>\n",
       "    <tr>\n",
       "      <td>12</td>\n",
       "      <td>doc</td>\n",
       "      <td>11</td>\n",
       "      <td>2m14s</td>\n",
       "      <td>0.955625</td>\n",
       "      <td>0.955625</td>\n",
       "      <td>0.0890</td>\n",
       "    </tr>\n",
       "    <tr>\n",
       "      <td>7</td>\n",
       "      <td>pps</td>\n",
       "      <td>9</td>\n",
       "      <td>2m15s</td>\n",
       "      <td>0.715500</td>\n",
       "      <td>0.715500</td>\n",
       "      <td>0.1108</td>\n",
       "    </tr>\n",
       "    <tr>\n",
       "      <td>3</td>\n",
       "      <td>png</td>\n",
       "      <td>10</td>\n",
       "      <td>2m03s</td>\n",
       "      <td>0.613125</td>\n",
       "      <td>0.613125</td>\n",
       "      <td>0.1126</td>\n",
       "    </tr>\n",
       "    <tr>\n",
       "      <td>6</td>\n",
       "      <td>kmz</td>\n",
       "      <td>12</td>\n",
       "      <td>2m22s</td>\n",
       "      <td>0.669375</td>\n",
       "      <td>0.669375</td>\n",
       "      <td>0.1390</td>\n",
       "    </tr>\n",
       "    <tr>\n",
       "      <td>9</td>\n",
       "      <td>ppt</td>\n",
       "      <td>10</td>\n",
       "      <td>1m59s</td>\n",
       "      <td>0.813750</td>\n",
       "      <td>0.813750</td>\n",
       "      <td>0.1410</td>\n",
       "    </tr>\n",
       "    <tr>\n",
       "      <td>4</td>\n",
       "      <td>swf</td>\n",
       "      <td>11</td>\n",
       "      <td>2m20s</td>\n",
       "      <td>0.644000</td>\n",
       "      <td>0.644000</td>\n",
       "      <td>0.1512</td>\n",
       "    </tr>\n",
       "    <tr>\n",
       "      <td>5</td>\n",
       "      <td>gz</td>\n",
       "      <td>11</td>\n",
       "      <td>2m14s</td>\n",
       "      <td>0.655500</td>\n",
       "      <td>0.655500</td>\n",
       "      <td>0.1574</td>\n",
       "    </tr>\n",
       "    <tr>\n",
       "      <td>8</td>\n",
       "      <td>pptx</td>\n",
       "      <td>11</td>\n",
       "      <td>2m22s</td>\n",
       "      <td>0.754000</td>\n",
       "      <td>0.754000</td>\n",
       "      <td>0.1668</td>\n",
       "    </tr>\n",
       "  </tbody>\n",
       "</table>\n",
       "</div>"
      ],
      "text/plain": [
       "   category  Epochs   Time  val_binary_accuracy  val_categorical_accuracy  \\\n",
       "29     html       5  1m01s             1.000000                  1.000000   \n",
       "27      kml       5  1m04s             1.000000                  1.000000   \n",
       "26      log       5  1m00s             1.000000                  1.000000   \n",
       "25   dbase3       5  1m03s             1.000000                  1.000000   \n",
       "24      hlp       5  1m02s             1.000000                  1.000000   \n",
       "22     java       5  1m02s             1.000000                  1.000000   \n",
       "19      txt       6  1m13s             0.999375                  0.999375   \n",
       "21      csv       5  1m01s             0.999875                  0.999875   \n",
       "28      xml       5  1m01s             1.000000                  1.000000   \n",
       "14       wp       6  1m17s             0.996500                  0.996500   \n",
       "23      sql       5  1m00s             1.000000                  1.000000   \n",
       "16        f       8  1m39s             0.997125                  0.997125   \n",
       "20      rtf       5  1m01s             0.999375                  0.999375   \n",
       "17      eps       8  1m42s             0.998875                  0.998875   \n",
       "15      xls       8  1m36s             0.996875                  0.996875   \n",
       "18       ps       6  1m18s             0.999125                  0.999125   \n",
       "13      unk      19  3m48s             0.982375                  0.982375   \n",
       "0       dwf       9  1m50s             0.506375                  0.506375   \n",
       "2       pdf       9  1m49s             0.590875                  0.590875   \n",
       "1       jpg      11  2m12s             0.531750                  0.531750   \n",
       "10      gif      15  2m57s             0.852000                  0.852000   \n",
       "11     text      11  2m15s             0.909625                  0.909625   \n",
       "12      doc      11  2m14s             0.955625                  0.955625   \n",
       "7       pps       9  2m15s             0.715500                  0.715500   \n",
       "3       png      10  2m03s             0.613125                  0.613125   \n",
       "6       kmz      12  2m22s             0.669375                  0.669375   \n",
       "9       ppt      10  1m59s             0.813750                  0.813750   \n",
       "4       swf      11  2m20s             0.644000                  0.644000   \n",
       "5        gz      11  2m14s             0.655500                  0.655500   \n",
       "8      pptx      11  2m22s             0.754000                  0.754000   \n",
       "\n",
       "    randomness  \n",
       "29      0.0000  \n",
       "27      0.0000  \n",
       "26      0.0000  \n",
       "25      0.0000  \n",
       "24      0.0000  \n",
       "22      0.0000  \n",
       "19      0.0000  \n",
       "21      0.0006  \n",
       "28      0.0016  \n",
       "14      0.0020  \n",
       "23      0.0026  \n",
       "16      0.0036  \n",
       "20      0.0064  \n",
       "17      0.0098  \n",
       "15      0.0134  \n",
       "18      0.0200  \n",
       "13      0.0208  \n",
       "0       0.0502  \n",
       "2       0.0602  \n",
       "1       0.0624  \n",
       "10      0.0658  \n",
       "11      0.0724  \n",
       "12      0.0890  \n",
       "7       0.1108  \n",
       "3       0.1126  \n",
       "6       0.1390  \n",
       "9       0.1410  \n",
       "4       0.1512  \n",
       "5       0.1574  \n",
       "8       0.1668  "
      ]
     },
     "execution_count": 91,
     "metadata": {},
     "output_type": "execute_result"
    }
   ],
   "source": [
    "mdata['category']"
   ]
  },
  {
   "cell_type": "code",
   "execution_count": 95,
   "metadata": {},
   "outputs": [
    {
     "data": {
      "text/html": [
       "<div>\n",
       "<style scoped>\n",
       "    .dataframe tbody tr th:only-of-type {\n",
       "        vertical-align: middle;\n",
       "    }\n",
       "\n",
       "    .dataframe tbody tr th {\n",
       "        vertical-align: top;\n",
       "    }\n",
       "\n",
       "    .dataframe thead th {\n",
       "        text-align: right;\n",
       "    }\n",
       "</style>\n",
       "<table border=\"1\" class=\"dataframe\">\n",
       "  <thead>\n",
       "    <tr style=\"text-align: right;\">\n",
       "      <th></th>\n",
       "      <th>category</th>\n",
       "      <th>Epochs</th>\n",
       "      <th>Time</th>\n",
       "      <th>val_binary_accuracy</th>\n",
       "      <th>val_categorical_accuracy</th>\n",
       "      <th>randomness</th>\n",
       "    </tr>\n",
       "  </thead>\n",
       "  <tbody>\n",
       "    <tr>\n",
       "      <td>0</td>\n",
       "      <td>dwf</td>\n",
       "      <td>9</td>\n",
       "      <td>1m50s</td>\n",
       "      <td>0.506375</td>\n",
       "      <td>0.506375</td>\n",
       "      <td>0.0502</td>\n",
       "    </tr>\n",
       "    <tr>\n",
       "      <td>1</td>\n",
       "      <td>jpg</td>\n",
       "      <td>11</td>\n",
       "      <td>2m12s</td>\n",
       "      <td>0.531750</td>\n",
       "      <td>0.531750</td>\n",
       "      <td>0.0624</td>\n",
       "    </tr>\n",
       "    <tr>\n",
       "      <td>2</td>\n",
       "      <td>pdf</td>\n",
       "      <td>9</td>\n",
       "      <td>1m49s</td>\n",
       "      <td>0.590875</td>\n",
       "      <td>0.590875</td>\n",
       "      <td>0.0602</td>\n",
       "    </tr>\n",
       "    <tr>\n",
       "      <td>3</td>\n",
       "      <td>png</td>\n",
       "      <td>10</td>\n",
       "      <td>2m03s</td>\n",
       "      <td>0.613125</td>\n",
       "      <td>0.613125</td>\n",
       "      <td>0.1126</td>\n",
       "    </tr>\n",
       "    <tr>\n",
       "      <td>4</td>\n",
       "      <td>swf</td>\n",
       "      <td>11</td>\n",
       "      <td>2m20s</td>\n",
       "      <td>0.644000</td>\n",
       "      <td>0.644000</td>\n",
       "      <td>0.1512</td>\n",
       "    </tr>\n",
       "    <tr>\n",
       "      <td>5</td>\n",
       "      <td>gz</td>\n",
       "      <td>11</td>\n",
       "      <td>2m14s</td>\n",
       "      <td>0.655500</td>\n",
       "      <td>0.655500</td>\n",
       "      <td>0.1574</td>\n",
       "    </tr>\n",
       "    <tr>\n",
       "      <td>6</td>\n",
       "      <td>kmz</td>\n",
       "      <td>12</td>\n",
       "      <td>2m22s</td>\n",
       "      <td>0.669375</td>\n",
       "      <td>0.669375</td>\n",
       "      <td>0.1390</td>\n",
       "    </tr>\n",
       "    <tr>\n",
       "      <td>7</td>\n",
       "      <td>pps</td>\n",
       "      <td>9</td>\n",
       "      <td>2m15s</td>\n",
       "      <td>0.715500</td>\n",
       "      <td>0.715500</td>\n",
       "      <td>0.1108</td>\n",
       "    </tr>\n",
       "    <tr>\n",
       "      <td>8</td>\n",
       "      <td>pptx</td>\n",
       "      <td>11</td>\n",
       "      <td>2m22s</td>\n",
       "      <td>0.754000</td>\n",
       "      <td>0.754000</td>\n",
       "      <td>0.1668</td>\n",
       "    </tr>\n",
       "    <tr>\n",
       "      <td>9</td>\n",
       "      <td>ppt</td>\n",
       "      <td>10</td>\n",
       "      <td>1m59s</td>\n",
       "      <td>0.813750</td>\n",
       "      <td>0.813750</td>\n",
       "      <td>0.1410</td>\n",
       "    </tr>\n",
       "    <tr>\n",
       "      <td>10</td>\n",
       "      <td>gif</td>\n",
       "      <td>15</td>\n",
       "      <td>2m57s</td>\n",
       "      <td>0.852000</td>\n",
       "      <td>0.852000</td>\n",
       "      <td>0.0658</td>\n",
       "    </tr>\n",
       "    <tr>\n",
       "      <td>11</td>\n",
       "      <td>text</td>\n",
       "      <td>11</td>\n",
       "      <td>2m15s</td>\n",
       "      <td>0.909625</td>\n",
       "      <td>0.909625</td>\n",
       "      <td>0.0724</td>\n",
       "    </tr>\n",
       "    <tr>\n",
       "      <td>12</td>\n",
       "      <td>doc</td>\n",
       "      <td>11</td>\n",
       "      <td>2m14s</td>\n",
       "      <td>0.955625</td>\n",
       "      <td>0.955625</td>\n",
       "      <td>0.0890</td>\n",
       "    </tr>\n",
       "  </tbody>\n",
       "</table>\n",
       "</div>"
      ],
      "text/plain": [
       "   category  Epochs   Time  val_binary_accuracy  val_categorical_accuracy  \\\n",
       "0       dwf       9  1m50s             0.506375                  0.506375   \n",
       "1       jpg      11  2m12s             0.531750                  0.531750   \n",
       "2       pdf       9  1m49s             0.590875                  0.590875   \n",
       "3       png      10  2m03s             0.613125                  0.613125   \n",
       "4       swf      11  2m20s             0.644000                  0.644000   \n",
       "5        gz      11  2m14s             0.655500                  0.655500   \n",
       "6       kmz      12  2m22s             0.669375                  0.669375   \n",
       "7       pps       9  2m15s             0.715500                  0.715500   \n",
       "8      pptx      11  2m22s             0.754000                  0.754000   \n",
       "9       ppt      10  1m59s             0.813750                  0.813750   \n",
       "10      gif      15  2m57s             0.852000                  0.852000   \n",
       "11     text      11  2m15s             0.909625                  0.909625   \n",
       "12      doc      11  2m14s             0.955625                  0.955625   \n",
       "\n",
       "    randomness  \n",
       "0       0.0502  \n",
       "1       0.0624  \n",
       "2       0.0602  \n",
       "3       0.1126  \n",
       "4       0.1512  \n",
       "5       0.1574  \n",
       "6       0.1390  \n",
       "7       0.1108  \n",
       "8       0.1668  \n",
       "9       0.1410  \n",
       "10      0.0658  \n",
       "11      0.0724  \n",
       "12      0.0890  "
      ]
     },
     "execution_count": 95,
     "metadata": {},
     "output_type": "execute_result"
    }
   ],
   "source": [
    "selected = mdata[mdata['val_categorical_accuracy']<0.96]\n",
    "selected"
   ]
  },
  {
   "cell_type": "code",
   "execution_count": 96,
   "metadata": {},
   "outputs": [
    {
     "data": {
      "image/png": "[encoded data removed]",
      "text/plain": [
       "<Figure size 864x288 with 1 Axes>"
      ]
     },
     "metadata": {},
     "output_type": "display_data"
    }
   ],
   "source": [
    "selected.plot.bar('category', ['val_categorical_accuracy','randomness'], figsize=(12,4))\n",
    "plt.show()"
   ]
  },
  {
   "cell_type": "code",
   "execution_count": 98,
   "metadata": {},
   "outputs": [
    {
     "data": {
      "image/png": "[encoded data removed]",
      "text/plain": [
       "<Figure size 864x288 with 1 Axes>"
      ]
     },
     "metadata": {},
     "output_type": "display_data"
    }
   ],
   "source": [
    "selected = selected.sort_values('randomness')\n",
    "selected.plot.bar('category', ['val_categorical_accuracy','randomness'], figsize=(12,4))\n",
    "plt.show()"
   ]
  },
  {
   "cell_type": "code",
   "execution_count": 120,
   "metadata": {},
   "outputs": [
    {
     "data": {
      "text/plain": [
       "0      dwf\n",
       "2      pdf\n",
       "1      jpg\n",
       "10     gif\n",
       "11    text\n",
       "12     doc\n",
       "7      pps\n",
       "3      png\n",
       "6      kmz\n",
       "9      ppt\n",
       "4      swf\n",
       "5       gz\n",
       "8     pptx\n",
       "Name: category, dtype: object"
      ]
     },
     "execution_count": 120,
     "metadata": {},
     "output_type": "execute_result"
    }
   ],
   "source": [
    "selected.category"
   ]
  },
  {
   "cell_type": "markdown",
   "metadata": {},
   "source": [
    "# Filter dataset"
   ]
  },
  {
   "cell_type": "code",
   "execution_count": null,
   "metadata": {},
   "outputs": [],
   "source": [
    "def filter_dataset(model, dset):\n",
    "    filtered = {}\n",
    "    for filename in dset.filenames:\n",
    "        sector_count = count_sectors(filename)\n",
    "        filtered[filename] = np.zeros((sector_count,))\n",
    "        with open(filename, 'rb') as infile:\n",
    "            for sector in range(sector_count):\n",
    "                b = infile.read(512)\n",
    "                assert len(b) > 0\n",
    "                blk = np.zeros((512,), dtype='int')\n",
    "                blk[:len(b)] = [int(x) for x in b]\n",
    "                ys = model.predict(xs_encoder_8bits_11([blk]))\n",
    "                y = ys[0]\n",
    "                filtered[filename][sector] = np.argmax(y, axis=-1)\n",
    "    return filtered"
   ]
  },
  {
   "cell_type": "code",
   "execution_count": 117,
   "metadata": {},
   "outputs": [],
   "source": [
    "def save_filtered(filtered, filepath):\n",
    "    with open(filepath, 'wb') as f:\n",
    "        for k, v in filtered.items():\n",
    "            f.write(str.encode('%s\\t' % k))\n",
    "            for n in v:\n",
    "                f.write(str.encode(str(int(n))))\n",
    "            f.write(b'\\n')"
   ]
  },
  {
   "cell_type": "code",
   "execution_count": 119,
   "metadata": {},
   "outputs": [
    {
     "name": "stdout",
     "output_type": "stream",
     "text": [
      "java\n",
      "jpg\n",
      "kml\n",
      "pdf\n",
      "kmz\n",
      "text\n",
      "xml\n",
      "png\n",
      "rtf\n",
      "ps\n",
      "gif\n",
      "f\n",
      "wp\n",
      "pptx\n",
      "pps\n",
      "swf\n",
      "txt\n",
      "ppt\n",
      "unk\n",
      "log\n",
      "xls\n",
      "csv\n",
      "html\n",
      "gz\n",
      "eps\n",
      "dbase3\n",
      "dwf\n",
      "doc\n",
      "hlp\n",
      "sql\n"
     ]
    }
   ],
   "source": [
    "for cat in cat_models:\n",
    "    print(cat)\n",
    "    filtered = filter_dataset(cat_models[cat], rawset.by_category()[cat])\n",
    "    save_filtered(filtered, result_dir + '/' + cat + '.rnd')"
   ]
  },
  {
   "cell_type": "code",
   "execution_count": null,
   "metadata": {},
   "outputs": [],
   "source": []
  }
 ],
 "metadata": {
  "kernelspec": {
   "display_name": "Python 3",
   "language": "python",
   "name": "python3"
  },
  "language_info": {
   "codemirror_mode": {
    "name": "ipython",
    "version": 3
   },
   "file_extension": ".py",
   "mimetype": "text/x-python",
   "name": "python",
   "nbconvert_exporter": "python",
   "pygments_lexer": "ipython3",
   "version": "3.6.6"
  }
 },
 "nbformat": 4,
 "nbformat_minor": 2
}
