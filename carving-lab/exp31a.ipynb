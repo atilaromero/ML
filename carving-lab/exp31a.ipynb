{
 "cells": [
  {
   "cell_type": "markdown",
   "metadata": {},
   "source": [
    "# Exp31a\n",
    "\n",
    "### How the number of classes affects accuracy?"
   ]
  },
  {
   "cell_type": "code",
   "execution_count": 58,
   "metadata": {},
   "outputs": [],
   "source": [
    "import os\n",
    "import datetime\n",
    "import random\n",
    "import tensorflow\n",
    "import numpy as np\n",
    "import pandas as pd\n",
    "import matplotlib.pyplot as plt\n",
    "from collections import OrderedDict\n",
    "\n",
    "import models\n",
    "import report\n",
    "from dataset import Dataset\n",
    "from report import Reporter\n",
    "from trainer import Trainer\n",
    "from batch_encoder import Dataset"
   ]
  },
  {
   "cell_type": "code",
   "execution_count": 59,
   "metadata": {},
   "outputs": [
    {
     "data": {
      "text/plain": [
       "'/home/atila.alr/Sync/codebase/src/github.com/atilaromero/ML/carving-lab'"
      ]
     },
     "execution_count": 59,
     "metadata": {},
     "output_type": "execute_result"
    }
   ],
   "source": [
    "pwd"
   ]
  },
  {
   "cell_type": "code",
   "execution_count": 60,
   "metadata": {},
   "outputs": [],
   "source": [
    "# raw_dataset_folder='/home/user/sample200'\n",
    "raw_dataset_folder='../datasets/govdocs1/sample200'\n",
    "minimum=200\n",
    "maximum=200\n",
    "result_dir = 'results/exp31a'"
   ]
  },
  {
   "cell_type": "code",
   "execution_count": 61,
   "metadata": {},
   "outputs": [],
   "source": [
    "rawset = Dataset.new_from_folders(raw_dataset_folder)\n",
    "rawset = rawset.filter(lambda x: rawset.category_from(x) not in ['text', 'unk'])\n",
    "rawset = rawset.filter_min_max(200, 200)"
   ]
  },
  {
   "cell_type": "code",
   "execution_count": 68,
   "metadata": {},
   "outputs": [],
   "source": [
    "def train_nclasses(rawset, reporter, iterations=1):\n",
    "    for it in range(iterations):\n",
    "        for n in [2,len(rawset.categories)]:#range(2, len(rawset.categories)+1):\n",
    "            cats = random.sample(rawset.by_category().keys(), n)\n",
    "            print(n, cats)\n",
    "            myset = rawset.filter(lambda x: rawset.category_from(x) in cats)\n",
    "            myset.rebuild_categories()\n",
    "            tset, vset = myset.rnd_split_fraction_by_category(0.5)\n",
    "\n",
    "            model = models.C64_16_2pr_C32_4_2pr_C64_32_2pr_F_D(\n",
    "                n, 8, 'softmax', 'categorical_crossentropy')\n",
    "            result = Trainer(model).train(tset, vset)\n",
    "            r.line(n=n,\n",
    "                cats=','.join(cats),\n",
    "                val_categorical_accuracy=result.history.history['val_categorical_accuracy'][-1],\n",
    "            )\n",
    "        r.close()"
   ]
  },
  {
   "cell_type": "code",
   "execution_count": 69,
   "metadata": {},
   "outputs": [],
   "source": [
    "not_random = ['html', \n",
    "    'kml', \n",
    "    'log', \n",
    "    'dbase3', \n",
    "    'hlp', \n",
    "    'java', \n",
    "    'txt', \n",
    "    'csv', \n",
    "    'xml', \n",
    "    'wp', \n",
    "    'sql', \n",
    "    'f', \n",
    "    'rtf', \n",
    "]\n",
    "has_random = ['eps', \n",
    "    'xls', \n",
    "    'ps', \n",
    "    'dwf', \n",
    "    'pdf', \n",
    "    'jpg', \n",
    "    'gif', \n",
    "    'doc', \n",
    "    'pps', \n",
    "    'png', \n",
    "    'kmz', \n",
    "    'ppt', \n",
    "    'swf', \n",
    "    'gz', \n",
    "    'pptx', \n",
    "    ]"
   ]
  },
  {
   "cell_type": "code",
   "execution_count": 70,
   "metadata": {},
   "outputs": [],
   "source": [
    "mydset = rawset.filter(lambda x: rawset.category_from(x) in not_random)\n",
    "r = report.Reporter2(result_dir + '/not_random.tsv')\n",
    "mydset.rebuild_categories()\n",
    "mydset.categories"
   ]
  },
  {
   "cell_type": "code",
   "execution_count": 73,
   "metadata": {},
   "outputs": [
    {
     "name": "stdout",
     "output_type": "stream",
     "text": [
      "2 ['html', 'f']\n",
      "13 ['dbase3', 'html', 'xml', 'rtf', 'csv', 'txt', 'hlp', 'log', 'wp', 'java', 'kml', 'f', 'sql']\n"
     ]
    }
   ],
   "source": [
    "train_nclasses(mydset, r)"
   ]
  },
  {
   "cell_type": "code",
   "execution_count": 74,
   "metadata": {},
   "outputs": [
    {
     "data": {
      "text/html": [
       "<div>\n",
       "<style scoped>\n",
       "    .dataframe tbody tr th:only-of-type {\n",
       "        vertical-align: middle;\n",
       "    }\n",
       "\n",
       "    .dataframe tbody tr th {\n",
       "        vertical-align: top;\n",
       "    }\n",
       "\n",
       "    .dataframe thead th {\n",
       "        text-align: right;\n",
       "    }\n",
       "</style>\n",
       "<table border=\"1\" class=\"dataframe\">\n",
       "  <thead>\n",
       "    <tr style=\"text-align: right;\">\n",
       "      <th></th>\n",
       "      <th>n</th>\n",
       "      <th>cats</th>\n",
       "      <th>val_categorical_accuracy</th>\n",
       "    </tr>\n",
       "  </thead>\n",
       "  <tbody>\n",
       "    <tr>\n",
       "      <td>0</td>\n",
       "      <td>2</td>\n",
       "      <td>html,f</td>\n",
       "      <td>0.849625</td>\n",
       "    </tr>\n",
       "    <tr>\n",
       "      <td>1</td>\n",
       "      <td>13</td>\n",
       "      <td>dbase3,html,xml,rtf,csv,txt,hlp,log,wp,java,km...</td>\n",
       "      <td>0.682875</td>\n",
       "    </tr>\n",
       "  </tbody>\n",
       "</table>\n",
       "</div>"
      ],
      "text/plain": [
       "    n                                               cats  \\\n",
       "0   2                                             html,f   \n",
       "1  13  dbase3,html,xml,rtf,csv,txt,hlp,log,wp,java,km...   \n",
       "\n",
       "   val_categorical_accuracy  \n",
       "0                  0.849625  \n",
       "1                  0.682875  "
      ]
     },
     "execution_count": 74,
     "metadata": {},
     "output_type": "execute_result"
    }
   ],
   "source": [
    "data = pd.read_csv('results/exp31a/not_random.tsv', sep='\\t')\n",
    "data"
   ]
  },
  {
   "cell_type": "code",
   "execution_count": 75,
   "metadata": {},
   "outputs": [
    {
     "data": {
      "text/plain": [
       "<matplotlib.axes._subplots.AxesSubplot at 0x7f0a70d64748>"
      ]
     },
     "execution_count": 75,
     "metadata": {},
     "output_type": "execute_result"
    },
    {
     "data": {
      "image/png": "[encoded data removed]",
      "text/plain": [
       "<Figure size 864x288 with 1 Axes>"
      ]
     },
     "metadata": {},
     "output_type": "display_data"
    }
   ],
   "source": [
    "data.plot.scatter('n', 'val_categorical_accuracy', figsize=(12,4), style='-o', ylim=(0,1), grid=True)\n"
   ]
  },
  {
   "cell_type": "code",
   "execution_count": null,
   "metadata": {},
   "outputs": [],
   "source": []
  },
  {
   "cell_type": "code",
   "execution_count": 77,
   "metadata": {},
   "outputs": [
    {
     "data": {
      "text/plain": [
       "['doc',\n",
       " 'dwf',\n",
       " 'eps',\n",
       " 'gif',\n",
       " 'gz',\n",
       " 'jpg',\n",
       " 'kmz',\n",
       " 'pdf',\n",
       " 'png',\n",
       " 'pps',\n",
       " 'ppt',\n",
       " 'pptx',\n",
       " 'ps',\n",
       " 'swf',\n",
       " 'xls']"
      ]
     },
     "execution_count": 77,
     "metadata": {},
     "output_type": "execute_result"
    }
   ],
   "source": [
    "mydset = rawset.filter(lambda x: rawset.category_from(x) in has_random)\n",
    "r = report.Reporter2(result_dir + '/has_random.tsv')\n",
    "mydset.rebuild_categories()\n",
    "mydset.categories"
   ]
  },
  {
   "cell_type": "code",
   "execution_count": 78,
   "metadata": {},
   "outputs": [
    {
     "name": "stdout",
     "output_type": "stream",
     "text": [
      "2 ['dwf', 'png']\n",
      "15 ['swf', 'gif', 'pptx', 'png', 'jpg', 'pdf', 'doc', 'ppt', 'gz', 'pps', 'ps', 'eps', 'kmz', 'dwf', 'xls']\n"
     ]
    }
   ],
   "source": [
    "train_nclasses(mydset, r)"
   ]
  },
  {
   "cell_type": "code",
   "execution_count": 79,
   "metadata": {},
   "outputs": [
    {
     "data": {
      "text/html": [
       "<div>\n",
       "<style scoped>\n",
       "    .dataframe tbody tr th:only-of-type {\n",
       "        vertical-align: middle;\n",
       "    }\n",
       "\n",
       "    .dataframe tbody tr th {\n",
       "        vertical-align: top;\n",
       "    }\n",
       "\n",
       "    .dataframe thead th {\n",
       "        text-align: right;\n",
       "    }\n",
       "</style>\n",
       "<table border=\"1\" class=\"dataframe\">\n",
       "  <thead>\n",
       "    <tr style=\"text-align: right;\">\n",
       "      <th></th>\n",
       "      <th>n</th>\n",
       "      <th>cats</th>\n",
       "      <th>val_categorical_accuracy</th>\n",
       "    </tr>\n",
       "  </thead>\n",
       "  <tbody>\n",
       "    <tr>\n",
       "      <td>0</td>\n",
       "      <td>2</td>\n",
       "      <td>dwf,png</td>\n",
       "      <td>0.662625</td>\n",
       "    </tr>\n",
       "    <tr>\n",
       "      <td>1</td>\n",
       "      <td>15</td>\n",
       "      <td>swf,gif,pptx,png,jpg,pdf,doc,ppt,gz,pps,ps,eps...</td>\n",
       "      <td>0.323625</td>\n",
       "    </tr>\n",
       "  </tbody>\n",
       "</table>\n",
       "</div>"
      ],
      "text/plain": [
       "    n                                               cats  \\\n",
       "0   2                                            dwf,png   \n",
       "1  15  swf,gif,pptx,png,jpg,pdf,doc,ppt,gz,pps,ps,eps...   \n",
       "\n",
       "   val_categorical_accuracy  \n",
       "0                  0.662625  \n",
       "1                  0.323625  "
      ]
     },
     "execution_count": 79,
     "metadata": {},
     "output_type": "execute_result"
    }
   ],
   "source": [
    "data = pd.read_csv('results/exp31a/has_random.tsv', sep='\\t')\n",
    "data"
   ]
  },
  {
   "cell_type": "code",
   "execution_count": 81,
   "metadata": {},
   "outputs": [
    {
     "data": {
      "text/plain": [
       "<matplotlib.axes._subplots.AxesSubplot at 0x7f0a6bf3dc50>"
      ]
     },
     "execution_count": 81,
     "metadata": {},
     "output_type": "execute_result"
    },
    {
     "data": {
      "image/png": "[encoded data removed]",
      "text/plain": [
       "<Figure size 864x288 with 1 Axes>"
      ]
     },
     "metadata": {},
     "output_type": "display_data"
    }
   ],
   "source": [
    "data.plot.scatter('n', 'val_categorical_accuracy', figsize=(12,4), style='-o', ylim=(0,1), grid=True)\n"
   ]
  },
  {
   "cell_type": "code",
   "execution_count": null,
   "metadata": {},
   "outputs": [],
   "source": []
  }
 ],
 "metadata": {
  "kernelspec": {
   "display_name": "Python 3",
   "language": "python",
   "name": "python3"
  },
  "language_info": {
   "codemirror_mode": {
    "name": "ipython",
    "version": 3
   },
   "file_extension": ".py",
   "mimetype": "text/x-python",
   "name": "python",
   "nbconvert_exporter": "python",
   "pygments_lexer": "ipython3",
   "version": "3.6.6"
  }
 },
 "nbformat": 4,
 "nbformat_minor": 2
}
