{
 "cells": [
  {
   "cell_type": "code",
   "execution_count": 1,
   "metadata": {},
   "outputs": [
    {
     "name": "stderr",
     "output_type": "stream",
     "text": [
      "/home/atila.alr/.local/lib/python3.6/site-packages/tensorflow/python/framework/dtypes.py:516: FutureWarning: Passing (type, 1) or '1type' as a synonym of type is deprecated; in a future version of numpy, it will be understood as (type, (1,)) / '(1,)type'.\n",
      "  _np_qint8 = np.dtype([(\"qint8\", np.int8, 1)])\n",
      "/home/atila.alr/.local/lib/python3.6/site-packages/tensorflow/python/framework/dtypes.py:517: FutureWarning: Passing (type, 1) or '1type' as a synonym of type is deprecated; in a future version of numpy, it will be understood as (type, (1,)) / '(1,)type'.\n",
      "  _np_quint8 = np.dtype([(\"quint8\", np.uint8, 1)])\n",
      "/home/atila.alr/.local/lib/python3.6/site-packages/tensorflow/python/framework/dtypes.py:518: FutureWarning: Passing (type, 1) or '1type' as a synonym of type is deprecated; in a future version of numpy, it will be understood as (type, (1,)) / '(1,)type'.\n",
      "  _np_qint16 = np.dtype([(\"qint16\", np.int16, 1)])\n",
      "/home/atila.alr/.local/lib/python3.6/site-packages/tensorflow/python/framework/dtypes.py:519: FutureWarning: Passing (type, 1) or '1type' as a synonym of type is deprecated; in a future version of numpy, it will be understood as (type, (1,)) / '(1,)type'.\n",
      "  _np_quint16 = np.dtype([(\"quint16\", np.uint16, 1)])\n",
      "/home/atila.alr/.local/lib/python3.6/site-packages/tensorflow/python/framework/dtypes.py:520: FutureWarning: Passing (type, 1) or '1type' as a synonym of type is deprecated; in a future version of numpy, it will be understood as (type, (1,)) / '(1,)type'.\n",
      "  _np_qint32 = np.dtype([(\"qint32\", np.int32, 1)])\n",
      "/home/atila.alr/.local/lib/python3.6/site-packages/tensorflow/python/framework/dtypes.py:525: FutureWarning: Passing (type, 1) or '1type' as a synonym of type is deprecated; in a future version of numpy, it will be understood as (type, (1,)) / '(1,)type'.\n",
      "  np_resource = np.dtype([(\"resource\", np.ubyte, 1)])\n",
      "/home/atila.alr/.local/lib/python3.6/site-packages/tensorboard/compat/tensorflow_stub/dtypes.py:541: FutureWarning: Passing (type, 1) or '1type' as a synonym of type is deprecated; in a future version of numpy, it will be understood as (type, (1,)) / '(1,)type'.\n",
      "  _np_qint8 = np.dtype([(\"qint8\", np.int8, 1)])\n",
      "/home/atila.alr/.local/lib/python3.6/site-packages/tensorboard/compat/tensorflow_stub/dtypes.py:542: FutureWarning: Passing (type, 1) or '1type' as a synonym of type is deprecated; in a future version of numpy, it will be understood as (type, (1,)) / '(1,)type'.\n",
      "  _np_quint8 = np.dtype([(\"quint8\", np.uint8, 1)])\n",
      "/home/atila.alr/.local/lib/python3.6/site-packages/tensorboard/compat/tensorflow_stub/dtypes.py:543: FutureWarning: Passing (type, 1) or '1type' as a synonym of type is deprecated; in a future version of numpy, it will be understood as (type, (1,)) / '(1,)type'.\n",
      "  _np_qint16 = np.dtype([(\"qint16\", np.int16, 1)])\n",
      "/home/atila.alr/.local/lib/python3.6/site-packages/tensorboard/compat/tensorflow_stub/dtypes.py:544: FutureWarning: Passing (type, 1) or '1type' as a synonym of type is deprecated; in a future version of numpy, it will be understood as (type, (1,)) / '(1,)type'.\n",
      "  _np_quint16 = np.dtype([(\"quint16\", np.uint16, 1)])\n",
      "/home/atila.alr/.local/lib/python3.6/site-packages/tensorboard/compat/tensorflow_stub/dtypes.py:545: FutureWarning: Passing (type, 1) or '1type' as a synonym of type is deprecated; in a future version of numpy, it will be understood as (type, (1,)) / '(1,)type'.\n",
      "  _np_qint32 = np.dtype([(\"qint32\", np.int32, 1)])\n",
      "/home/atila.alr/.local/lib/python3.6/site-packages/tensorboard/compat/tensorflow_stub/dtypes.py:550: FutureWarning: Passing (type, 1) or '1type' as a synonym of type is deprecated; in a future version of numpy, it will be understood as (type, (1,)) / '(1,)type'.\n",
      "  np_resource = np.dtype([(\"resource\", np.ubyte, 1)])\n"
     ]
    }
   ],
   "source": [
    "import os\n",
    "import datetime\n",
    "import tensorflow\n",
    "import numpy as np\n",
    "import pandas as pd\n",
    "import matplotlib.pyplot as plt\n",
    "from collections import OrderedDict\n",
    "\n",
    "import models\n",
    "import report\n",
    "import block_sampler\n",
    "import batch_encoder\n",
    "from dataset import Dataset\n",
    "from report import Reporter\n",
    "from trainer import Trainer\n",
    "from batch_encoder import Dataset\n",
    "from block_sampler import count_sectors, BlockSamplerByFile\n",
    "from batch_encoder import xs_encoder_8bits_11, BatchEncoder\n",
    "from filter_random import gen_rndchk_models, evaluate_rnd_model, datasets_X_random"
   ]
  },
  {
   "cell_type": "code",
   "execution_count": 2,
   "metadata": {},
   "outputs": [],
   "source": [
    "# raw_dataset_folder='/home/user/sample200'\n",
    "raw_dataset_folder='../datasets/govdocs1/sample200'\n",
    "random_dataset_folder='../datasets/random'\n",
    "minimum=200\n",
    "maximum=200\n",
    "result_dir = 'results/exp36'"
   ]
  },
  {
   "cell_type": "code",
   "execution_count": 3,
   "metadata": {},
   "outputs": [],
   "source": [
    "rawset = Dataset.new_from_folders(raw_dataset_folder).filter_min_max(minimum, maximum)\n",
    "rndset = Dataset.new_from_folders(random_dataset_folder).filter_min_max(minimum, maximum)"
   ]
  },
  {
   "cell_type": "code",
   "execution_count": 4,
   "metadata": {},
   "outputs": [
    {
     "name": "stdout",
     "output_type": "stream",
     "text": [
      "log\n",
      "WARNING:tensorflow:From /home/atila.alr/.local/lib/python3.6/site-packages/tensorflow/python/ops/init_ops.py:97: calling GlorotUniform.__init__ (from tensorflow.python.ops.init_ops) with dtype is deprecated and will be removed in a future version.\n",
      "Instructions for updating:\n",
      "Call initializer instance with the dtype argument instead of passing it to the constructor\n",
      "WARNING:tensorflow:From /home/atila.alr/.local/lib/python3.6/site-packages/tensorflow/python/ops/init_ops.py:1251: calling VarianceScaling.__init__ (from tensorflow.python.ops.init_ops) with dtype is deprecated and will be removed in a future version.\n",
      "Instructions for updating:\n",
      "Call initializer instance with the dtype argument instead of passing it to the constructor\n",
      "WARNING:tensorflow:From /home/atila.alr/.local/lib/python3.6/site-packages/tensorflow/python/ops/init_ops.py:97: calling Zeros.__init__ (from tensorflow.python.ops.init_ops) with dtype is deprecated and will be removed in a future version.\n",
      "Instructions for updating:\n",
      "Call initializer instance with the dtype argument instead of passing it to the constructor\n",
      "rtf\n",
      "xls\n",
      "txt\n",
      "pps\n",
      "html\n",
      "dwf\n",
      "png\n",
      "ps\n",
      "pptx\n",
      "jpg\n",
      "unk\n",
      "csv\n",
      "sql\n",
      "hlp\n",
      "ppt\n",
      "gif\n",
      "eps\n",
      "f\n",
      "kmz\n",
      "pdf\n",
      "xml\n",
      "dbase3\n",
      "doc\n",
      "kml\n",
      "text\n",
      "gz\n",
      "wp\n",
      "java\n",
      "swf\n"
     ]
    }
   ],
   "source": [
    "cat_models = {}\n",
    "for cat in list(rawset.categories):\n",
    "    print(cat)\n",
    "    model = tensorflow.keras.models.load_model('results/exp36/%s_random.h5'%cat)\n",
    "    cat_models[cat] = model"
   ]
  },
  {
   "cell_type": "code",
   "execution_count": 5,
   "metadata": {},
   "outputs": [
    {
     "data": {
      "text/html": [
       "<div>\n",
       "<style scoped>\n",
       "    .dataframe tbody tr th:only-of-type {\n",
       "        vertical-align: middle;\n",
       "    }\n",
       "\n",
       "    .dataframe tbody tr th {\n",
       "        vertical-align: top;\n",
       "    }\n",
       "\n",
       "    .dataframe thead th {\n",
       "        text-align: right;\n",
       "    }\n",
       "</style>\n",
       "<table border=\"1\" class=\"dataframe\">\n",
       "  <thead>\n",
       "    <tr style=\"text-align: right;\">\n",
       "      <th></th>\n",
       "      <th>category</th>\n",
       "      <th>Epochs</th>\n",
       "      <th>Time</th>\n",
       "      <th>val_binary_accuracy</th>\n",
       "      <th>val_categorical_accuracy</th>\n",
       "    </tr>\n",
       "  </thead>\n",
       "  <tbody>\n",
       "    <tr>\n",
       "      <td>0</td>\n",
       "      <td>unk</td>\n",
       "      <td>19</td>\n",
       "      <td>3m48s</td>\n",
       "      <td>0.982375</td>\n",
       "      <td>0.982375</td>\n",
       "    </tr>\n",
       "    <tr>\n",
       "      <td>1</td>\n",
       "      <td>jpg</td>\n",
       "      <td>11</td>\n",
       "      <td>2m12s</td>\n",
       "      <td>0.531750</td>\n",
       "      <td>0.531750</td>\n",
       "    </tr>\n",
       "  </tbody>\n",
       "</table>\n",
       "</div>"
      ],
      "text/plain": [
       "  category  Epochs   Time  val_binary_accuracy  val_categorical_accuracy\n",
       "0      unk      19  3m48s             0.982375                  0.982375\n",
       "1      jpg      11  2m12s             0.531750                  0.531750"
      ]
     },
     "execution_count": 5,
     "metadata": {},
     "output_type": "execute_result"
    }
   ],
   "source": [
    "data = pd.read_csv('results/exp36/experiments.tsv', sep='\\t')\n",
    "data[:2]"
   ]
  },
  {
   "cell_type": "code",
   "execution_count": 6,
   "metadata": {},
   "outputs": [],
   "source": [
    "data = data.sort_values('val_categorical_accuracy')"
   ]
  },
  {
   "cell_type": "code",
   "execution_count": 7,
   "metadata": {},
   "outputs": [
    {
     "data": {
      "image/png": "[encoded data removed]",
      "text/plain": [
       "<Figure size 864x288 with 1 Axes>"
      ]
     },
     "metadata": {},
     "output_type": "display_data"
    }
   ],
   "source": [
    "data.plot.bar('category', ['val_categorical_accuracy','Epochs'], figsize=(12,4))\n",
    "plt.show()"
   ]
  },
  {
   "cell_type": "code",
   "execution_count": 8,
   "metadata": {},
   "outputs": [
    {
     "data": {
      "text/html": [
       "<div>\n",
       "<style scoped>\n",
       "    .dataframe tbody tr th:only-of-type {\n",
       "        vertical-align: middle;\n",
       "    }\n",
       "\n",
       "    .dataframe tbody tr th {\n",
       "        vertical-align: top;\n",
       "    }\n",
       "\n",
       "    .dataframe thead th {\n",
       "        text-align: right;\n",
       "    }\n",
       "</style>\n",
       "<table border=\"1\" class=\"dataframe\">\n",
       "  <thead>\n",
       "    <tr style=\"text-align: right;\">\n",
       "      <th></th>\n",
       "      <th>category</th>\n",
       "      <th>Epochs</th>\n",
       "      <th>Time</th>\n",
       "      <th>val_binary_accuracy</th>\n",
       "      <th>val_categorical_accuracy</th>\n",
       "    </tr>\n",
       "  </thead>\n",
       "  <tbody>\n",
       "    <tr>\n",
       "      <td>17</td>\n",
       "      <td>dwf</td>\n",
       "      <td>9</td>\n",
       "      <td>1m50s</td>\n",
       "      <td>0.506375</td>\n",
       "      <td>0.506375</td>\n",
       "    </tr>\n",
       "    <tr>\n",
       "      <td>1</td>\n",
       "      <td>jpg</td>\n",
       "      <td>11</td>\n",
       "      <td>2m12s</td>\n",
       "      <td>0.531750</td>\n",
       "      <td>0.531750</td>\n",
       "    </tr>\n",
       "    <tr>\n",
       "      <td>10</td>\n",
       "      <td>pdf</td>\n",
       "      <td>9</td>\n",
       "      <td>1m49s</td>\n",
       "      <td>0.590875</td>\n",
       "      <td>0.590875</td>\n",
       "    </tr>\n",
       "    <tr>\n",
       "      <td>21</td>\n",
       "      <td>png</td>\n",
       "      <td>10</td>\n",
       "      <td>2m03s</td>\n",
       "      <td>0.613125</td>\n",
       "      <td>0.613125</td>\n",
       "    </tr>\n",
       "    <tr>\n",
       "      <td>28</td>\n",
       "      <td>swf</td>\n",
       "      <td>11</td>\n",
       "      <td>2m20s</td>\n",
       "      <td>0.644000</td>\n",
       "      <td>0.644000</td>\n",
       "    </tr>\n",
       "    <tr>\n",
       "      <td>16</td>\n",
       "      <td>gz</td>\n",
       "      <td>11</td>\n",
       "      <td>2m14s</td>\n",
       "      <td>0.655500</td>\n",
       "      <td>0.655500</td>\n",
       "    </tr>\n",
       "    <tr>\n",
       "      <td>5</td>\n",
       "      <td>kmz</td>\n",
       "      <td>12</td>\n",
       "      <td>2m22s</td>\n",
       "      <td>0.669375</td>\n",
       "      <td>0.669375</td>\n",
       "    </tr>\n",
       "    <tr>\n",
       "      <td>25</td>\n",
       "      <td>pps</td>\n",
       "      <td>9</td>\n",
       "      <td>2m15s</td>\n",
       "      <td>0.715500</td>\n",
       "      <td>0.715500</td>\n",
       "    </tr>\n",
       "    <tr>\n",
       "      <td>4</td>\n",
       "      <td>pptx</td>\n",
       "      <td>11</td>\n",
       "      <td>2m22s</td>\n",
       "      <td>0.754000</td>\n",
       "      <td>0.754000</td>\n",
       "    </tr>\n",
       "    <tr>\n",
       "      <td>6</td>\n",
       "      <td>ppt</td>\n",
       "      <td>10</td>\n",
       "      <td>1m59s</td>\n",
       "      <td>0.813750</td>\n",
       "      <td>0.813750</td>\n",
       "    </tr>\n",
       "    <tr>\n",
       "      <td>9</td>\n",
       "      <td>gif</td>\n",
       "      <td>15</td>\n",
       "      <td>2m57s</td>\n",
       "      <td>0.852000</td>\n",
       "      <td>0.852000</td>\n",
       "    </tr>\n",
       "    <tr>\n",
       "      <td>19</td>\n",
       "      <td>text</td>\n",
       "      <td>11</td>\n",
       "      <td>2m15s</td>\n",
       "      <td>0.909625</td>\n",
       "      <td>0.909625</td>\n",
       "    </tr>\n",
       "    <tr>\n",
       "      <td>2</td>\n",
       "      <td>doc</td>\n",
       "      <td>11</td>\n",
       "      <td>2m14s</td>\n",
       "      <td>0.955625</td>\n",
       "      <td>0.955625</td>\n",
       "    </tr>\n",
       "    <tr>\n",
       "      <td>0</td>\n",
       "      <td>unk</td>\n",
       "      <td>19</td>\n",
       "      <td>3m48s</td>\n",
       "      <td>0.982375</td>\n",
       "      <td>0.982375</td>\n",
       "    </tr>\n",
       "    <tr>\n",
       "      <td>27</td>\n",
       "      <td>wp</td>\n",
       "      <td>6</td>\n",
       "      <td>1m17s</td>\n",
       "      <td>0.996500</td>\n",
       "      <td>0.996500</td>\n",
       "    </tr>\n",
       "    <tr>\n",
       "      <td>8</td>\n",
       "      <td>xls</td>\n",
       "      <td>8</td>\n",
       "      <td>1m36s</td>\n",
       "      <td>0.996875</td>\n",
       "      <td>0.996875</td>\n",
       "    </tr>\n",
       "    <tr>\n",
       "      <td>23</td>\n",
       "      <td>f</td>\n",
       "      <td>8</td>\n",
       "      <td>1m39s</td>\n",
       "      <td>0.997125</td>\n",
       "      <td>0.997125</td>\n",
       "    </tr>\n",
       "    <tr>\n",
       "      <td>29</td>\n",
       "      <td>eps</td>\n",
       "      <td>8</td>\n",
       "      <td>1m42s</td>\n",
       "      <td>0.998875</td>\n",
       "      <td>0.998875</td>\n",
       "    </tr>\n",
       "    <tr>\n",
       "      <td>24</td>\n",
       "      <td>ps</td>\n",
       "      <td>6</td>\n",
       "      <td>1m18s</td>\n",
       "      <td>0.999125</td>\n",
       "      <td>0.999125</td>\n",
       "    </tr>\n",
       "    <tr>\n",
       "      <td>12</td>\n",
       "      <td>txt</td>\n",
       "      <td>6</td>\n",
       "      <td>1m13s</td>\n",
       "      <td>0.999375</td>\n",
       "      <td>0.999375</td>\n",
       "    </tr>\n",
       "    <tr>\n",
       "      <td>11</td>\n",
       "      <td>rtf</td>\n",
       "      <td>5</td>\n",
       "      <td>1m01s</td>\n",
       "      <td>0.999375</td>\n",
       "      <td>0.999375</td>\n",
       "    </tr>\n",
       "    <tr>\n",
       "      <td>14</td>\n",
       "      <td>csv</td>\n",
       "      <td>5</td>\n",
       "      <td>1m01s</td>\n",
       "      <td>0.999875</td>\n",
       "      <td>0.999875</td>\n",
       "    </tr>\n",
       "    <tr>\n",
       "      <td>18</td>\n",
       "      <td>java</td>\n",
       "      <td>5</td>\n",
       "      <td>1m02s</td>\n",
       "      <td>1.000000</td>\n",
       "      <td>1.000000</td>\n",
       "    </tr>\n",
       "    <tr>\n",
       "      <td>13</td>\n",
       "      <td>sql</td>\n",
       "      <td>5</td>\n",
       "      <td>1m00s</td>\n",
       "      <td>1.000000</td>\n",
       "      <td>1.000000</td>\n",
       "    </tr>\n",
       "    <tr>\n",
       "      <td>20</td>\n",
       "      <td>hlp</td>\n",
       "      <td>5</td>\n",
       "      <td>1m02s</td>\n",
       "      <td>1.000000</td>\n",
       "      <td>1.000000</td>\n",
       "    </tr>\n",
       "    <tr>\n",
       "      <td>22</td>\n",
       "      <td>dbase3</td>\n",
       "      <td>5</td>\n",
       "      <td>1m03s</td>\n",
       "      <td>1.000000</td>\n",
       "      <td>1.000000</td>\n",
       "    </tr>\n",
       "    <tr>\n",
       "      <td>7</td>\n",
       "      <td>log</td>\n",
       "      <td>5</td>\n",
       "      <td>1m00s</td>\n",
       "      <td>1.000000</td>\n",
       "      <td>1.000000</td>\n",
       "    </tr>\n",
       "    <tr>\n",
       "      <td>26</td>\n",
       "      <td>kml</td>\n",
       "      <td>5</td>\n",
       "      <td>1m04s</td>\n",
       "      <td>1.000000</td>\n",
       "      <td>1.000000</td>\n",
       "    </tr>\n",
       "    <tr>\n",
       "      <td>3</td>\n",
       "      <td>xml</td>\n",
       "      <td>5</td>\n",
       "      <td>1m01s</td>\n",
       "      <td>1.000000</td>\n",
       "      <td>1.000000</td>\n",
       "    </tr>\n",
       "    <tr>\n",
       "      <td>15</td>\n",
       "      <td>html</td>\n",
       "      <td>5</td>\n",
       "      <td>1m01s</td>\n",
       "      <td>1.000000</td>\n",
       "      <td>1.000000</td>\n",
       "    </tr>\n",
       "  </tbody>\n",
       "</table>\n",
       "</div>"
      ],
      "text/plain": [
       "   category  Epochs   Time  val_binary_accuracy  val_categorical_accuracy\n",
       "17      dwf       9  1m50s             0.506375                  0.506375\n",
       "1       jpg      11  2m12s             0.531750                  0.531750\n",
       "10      pdf       9  1m49s             0.590875                  0.590875\n",
       "21      png      10  2m03s             0.613125                  0.613125\n",
       "28      swf      11  2m20s             0.644000                  0.644000\n",
       "16       gz      11  2m14s             0.655500                  0.655500\n",
       "5       kmz      12  2m22s             0.669375                  0.669375\n",
       "25      pps       9  2m15s             0.715500                  0.715500\n",
       "4      pptx      11  2m22s             0.754000                  0.754000\n",
       "6       ppt      10  1m59s             0.813750                  0.813750\n",
       "9       gif      15  2m57s             0.852000                  0.852000\n",
       "19     text      11  2m15s             0.909625                  0.909625\n",
       "2       doc      11  2m14s             0.955625                  0.955625\n",
       "0       unk      19  3m48s             0.982375                  0.982375\n",
       "27       wp       6  1m17s             0.996500                  0.996500\n",
       "8       xls       8  1m36s             0.996875                  0.996875\n",
       "23        f       8  1m39s             0.997125                  0.997125\n",
       "29      eps       8  1m42s             0.998875                  0.998875\n",
       "24       ps       6  1m18s             0.999125                  0.999125\n",
       "12      txt       6  1m13s             0.999375                  0.999375\n",
       "11      rtf       5  1m01s             0.999375                  0.999375\n",
       "14      csv       5  1m01s             0.999875                  0.999875\n",
       "18     java       5  1m02s             1.000000                  1.000000\n",
       "13      sql       5  1m00s             1.000000                  1.000000\n",
       "20      hlp       5  1m02s             1.000000                  1.000000\n",
       "22   dbase3       5  1m03s             1.000000                  1.000000\n",
       "7       log       5  1m00s             1.000000                  1.000000\n",
       "26      kml       5  1m04s             1.000000                  1.000000\n",
       "3       xml       5  1m01s             1.000000                  1.000000\n",
       "15     html       5  1m01s             1.000000                  1.000000"
      ]
     },
     "execution_count": 8,
     "metadata": {},
     "output_type": "execute_result"
    }
   ],
   "source": [
    "data"
   ]
  },
  {
   "cell_type": "code",
   "execution_count": 10,
   "metadata": {},
   "outputs": [
    {
     "name": "stdout",
     "output_type": "stream",
     "text": [
      "dwf\n"
     ]
    }
   ],
   "source": [
    "for cat, tset, dset in datasets_X_random(raw_dset=rawset.by_category()['dwf'], rnd_dset=rndset):\n",
    "    print(cat)"
   ]
  },
  {
   "cell_type": "code",
   "execution_count": 11,
   "metadata": {},
   "outputs": [
    {
     "data": {
      "text/plain": [
       "200"
      ]
     },
     "execution_count": 11,
     "metadata": {},
     "output_type": "execute_result"
    }
   ],
   "source": [
    "len(tset.filenames)"
   ]
  },
  {
   "cell_type": "code",
   "execution_count": 12,
   "metadata": {},
   "outputs": [],
   "source": [
    "model = models.C64_16_2pr_C32_4_2pr_C64_32_2pr_F_D(2, 8, 'softmax', 'categorical_crossentropy')"
   ]
  },
  {
   "cell_type": "code",
   "execution_count": 18,
   "metadata": {},
   "outputs": [],
   "source": [
    "result = Trainer(model,patience=30).train(tset, dset)"
   ]
  },
  {
   "cell_type": "code",
   "execution_count": 19,
   "metadata": {},
   "outputs": [
    {
     "data": {
      "text/plain": [
       "[0.537,\n",
       " 0.547125,\n",
       " 0.542125,\n",
       " 0.537125,\n",
       " 0.547625,\n",
       " 0.566125,\n",
       " 0.532125,\n",
       " 0.528375,\n",
       " 0.5455,\n",
       " 0.531875,\n",
       " 0.53875,\n",
       " 0.532,\n",
       " 0.526875,\n",
       " 0.53875,\n",
       " 0.52575,\n",
       " 0.533125,\n",
       " 0.52475,\n",
       " 0.526,\n",
       " 0.5285,\n",
       " 0.528,\n",
       " 0.52175,\n",
       " 0.5405,\n",
       " 0.53875,\n",
       " 0.524625,\n",
       " 0.53225,\n",
       " 0.524125,\n",
       " 0.523,\n",
       " 0.541125,\n",
       " 0.52275,\n",
       " 0.53175,\n",
       " 0.52125,\n",
       " 0.520875,\n",
       " 0.52225,\n",
       " 0.520625,\n",
       " 0.526,\n",
       " 0.5255]"
      ]
     },
     "execution_count": 19,
     "metadata": {},
     "output_type": "execute_result"
    }
   ],
   "source": [
    "result.history.history['val_categorical_accuracy']"
   ]
  },
  {
   "cell_type": "code",
   "execution_count": 20,
   "metadata": {},
   "outputs": [],
   "source": [
    "import matplotlib.pyplot as plt"
   ]
  },
  {
   "cell_type": "code",
   "execution_count": 21,
   "metadata": {},
   "outputs": [
    {
     "data": {
      "text/plain": [
       "[<matplotlib.lines.Line2D at 0x7fe404061da0>]"
      ]
     },
     "execution_count": 21,
     "metadata": {},
     "output_type": "execute_result"
    },
    {
     "data": {
      "image/png": "[encoded data removed]",
      "text/plain": [
       "<Figure size 432x288 with 1 Axes>"
      ]
     },
     "metadata": {},
     "output_type": "display_data"
    }
   ],
   "source": [
    "plt.plot(result.history.history['val_categorical_accuracy'])"
   ]
  },
  {
   "cell_type": "code",
   "execution_count": 22,
   "metadata": {},
   "outputs": [
    {
     "data": {
      "text/plain": [
       "<Figure size 432x288 with 0 Axes>"
      ]
     },
     "metadata": {},
     "output_type": "display_data"
    }
   ],
   "source": [
    "plt.savefig('/tmp/1.png')"
   ]
  },
  {
   "cell_type": "code",
   "execution_count": null,
   "metadata": {},
   "outputs": [],
   "source": [
    "import block_sampler"
   ]
  },
  {
   "cell_type": "code",
   "execution_count": 8,
   "metadata": {},
   "outputs": [],
   "source": [
    "# raw_dataset_folder='/home/user/sample200'\n",
    "raw_dataset_folder='../datasets/govdocs1/sample200'\n",
    "random_dataset_folder='../datasets/random'\n",
    "minimum=200\n",
    "maximum=200\n",
    "result_dir = 'results/exp39'"
   ]
  },
  {
   "cell_type": "code",
   "execution_count": 11,
   "metadata": {},
   "outputs": [],
   "source": [
    "rawset = block_sampler.Dataset.new_from_folders(raw_dataset_folder).filter_min_max(minimum, maximum)\n",
    "rawset = rawset.filter(lambda x: rawset.category_from(x) not in ['text', 'unk'])\n",
    "rawset.rebuild_categories()"
   ]
  },
  {
   "cell_type": "code",
   "execution_count": 12,
   "metadata": {},
   "outputs": [],
   "source": [
    "bsc = block_sampler.BlockSamplerByCategory(rawset)       "
   ]
  },
  {
   "cell_type": "code",
   "execution_count": 26,
   "metadata": {},
   "outputs": [],
   "source": [
    "x = iter(bsc)\n",
    "category_prob = bsc.category_prob\n",
    "category_prob['ppt'] = 200\n",
    "bsc.category_prob = category_prob\n"
   ]
  },
  {
   "cell_type": "code",
   "execution_count": 27,
   "metadata": {},
   "outputs": [
    {
     "name": "stdout",
     "output_type": "stream",
     "text": [
      "csv\n",
      "ppt\n",
      "ppt\n",
      "rtf\n",
      "ppt\n",
      "ppt\n",
      "ppt\n",
      "ppt\n",
      "ppt\n",
      "ppt\n"
     ]
    }
   ],
   "source": [
    "for n in range(10):\n",
    "    y = next(x)\n",
    "    print(y.category)"
   ]
  },
  {
   "cell_type": "code",
   "execution_count": null,
   "metadata": {},
   "outputs": [],
   "source": []
  }
 ],
 "metadata": {
  "kernelspec": {
   "display_name": "Python 3",
   "language": "python",
   "name": "python3"
  },
  "language_info": {
   "codemirror_mode": {
    "name": "ipython",
    "version": 3
   },
   "file_extension": ".py",
   "mimetype": "text/x-python",
   "name": "python",
   "nbconvert_exporter": "python",
   "pygments_lexer": "ipython3",
   "version": "3.6.6"
  }
 },
 "nbformat": 4,
 "nbformat_minor": 2
}
