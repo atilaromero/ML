{
  "nbformat": 4,
  "nbformat_minor": 0,
  "metadata": {
    "colab": {
      "name": "speech.ipynb",
      "version": "0.3.2",
      "provenance": [],
      "collapsed_sections": []
    },
    "kernelspec": {
      "name": "python3",
      "display_name": "Python 3"
    }
  },
  "cells": [
    {
      "cell_type": "code",
      "metadata": {
        "id": "YDfNCixJXX8k",
        "colab_type": "code",
        "colab": {
          "base_uri": "https://localhost:8080/",
          "height": 153
        },
        "outputId": "905428db-de47-40e5-c60b-09dc92d7d7b4"
      },
      "source": [
        "!apt-get install espeak"
      ],
      "execution_count": 1,
      "outputs": [
        {
          "output_type": "stream",
          "text": [
            "Reading package lists... Done\n",
            "Building dependency tree       \n",
            "Reading state information... Done\n",
            "espeak is already the newest version (1.48.04+dfsg-5).\n",
            "The following package was automatically installed and is no longer required:\n",
            "  libnvidia-common-410\n",
            "Use 'apt autoremove' to remove it.\n",
            "0 upgraded, 0 newly installed, 0 to remove and 6 not upgraded.\n"
          ],
          "name": "stdout"
        }
      ]
    },
    {
      "cell_type": "code",
      "metadata": {
        "id": "yd3QSdpPXgiS",
        "colab_type": "code",
        "colab": {
          "base_uri": "https://localhost:8080/",
          "height": 85
        },
        "outputId": "92de273e-fd08-414c-ea96-eeca5ac773ca"
      },
      "source": [
        "!pip install Soundfile pydub"
      ],
      "execution_count": 2,
      "outputs": [
        {
          "output_type": "stream",
          "text": [
            "Requirement already satisfied: Soundfile in /usr/local/lib/python3.6/dist-packages (0.10.2)\n",
            "Requirement already satisfied: pydub in /usr/local/lib/python3.6/dist-packages (0.23.1)\n",
            "Requirement already satisfied: cffi>=1.0 in /usr/local/lib/python3.6/dist-packages (from Soundfile) (1.12.3)\n",
            "Requirement already satisfied: pycparser in /usr/local/lib/python3.6/dist-packages (from cffi>=1.0->Soundfile) (2.19)\n"
          ],
          "name": "stdout"
        }
      ]
    },
    {
      "cell_type": "code",
      "metadata": {
        "id": "cx09p666ZCW9",
        "colab_type": "code",
        "colab": {}
      },
      "source": [
        "import numpy as np\n",
        "import subprocess\n",
        "import os\n",
        "import sys\n",
        "from pydub import AudioSegment"
      ],
      "execution_count": 0,
      "outputs": []
    },
    {
      "cell_type": "code",
      "metadata": {
        "id": "7srY8ZRFaM05",
        "colab_type": "code",
        "colab": {}
      },
      "source": [
        "import tensorflow as tf\n",
        "tf.enable_eager_execution()"
      ],
      "execution_count": 0,
      "outputs": []
    },
    {
      "cell_type": "code",
      "metadata": {
        "id": "dVviuymcXkEJ",
        "colab_type": "code",
        "colab": {}
      },
      "source": [
        "consonants = ['','b', 'br','c', 'cr','d', 'dr','f', 'fr','g', 'gr','j','l', 'lh','m','n', 'nh','p','pr','qu','r','s','t', 'tr','v','vr','x','z']\n",
        "vowels = ['a','e','i','o','u']\n",
        "suffixes = ['', 's', 'r', 'l', 'm']\n",
        "def generate_syllables(n=-1):\n",
        "  while(n!=0):\n",
        "    yield ''.join([np.random.choice(x) for x in [consonants,vowels,suffixes]])\n",
        "    n-=1\n",
        "\n",
        "def generateAllSyllables(pattern='cvs'):\n",
        "  for c in ('c' in pattern) and consonants or ['']:\n",
        "    for v in ('v' in pattern) and vowels or ['']:\n",
        "      for s in ('s' in pattern) and suffixes or ['']:\n",
        "        yield c+v+s\n",
        "\n",
        "def saveSound(word, dir):\n",
        "  p = subprocess.Popen(['espeak','-v', 'pt-br', word, '--stdout'], bufsize=-1, stdout=subprocess.PIPE, stderr=subprocess.PIPE)\n",
        "  out, _ = p.communicate()\n",
        "  with open(os.path.join(dir, word)+'.wav', 'wb') as f:\n",
        "    f.write(out)\n"
      ],
      "execution_count": 0,
      "outputs": []
    },
    {
      "cell_type": "code",
      "metadata": {
        "id": "QgtAOnbtYGNu",
        "colab_type": "code",
        "colab": {}
      },
      "source": [
        "datasetdir = 'datasets/speech/syllables/'\n",
        "for i in ['v', 'cv', 'cvs']:\n",
        "  os.makedirs(datasetdir+i,exist_ok=True)\n",
        "  for j in generateAllSyllables(i):\n",
        "    saveSound(j, datasetdir+i)"
      ],
      "execution_count": 0,
      "outputs": []
    },
    {
      "cell_type": "code",
      "metadata": {
        "id": "vczs7HNLY9oR",
        "colab_type": "code",
        "colab": {
          "base_uri": "https://localhost:8080/",
          "height": 1887
        },
        "outputId": "26e3be8c-24cc-4b5d-934f-4b6c2183149a"
      },
      "source": [
        "!ls {datasetdir}/*"
      ],
      "execution_count": 7,
      "outputs": [
        {
          "output_type": "stream",
          "text": [
            "datasets/speech/syllables//cv:\n",
            "a.wav\t cre.wav  fa.wav   gri.wav  lhu.wav  ni.wav   qui.wav  to.wav\tvru.wav\n",
            "ba.wav\t cri.wav  fe.wav   gro.wav  li.wav   no.wav   quo.wav  tra.wav\tvu.wav\n",
            "be.wav\t cro.wav  fi.wav   gru.wav  lo.wav   nu.wav   quu.wav  tre.wav\txa.wav\n",
            "bi.wav\t cru.wav  fo.wav   gu.wav   lu.wav   o.wav    ra.wav   tri.wav\txe.wav\n",
            "bo.wav\t cu.wav   fra.wav  i.wav    ma.wav   pa.wav   re.wav   tro.wav\txi.wav\n",
            "bra.wav  da.wav   fre.wav  ja.wav   me.wav   pe.wav   ri.wav   tru.wav\txo.wav\n",
            "bre.wav  de.wav   fri.wav  je.wav   mi.wav   pi.wav   ro.wav   tu.wav\txu.wav\n",
            "bri.wav  di.wav   fro.wav  ji.wav   mo.wav   po.wav   ru.wav   u.wav\tza.wav\n",
            "bro.wav  do.wav   fru.wav  jo.wav   mu.wav   pra.wav  sa.wav   va.wav\tze.wav\n",
            "bru.wav  dra.wav  fu.wav   ju.wav   na.wav   pre.wav  se.wav   ve.wav\tzi.wav\n",
            "bu.wav\t dre.wav  ga.wav   la.wav   ne.wav   pri.wav  si.wav   vi.wav\tzo.wav\n",
            "ca.wav\t dri.wav  ge.wav   le.wav   nha.wav  pro.wav  so.wav   vo.wav\tzu.wav\n",
            "ce.wav\t dro.wav  gi.wav   lha.wav  nhe.wav  pru.wav  su.wav   vra.wav\n",
            "ci.wav\t dru.wav  go.wav   lhe.wav  nhi.wav  pu.wav   ta.wav   vre.wav\n",
            "co.wav\t du.wav   gra.wav  lhi.wav  nho.wav  qua.wav  te.wav   vri.wav\n",
            "cra.wav  e.wav\t  gre.wav  lho.wav  nhu.wav  que.wav  ti.wav   vro.wav\n",
            "\n",
            "datasets/speech/syllables//cvs:\n",
            "al.wav\t  cris.wav  fom.wav   i.wav\tmir.wav   pral.wav  ses.wav   vom.wav\n",
            "am.wav\t  cri.wav   for.wav   jal.wav\tmis.wav   pram.wav  se.wav    vor.wav\n",
            "ar.wav\t  crol.wav  fos.wav   jam.wav\tmi.wav\t  prar.wav  sil.wav   vos.wav\n",
            "as.wav\t  crom.wav  fo.wav    jar.wav\tmol.wav   pras.wav  sim.wav   vo.wav\n",
            "a.wav\t  cror.wav  fral.wav  jas.wav\tmom.wav   pra.wav   sir.wav   vral.wav\n",
            "bal.wav   cros.wav  fram.wav  ja.wav\tmor.wav   prel.wav  sis.wav   vram.wav\n",
            "bam.wav   cro.wav   frar.wav  jel.wav\tmos.wav   prem.wav  si.wav    vrar.wav\n",
            "bar.wav   crul.wav  fras.wav  jem.wav\tmo.wav\t  prer.wav  sol.wav   vras.wav\n",
            "bas.wav   crum.wav  fra.wav   jer.wav\tmul.wav   pres.wav  som.wav   vra.wav\n",
            "ba.wav\t  crur.wav  frel.wav  jes.wav\tmum.wav   pre.wav   sor.wav   vrel.wav\n",
            "bel.wav   crus.wav  frem.wav  je.wav\tmur.wav   pril.wav  sos.wav   vrem.wav\n",
            "bem.wav   cru.wav   frer.wav  jil.wav\tmus.wav   prim.wav  so.wav    vrer.wav\n",
            "ber.wav   cul.wav   fres.wav  jim.wav\tmu.wav\t  prir.wav  sul.wav   vres.wav\n",
            "bes.wav   cum.wav   fre.wav   jir.wav\tnal.wav   pris.wav  sum.wav   vre.wav\n",
            "be.wav\t  cur.wav   fril.wav  jis.wav\tnam.wav   pri.wav   sur.wav   vril.wav\n",
            "bil.wav   cus.wav   frim.wav  ji.wav\tnar.wav   prol.wav  sus.wav   vrim.wav\n",
            "bim.wav   cu.wav    frir.wav  jol.wav\tnas.wav   prom.wav  su.wav    vrir.wav\n",
            "bir.wav   dal.wav   fris.wav  jom.wav\tna.wav\t  pror.wav  tal.wav   vris.wav\n",
            "bis.wav   dam.wav   fri.wav   jor.wav\tnel.wav   pros.wav  tam.wav   vri.wav\n",
            "bi.wav\t  dar.wav   frol.wav  jos.wav\tnem.wav   pro.wav   tar.wav   vrol.wav\n",
            "bol.wav   das.wav   from.wav  jo.wav\tner.wav   prul.wav  tas.wav   vrom.wav\n",
            "bom.wav   da.wav    fror.wav  jul.wav\tnes.wav   prum.wav  ta.wav    vror.wav\n",
            "bor.wav   del.wav   fros.wav  jum.wav\tne.wav\t  prur.wav  tel.wav   vros.wav\n",
            "bos.wav   dem.wav   fro.wav   jur.wav\tnhal.wav  prus.wav  tem.wav   vro.wav\n",
            "bo.wav\t  der.wav   frul.wav  jus.wav\tnham.wav  pru.wav   ter.wav   vrul.wav\n",
            "bral.wav  des.wav   frum.wav  ju.wav\tnhar.wav  pul.wav   tes.wav   vrum.wav\n",
            "bram.wav  de.wav    frur.wav  lal.wav\tnhas.wav  pum.wav   te.wav    vrur.wav\n",
            "brar.wav  dil.wav   frus.wav  lam.wav\tnha.wav   pur.wav   til.wav   vrus.wav\n",
            "bras.wav  dim.wav   fru.wav   lar.wav\tnhel.wav  pus.wav   tim.wav   vru.wav\n",
            "bra.wav   dir.wav   ful.wav   las.wav\tnhem.wav  pu.wav    tir.wav   vul.wav\n",
            "brel.wav  dis.wav   fum.wav   la.wav\tnher.wav  qual.wav  tis.wav   vum.wav\n",
            "brem.wav  di.wav    fur.wav   lel.wav\tnhes.wav  quam.wav  ti.wav    vur.wav\n",
            "brer.wav  dol.wav   fus.wav   lem.wav\tnhe.wav   quar.wav  tol.wav   vus.wav\n",
            "bres.wav  dom.wav   fu.wav    ler.wav\tnhil.wav  quas.wav  tom.wav   vu.wav\n",
            "bre.wav   dor.wav   gal.wav   les.wav\tnhim.wav  qua.wav   tor.wav   xal.wav\n",
            "bril.wav  dos.wav   gam.wav   le.wav\tnhir.wav  quel.wav  tos.wav   xam.wav\n",
            "brim.wav  do.wav    gar.wav   lhal.wav\tnhis.wav  quem.wav  to.wav    xar.wav\n",
            "brir.wav  dral.wav  gas.wav   lham.wav\tnhi.wav   quer.wav  tral.wav  xas.wav\n",
            "bris.wav  dram.wav  ga.wav    lhar.wav\tnhol.wav  ques.wav  tram.wav  xa.wav\n",
            "bri.wav   drar.wav  gel.wav   lhas.wav\tnhom.wav  que.wav   trar.wav  xel.wav\n",
            "brol.wav  dras.wav  gem.wav   lha.wav\tnhor.wav  quil.wav  tras.wav  xem.wav\n",
            "brom.wav  dra.wav   ger.wav   lhel.wav\tnhos.wav  quim.wav  tra.wav   xer.wav\n",
            "bror.wav  drel.wav  ges.wav   lhem.wav\tnho.wav   quir.wav  trel.wav  xes.wav\n",
            "bros.wav  drem.wav  ge.wav    lher.wav\tnhul.wav  quis.wav  trem.wav  xe.wav\n",
            "bro.wav   drer.wav  gil.wav   lhes.wav\tnhum.wav  qui.wav   trer.wav  xil.wav\n",
            "brul.wav  dres.wav  gim.wav   lhe.wav\tnhur.wav  quol.wav  tres.wav  xim.wav\n",
            "brum.wav  dre.wav   gir.wav   lhil.wav\tnhus.wav  quom.wav  tre.wav   xir.wav\n",
            "brur.wav  dril.wav  gis.wav   lhim.wav\tnhu.wav   quor.wav  tril.wav  xis.wav\n",
            "brus.wav  drim.wav  gi.wav    lhir.wav\tnil.wav   quos.wav  trim.wav  xi.wav\n",
            "bru.wav   drir.wav  gol.wav   lhis.wav\tnim.wav   quo.wav   trir.wav  xol.wav\n",
            "bul.wav   dris.wav  gom.wav   lhi.wav\tnir.wav   quul.wav  tris.wav  xom.wav\n",
            "bum.wav   dri.wav   gor.wav   lhol.wav\tnis.wav   quum.wav  tri.wav   xor.wav\n",
            "bur.wav   drol.wav  gos.wav   lhom.wav\tni.wav\t  quur.wav  trol.wav  xos.wav\n",
            "bus.wav   drom.wav  go.wav    lhor.wav\tnol.wav   quus.wav  trom.wav  xo.wav\n",
            "bu.wav\t  dror.wav  gral.wav  lhos.wav\tnom.wav   quu.wav   tror.wav  xul.wav\n",
            "cal.wav   dros.wav  gram.wav  lho.wav\tnor.wav   ral.wav   tros.wav  xum.wav\n",
            "cam.wav   dro.wav   grar.wav  lhul.wav\tnos.wav   ram.wav   tro.wav   xur.wav\n",
            "car.wav   drul.wav  gras.wav  lhum.wav\tno.wav\t  rar.wav   trul.wav  xus.wav\n",
            "cas.wav   drum.wav  gra.wav   lhur.wav\tnul.wav   ras.wav   trum.wav  xu.wav\n",
            "ca.wav\t  drur.wav  grel.wav  lhus.wav\tnum.wav   ra.wav    trur.wav  zal.wav\n",
            "cel.wav   drus.wav  grem.wav  lhu.wav\tnur.wav   rel.wav   trus.wav  zam.wav\n",
            "cem.wav   dru.wav   grer.wav  lil.wav\tnus.wav   rem.wav   tru.wav   zar.wav\n",
            "cer.wav   dul.wav   gres.wav  lim.wav\tnu.wav\t  rer.wav   tul.wav   zas.wav\n",
            "ces.wav   dum.wav   gre.wav   lir.wav\tol.wav\t  res.wav   tum.wav   za.wav\n",
            "ce.wav\t  dur.wav   gril.wav  lis.wav\tom.wav\t  re.wav    tur.wav   zel.wav\n",
            "cil.wav   dus.wav   grim.wav  li.wav\tor.wav\t  ril.wav   tus.wav   zem.wav\n",
            "cim.wav   du.wav    grir.wav  lol.wav\tos.wav\t  rim.wav   tu.wav    zer.wav\n",
            "cir.wav   el.wav    gris.wav  lom.wav\to.wav\t  rir.wav   ul.wav    zes.wav\n",
            "cis.wav   em.wav    gri.wav   lor.wav\tpal.wav   ris.wav   um.wav    ze.wav\n",
            "ci.wav\t  er.wav    grol.wav  los.wav\tpam.wav   ri.wav    ur.wav    zil.wav\n",
            "col.wav   es.wav    grom.wav  lo.wav\tpar.wav   rol.wav   us.wav    zim.wav\n",
            "com.wav   e.wav     gror.wav  lul.wav\tpas.wav   rom.wav   u.wav     zir.wav\n",
            "cor.wav   fal.wav   gros.wav  lum.wav\tpa.wav\t  ror.wav   val.wav   zis.wav\n",
            "cos.wav   fam.wav   gro.wav   lur.wav\tpel.wav   ros.wav   vam.wav   zi.wav\n",
            "co.wav\t  far.wav   grul.wav  lus.wav\tpem.wav   ro.wav    var.wav   zol.wav\n",
            "cral.wav  fas.wav   grum.wav  lu.wav\tper.wav   rul.wav   vas.wav   zom.wav\n",
            "cram.wav  fa.wav    grur.wav  mal.wav\tpes.wav   rum.wav   va.wav    zor.wav\n",
            "crar.wav  fel.wav   grus.wav  mam.wav\tpe.wav\t  rur.wav   vel.wav   zos.wav\n",
            "cras.wav  fem.wav   gru.wav   mar.wav\tpil.wav   rus.wav   vem.wav   zo.wav\n",
            "cra.wav   fer.wav   gul.wav   mas.wav\tpim.wav   ru.wav    ver.wav   zul.wav\n",
            "crel.wav  fes.wav   gum.wav   ma.wav\tpir.wav   sal.wav   ves.wav   zum.wav\n",
            "crem.wav  fe.wav    gur.wav   mel.wav\tpis.wav   sam.wav   ve.wav    zur.wav\n",
            "crer.wav  fil.wav   gus.wav   mem.wav\tpi.wav\t  sar.wav   vil.wav   zus.wav\n",
            "cres.wav  fim.wav   gu.wav    mer.wav\tpol.wav   sas.wav   vim.wav   zu.wav\n",
            "cre.wav   fir.wav   il.wav    mes.wav\tpom.wav   sa.wav    vir.wav\n",
            "cril.wav  fis.wav   im.wav    me.wav\tpor.wav   sel.wav   vis.wav\n",
            "crim.wav  fi.wav    ir.wav    mil.wav\tpos.wav   sem.wav   vi.wav\n",
            "crir.wav  fol.wav   is.wav    mim.wav\tpo.wav\t  ser.wav   vol.wav\n",
            "\n",
            "datasets/speech/syllables//v:\n",
            "a.wav  e.wav  i.wav  o.wav  u.wav\n"
          ],
          "name": "stdout"
        }
      ]
    },
    {
      "cell_type": "code",
      "metadata": {
        "id": "qrPyODs8ZRHd",
        "colab_type": "code",
        "colab": {}
      },
      "source": [
        "import numpy as np\n",
        "import soundfile\n",
        "\n",
        "def spectrogram(samples, fft_length=256, sample_rate=2, hop_length=128):\n",
        "    \"\"\"\n",
        "    Compute the spectrogram for a real signal.\n",
        "    The parameters follow the naming convention of\n",
        "    matplotlib.mlab.specgram\n",
        "\n",
        "    Args:\n",
        "        samples (1D array): input audio signal\n",
        "        fft_length (int): number of elements in fft window\n",
        "        sample_rate (scalar): sample rate\n",
        "        hop_length (int): hop length (relative offset between neighboring\n",
        "            fft windows).\n",
        "\n",
        "    Returns:\n",
        "        x (2D array): spectrogram [frequency x time]\n",
        "        freq (1D array): frequency of each row in x\n",
        "\n",
        "    Note:\n",
        "        This is a truncating computation e.g. if fft_length=10,\n",
        "        hop_length=5 and the signal has 23 elements, then the\n",
        "        last 3 elements will be truncated.\n",
        "    \"\"\"\n",
        "    assert not np.iscomplexobj(samples), \"Must not pass in complex numbers\"\n",
        "\n",
        "    window = np.hanning(fft_length)[:, None]\n",
        "    window_norm = np.sum(window**2)\n",
        "\n",
        "    # The scaling below follows the convention of\n",
        "    # matplotlib.mlab.specgram which is the same as\n",
        "    # matlabs specgram.\n",
        "    scale = window_norm * sample_rate\n",
        "\n",
        "    trunc = (len(samples) - fft_length) % hop_length\n",
        "    x = samples[:len(samples) - trunc]\n",
        "\n",
        "    # \"stride trick\" reshape to include overlap\n",
        "    nshape = (fft_length, (len(x) - fft_length) // hop_length + 1)\n",
        "    nstrides = (x.strides[0], x.strides[0] * hop_length)\n",
        "    x = np.lib.stride_tricks.as_strided(x, shape=nshape, strides=nstrides)\n",
        "\n",
        "    # window stride sanity check\n",
        "    assert np.all(x[:, 1] == samples[hop_length:(hop_length + fft_length)])\n",
        "\n",
        "    # broadcast window, compute fft over columns and square mod\n",
        "    x = np.fft.rfft(x * window, axis=0)\n",
        "    x = np.absolute(x)**2\n",
        "\n",
        "    # scale, 2.0 for everything except dc and fft_length/2\n",
        "    x[1:-1, :] *= (2.0 / scale)\n",
        "    x[(0, -1), :] /= scale\n",
        "\n",
        "    freqs = float(sample_rate) / fft_length * np.arange(x.shape[0])\n",
        "\n",
        "    return x, freqs\n",
        "\n",
        "\n",
        "def spectrogram_from_file(filename, step=10, window=20, max_freq=None,\n",
        "                          eps=1e-14):\n",
        "    \"\"\" Calculate the log of linear spectrogram from FFT energy\n",
        "    Params:\n",
        "        filename (str): Path to the audio file\n",
        "        step (int): Step size in milliseconds between windows\n",
        "        window (int): FFT window size in milliseconds\n",
        "        max_freq (int): Only FFT bins corresponding to frequencies between\n",
        "            [0, max_freq] are returned\n",
        "        eps (float): Small value to ensure numerical stability (for ln(x))\n",
        "    \"\"\"\n",
        "    with soundfile.SoundFile(filename) as sound_file:\n",
        "        audio = sound_file.read(dtype='float32')\n",
        "        sample_rate = sound_file.samplerate\n",
        "        if audio.ndim >= 2:\n",
        "            audio = np.mean(audio, 1)\n",
        "        if max_freq is None:\n",
        "            max_freq = sample_rate / 2\n",
        "        if max_freq > sample_rate / 2:\n",
        "            raise ValueError(\"max_freq must not be greater than half of \"\n",
        "                             \" sample rate\")\n",
        "        if step > window:\n",
        "            raise ValueError(\"step size must not be greater than window size\")\n",
        "        hop_length = int(0.001 * step * sample_rate)\n",
        "        fft_length = int(0.001 * window * sample_rate)\n",
        "        pxx, freqs = spectrogram(\n",
        "            audio, fft_length=fft_length, sample_rate=sample_rate,\n",
        "            hop_length=hop_length)\n",
        "        ind = np.where(freqs <= max_freq)[0][-1] + 1\n",
        "    return np.transpose(np.log(pxx[:ind, :] + eps))"
      ],
      "execution_count": 0,
      "outputs": []
    },
    {
      "cell_type": "code",
      "metadata": {
        "id": "bEOI15Z8bYD_",
        "colab_type": "code",
        "colab": {}
      },
      "source": [
        "import tensorflow.keras.backend as K\n",
        "import tensorflow as tf\n",
        "import numpy as np\n",
        "\n",
        "out_chars = 'abcdefghijklmnopqrstuvwxyz '\n",
        "chars_to_ix = dict(zip(out_chars,range(len(out_chars))))\n",
        "ix_to_chars = dict(zip(range(len(out_chars)),out_chars))\n",
        "\n",
        "def ctc_loss(y_shape):\n",
        "  def f(y_true, y_pred):\n",
        "    y_true = tf.reshape(y_true, y_shape)\n",
        "    k_inputs = y_pred\n",
        "    k_input_lens = y_true[:,0:1]\n",
        "    k_label_lens = y_true[:,1:2]\n",
        "    k_labels = y_true[:,2:]\n",
        "    cost = K.ctc_batch_cost(k_labels, k_inputs, k_input_lens,k_label_lens)\n",
        "    return cost\n",
        "  return f\n",
        "\n",
        "def to_ctc_format(xs,ys, max_ty=None):\n",
        "  max_tx = np.max([len(i) for i in xs])\n",
        "  if max_ty == None:\n",
        "    max_ty = np.max([len(i) for i in ys]) + 3\n",
        "  assert max_ty >= np.max([len(i) for i in ys]) + 3\n",
        "  xarr = np.zeros((len(xs), max_tx, xs[0].shape[1]))\n",
        "  yarr = np.zeros((len(ys), max_ty))\n",
        "  for i, x in enumerate(xs):\n",
        "    xarr[i,:len(x)] = x\n",
        "  for i, y in enumerate(ys):\n",
        "    yarr[i,:len(y)+2] = [len(x), len(y), *y]\n",
        "  return xarr, yarr\n",
        "\n",
        "def from_ctc_format(ys):\n",
        "  ixss = [y[2:][:int(y[1])] for y in ys]\n",
        "  return [''.join([ix_to_chars[ix] for ix in ixs]) for ixs in ixss]\n",
        "\n",
        "\n",
        "\n",
        "def ctc_predict(model, xarr):\n",
        "  y_pred = model.predict(xarr)\n",
        "  pred = ctc_decode(y_pred)\n",
        "  pred = K.eval(pred)\n",
        "  return [''.join([ix_to_chars[i] for i in p if i>-1]) for p in pred]\n",
        "\n",
        "def ctc_decode(y_pred):\n",
        "  input_length = K.variable(np.ones((y_pred.shape[0],), dtype=np.int32)*y_pred.shape[1])\n",
        "\n",
        "  pred, log_pred = K.ctc_decode(\n",
        "    y_pred,\n",
        "    input_length,\n",
        "    beam_width=50,\n",
        "    top_paths=1)\n",
        "  return pred[0]\n"
      ],
      "execution_count": 0,
      "outputs": []
    },
    {
      "cell_type": "code",
      "metadata": {
        "id": "Di2nfmDgaWPs",
        "colab_type": "code",
        "colab": {}
      },
      "source": [
        "def examples_from(folder):\n",
        "    def inner():\n",
        "        for dirpath, dirnames, filenames in os.walk(folder):\n",
        "            for f in filenames:\n",
        "                yield os.path.join(dirpath, f)\n",
        "    return list(inner())"
      ],
      "execution_count": 0,
      "outputs": []
    },
    {
      "cell_type": "code",
      "metadata": {
        "id": "iluGaCxkapxU",
        "colab_type": "code",
        "colab": {}
      },
      "source": [
        "examples = examples_from(datasetdir + 'v')"
      ],
      "execution_count": 0,
      "outputs": []
    },
    {
      "cell_type": "code",
      "metadata": {
        "id": "EbOgRQhbauco",
        "colab_type": "code",
        "colab": {
          "base_uri": "https://localhost:8080/",
          "height": 102
        },
        "outputId": "5fef596c-a388-475d-c727-6d2f19770153"
      },
      "source": [
        "examples"
      ],
      "execution_count": 12,
      "outputs": [
        {
          "output_type": "execute_result",
          "data": {
            "text/plain": [
              "['datasets/speech/syllables/v/a.wav',\n",
              " 'datasets/speech/syllables/v/o.wav',\n",
              " 'datasets/speech/syllables/v/e.wav',\n",
              " 'datasets/speech/syllables/v/u.wav',\n",
              " 'datasets/speech/syllables/v/i.wav']"
            ]
          },
          "metadata": {
            "tags": []
          },
          "execution_count": 12
        }
      ]
    },
    {
      "cell_type": "code",
      "metadata": {
        "id": "zmSfrkQ5aDgA",
        "colab_type": "code",
        "colab": {}
      },
      "source": [
        "def category_from_name(path):\n",
        "    return os.path.basename(path).rsplit('.',1)[0]\n",
        "  \n",
        "def xs_ys_from_filenames(filenames, max_ty):\n",
        "    xs = []\n",
        "    ys = []\n",
        "    for f in filenames:\n",
        "        y = category_from_name(f)\n",
        "        y = [chars_to_ix[j] for j in y]\n",
        "        x = spectrogram_from_file(f)\n",
        "        xs.append(x)\n",
        "        ys.append(y)\n",
        "    xs, ys = to_ctc_format(xs, ys, max_ty)\n",
        "    return xs, ys"
      ],
      "execution_count": 0,
      "outputs": []
    },
    {
      "cell_type": "code",
      "metadata": {
        "id": "hZMZNZzRavNe",
        "colab_type": "code",
        "colab": {}
      },
      "source": [
        "xs, ys =xs_ys_from_filenames(examples, max_ty=100)"
      ],
      "execution_count": 0,
      "outputs": []
    },
    {
      "cell_type": "code",
      "metadata": {
        "id": "x0qXeaJ7a7dU",
        "colab_type": "code",
        "colab": {
          "base_uri": "https://localhost:8080/",
          "height": 34
        },
        "outputId": "3080cc91-a279-4fcd-fc80-15560a556987"
      },
      "source": [
        "xs.shape, ys.shape"
      ],
      "execution_count": 15,
      "outputs": [
        {
          "output_type": "execute_result",
          "data": {
            "text/plain": [
              "((5, 48, 221), (5, 100))"
            ]
          },
          "metadata": {
            "tags": []
          },
          "execution_count": 15
        }
      ]
    },
    {
      "cell_type": "code",
      "metadata": {
        "id": "LzvT1uYRbbk4",
        "colab_type": "code",
        "colab": {}
      },
      "source": [
        "import matplotlib.pyplot as plt"
      ],
      "execution_count": 0,
      "outputs": []
    },
    {
      "cell_type": "code",
      "metadata": {
        "id": "lwRYz9X-b8Ot",
        "colab_type": "code",
        "colab": {
          "base_uri": "https://localhost:8080/",
          "height": 269
        },
        "outputId": "f6bfd8c3-f402-4268-8bed-eedac687b192"
      },
      "source": [
        "for i in range(5):\n",
        "  plt.subplot(151+i)\n",
        "  plt.imshow(xs[i].T)\n"
      ],
      "execution_count": 17,
      "outputs": [
        {
          "output_type": "display_data",
          "data": {
            "image/png": "[encoded data removed]",
            "text/plain": [
              "<Figure size 432x288 with 5 Axes>"
            ]
          },
          "metadata": {
            "tags": []
          }
        }
      ]
    },
    {
      "cell_type": "code",
      "metadata": {
        "id": "VSTgL5F6dz3W",
        "colab_type": "code",
        "colab": {}
      },
      "source": [
        "last = l0 = tf.keras.layers.Input(shape=(None,221))\n",
        "last = l1 = tf.keras.layers.Conv1D(16, (3,), padding=\"same\", activation=\"relu\")(last)\n",
        "last = l2 = tf.keras.layers.Conv1D(8, (3,), padding=\"same\", activation=\"relu\")(last)\n",
        "# last = l3 = tf.keras.layers.Conv1D(8, (3,), padding=\"same\", activation=\"relu\")(last)\n",
        "last = l4 = tf.keras.layers.MaxPool1D(pool_size=2, strides=1)(last)\n",
        "# last = l5 = tf.keras.layers.Conv1D(8, (3,), padding=\"same\", activation=\"relu\")(last)\n",
        "# last = l6 = tf.keras.layers.Conv1D(8, (3,), padding=\"same\", activation=\"relu\")(last)\n",
        "# last = l7 = tf.keras.layers.Conv1D(8, (3,), padding=\"same\", activation=\"relu\")(last)\n",
        "last = l8 = tf.keras.layers.Conv1D(4, (3,), padding=\"same\", activation=\"relu\")(last)\n",
        "last = l9 = tf.keras.layers.MaxPool1D(pool_size=2, strides=2)(last)\n",
        "last =l10 = tf.keras.layers.LSTM(64, return_sequences=True)(last)\n",
        "last = l11 = tf.keras.layers.Dense(27)(last)\n",
        "last = l12 = tf.keras.layers.Activation('softmax')(last)\n",
        "\n",
        "model = tf.keras.Model([l0], last)\n",
        "model.compile(loss=ctc_loss((5, 100)),\n",
        "        optimizer=tf.keras.optimizers.Adam())"
      ],
      "execution_count": 0,
      "outputs": []
    },
    {
      "cell_type": "code",
      "metadata": {
        "id": "eTohV-DWcAUP",
        "colab_type": "code",
        "colab": {}
      },
      "source": [
        "import tensorflow.keras.backend as K"
      ],
      "execution_count": 0,
      "outputs": []
    },
    {
      "cell_type": "code",
      "metadata": {
        "id": "GiQc-75ifqpo",
        "colab_type": "code",
        "colab": {
          "base_uri": "https://localhost:8080/",
          "height": 34
        },
        "outputId": "a18b3fa1-4cae-4ffd-9a60-2fa23f861a14"
      },
      "source": [
        "def forward(last):\n",
        "  last = l1 = tf.keras.layers.Conv1D(16, (3,), padding=\"same\", activation=\"relu\")(last)\n",
        "  last = l4 = tf.keras.layers.MaxPool1D(pool_size=2, strides=1)(last)\n",
        "  last = l2 = tf.keras.layers.Conv1D(8, (3,), padding=\"same\", activation=\"relu\")(last)\n",
        "  last = l4 = tf.keras.layers.MaxPool1D(pool_size=2, strides=1)(last)\n",
        "  last = l3 = tf.keras.layers.Conv1D(8, (3,), padding=\"same\", activation=\"relu\")(last)\n",
        "  last = l4 = tf.keras.layers.MaxPool1D(pool_size=2, strides=1)(last)\n",
        "  last = l5 = tf.keras.layers.Conv1D(8, (3,), padding=\"same\", activation=\"relu\")(last)\n",
        "  last = l4 = tf.keras.layers.MaxPool1D(pool_size=2, strides=1)(last)\n",
        "  last = l6 = tf.keras.layers.Conv1D(8, (3,), padding=\"same\", activation=\"relu\")(last)\n",
        "  last = l4 = tf.keras.layers.MaxPool1D(pool_size=2, strides=1)(last)\n",
        "  last = l7 = tf.keras.layers.Conv1D(8, (3,), padding=\"same\", activation=\"relu\")(last)\n",
        "  last = l4 = tf.keras.layers.MaxPool1D(pool_size=2, strides=1)(last)\n",
        "  last = l8 = tf.keras.layers.Conv1D(4, (3,), padding=\"same\", activation=\"relu\")(last)\n",
        "  last = l9 = tf.keras.layers.MaxPool1D(pool_size=2, strides=2)(last)\n",
        "  last =l10 = tf.keras.layers.LSTM(64, return_sequences=True)(last)\n",
        "  last = l11 = tf.keras.layers.Dense(27)(last)\n",
        "  last = l12 = tf.keras.layers.Activation('softmax')(last)\n",
        "  return last\n",
        "last = np.array(xs, dtype='float32')\n",
        "last = forward(last)\n",
        "last.shape"
      ],
      "execution_count": 60,
      "outputs": [
        {
          "output_type": "execute_result",
          "data": {
            "text/plain": [
              "TensorShape([Dimension(5), Dimension(21), Dimension(27)])"
            ]
          },
          "metadata": {
            "tags": []
          },
          "execution_count": 60
        }
      ]
    },
    {
      "cell_type": "code",
      "metadata": {
        "id": "_cgiAsNEf8gz",
        "colab_type": "code",
        "colab": {}
      },
      "source": [
        "l0 = tf.keras.layers.Input(shape=(None,221))\n",
        "model = tf.keras.Model(l0, layers(l0))\n",
        "model.compile(loss=ctc_loss((5, 100)),\n",
        "        optimizer=tf.keras.optimizers.Adam())"
      ],
      "execution_count": 0,
      "outputs": []
    },
    {
      "cell_type": "code",
      "metadata": {
        "id": "dRLnVNutgIWr",
        "colab_type": "code",
        "colab": {}
      },
      "source": [
        "last = np.array(xs, dtype='float32')"
      ],
      "execution_count": 0,
      "outputs": []
    },
    {
      "cell_type": "code",
      "metadata": {
        "id": "vVcX8Bw4iIwX",
        "colab_type": "code",
        "colab": {}
      },
      "source": [
        "y_pred = forward(last)"
      ],
      "execution_count": 0,
      "outputs": []
    },
    {
      "cell_type": "code",
      "metadata": {
        "id": "P-jPR-bpjb1v",
        "colab_type": "code",
        "colab": {
          "base_uri": "https://localhost:8080/",
          "height": 34
        },
        "outputId": "ea40f00f-7fff-44bb-c9e2-b2f3860f1bf3"
      },
      "source": [
        "ys.shape, y_pred.shape"
      ],
      "execution_count": 69,
      "outputs": [
        {
          "output_type": "execute_result",
          "data": {
            "text/plain": [
              "((5, 100), TensorShape([Dimension(5), Dimension(21), Dimension(27)]))"
            ]
          },
          "metadata": {
            "tags": []
          },
          "execution_count": 69
        }
      ]
    },
    {
      "cell_type": "code",
      "metadata": {
        "id": "vNH9yjGujqon",
        "colab_type": "code",
        "colab": {}
      },
      "source": [
        "ctcloss = ctc_loss((5,100))"
      ],
      "execution_count": 0,
      "outputs": []
    },
    {
      "cell_type": "code",
      "metadata": {
        "id": "8YUEowpBj3Xe",
        "colab_type": "code",
        "colab": {
          "base_uri": "https://localhost:8080/",
          "height": 221
        },
        "outputId": "68cddcb2-e5f4-4301-f740-3be829a5bd73"
      },
      "source": [
        "ctcloss(ys, y_pred)"
      ],
      "execution_count": 71,
      "outputs": [
        {
          "output_type": "error",
          "ename": "InvalidArgumentError",
          "evalue": "ignored",
          "traceback": [
            "\u001b[0;31m---------------------------------------------------------------------------\u001b[0m",
            "\u001b[0;31mInvalidArgumentError\u001b[0m                      Traceback (most recent call last)",
            "\u001b[0;32m<ipython-input-71-4a4fcf142216>\u001b[0m in \u001b[0;36m<module>\u001b[0;34m()\u001b[0m\n\u001b[0;32m----> 1\u001b[0;31m \u001b[0mctcloss\u001b[0m\u001b[0;34m(\u001b[0m\u001b[0mys\u001b[0m\u001b[0;34m,\u001b[0m \u001b[0my_pred\u001b[0m\u001b[0;34m)\u001b[0m\u001b[0;34m\u001b[0m\u001b[0;34m\u001b[0m\u001b[0m\n\u001b[0m",
            "\u001b[0;32m<ipython-input-9-defbd7c184a0>\u001b[0m in \u001b[0;36mf\u001b[0;34m(y_true, y_pred)\u001b[0m\n\u001b[1;32m     14\u001b[0m     \u001b[0mk_label_lens\u001b[0m \u001b[0;34m=\u001b[0m \u001b[0my_true\u001b[0m\u001b[0;34m[\u001b[0m\u001b[0;34m:\u001b[0m\u001b[0;34m,\u001b[0m\u001b[0;36m1\u001b[0m\u001b[0;34m:\u001b[0m\u001b[0;36m2\u001b[0m\u001b[0;34m]\u001b[0m\u001b[0;34m\u001b[0m\u001b[0;34m\u001b[0m\u001b[0m\n\u001b[1;32m     15\u001b[0m     \u001b[0mk_labels\u001b[0m \u001b[0;34m=\u001b[0m \u001b[0my_true\u001b[0m\u001b[0;34m[\u001b[0m\u001b[0;34m:\u001b[0m\u001b[0;34m,\u001b[0m\u001b[0;36m2\u001b[0m\u001b[0;34m:\u001b[0m\u001b[0;34m]\u001b[0m\u001b[0;34m\u001b[0m\u001b[0;34m\u001b[0m\u001b[0m\n\u001b[0;32m---> 16\u001b[0;31m     \u001b[0mcost\u001b[0m \u001b[0;34m=\u001b[0m \u001b[0mK\u001b[0m\u001b[0;34m.\u001b[0m\u001b[0mctc_batch_cost\u001b[0m\u001b[0;34m(\u001b[0m\u001b[0mk_labels\u001b[0m\u001b[0;34m,\u001b[0m \u001b[0mk_inputs\u001b[0m\u001b[0;34m,\u001b[0m \u001b[0mk_input_lens\u001b[0m\u001b[0;34m,\u001b[0m\u001b[0mk_label_lens\u001b[0m\u001b[0;34m)\u001b[0m\u001b[0;34m\u001b[0m\u001b[0;34m\u001b[0m\u001b[0m\n\u001b[0m\u001b[1;32m     17\u001b[0m     \u001b[0;32mreturn\u001b[0m \u001b[0mcost\u001b[0m\u001b[0;34m\u001b[0m\u001b[0;34m\u001b[0m\u001b[0m\n\u001b[1;32m     18\u001b[0m   \u001b[0;32mreturn\u001b[0m \u001b[0mf\u001b[0m\u001b[0;34m\u001b[0m\u001b[0;34m\u001b[0m\u001b[0m\n",
            "\u001b[0;32m/usr/local/lib/python3.6/dist-packages/tensorflow/python/keras/backend.py\u001b[0m in \u001b[0;36mctc_batch_cost\u001b[0;34m(y_true, y_pred, input_length, label_length)\u001b[0m\n\u001b[1;32m   5084\u001b[0m   return array_ops.expand_dims(\n\u001b[1;32m   5085\u001b[0m       ctc.ctc_loss(\n\u001b[0;32m-> 5086\u001b[0;31m           inputs=y_pred, labels=sparse_labels, sequence_length=input_length), 1)\n\u001b[0m\u001b[1;32m   5087\u001b[0m \u001b[0;34m\u001b[0m\u001b[0m\n\u001b[1;32m   5088\u001b[0m \u001b[0;34m\u001b[0m\u001b[0m\n",
            "\u001b[0;32m/usr/local/lib/python3.6/dist-packages/tensorflow/python/ops/ctc_ops.py\u001b[0m in \u001b[0;36mctc_loss\u001b[0;34m(labels, inputs, sequence_length, preprocess_collapse_repeated, ctc_merge_repeated, ignore_longer_outputs_than_inputs, time_major)\u001b[0m\n\u001b[1;32m    167\u001b[0m       \u001b[0mpreprocess_collapse_repeated\u001b[0m\u001b[0;34m=\u001b[0m\u001b[0mpreprocess_collapse_repeated\u001b[0m\u001b[0;34m,\u001b[0m\u001b[0;34m\u001b[0m\u001b[0;34m\u001b[0m\u001b[0m\n\u001b[1;32m    168\u001b[0m       \u001b[0mctc_merge_repeated\u001b[0m\u001b[0;34m=\u001b[0m\u001b[0mctc_merge_repeated\u001b[0m\u001b[0;34m,\u001b[0m\u001b[0;34m\u001b[0m\u001b[0;34m\u001b[0m\u001b[0m\n\u001b[0;32m--> 169\u001b[0;31m       ignore_longer_outputs_than_inputs=ignore_longer_outputs_than_inputs)\n\u001b[0m\u001b[1;32m    170\u001b[0m \u001b[0;34m\u001b[0m\u001b[0m\n\u001b[1;32m    171\u001b[0m   \u001b[0;32mreturn\u001b[0m \u001b[0mloss\u001b[0m\u001b[0;34m\u001b[0m\u001b[0;34m\u001b[0m\u001b[0m\n",
            "\u001b[0;32m/usr/local/lib/python3.6/dist-packages/tensorflow/python/ops/gen_ctc_ops.py\u001b[0m in \u001b[0;36mctc_loss\u001b[0;34m(inputs, labels_indices, labels_values, sequence_length, preprocess_collapse_repeated, ctc_merge_repeated, ignore_longer_outputs_than_inputs, name)\u001b[0m\n\u001b[1;32m    303\u001b[0m       \u001b[0;32melse\u001b[0m\u001b[0;34m:\u001b[0m\u001b[0;34m\u001b[0m\u001b[0;34m\u001b[0m\u001b[0m\n\u001b[1;32m    304\u001b[0m         \u001b[0mmessage\u001b[0m \u001b[0;34m=\u001b[0m \u001b[0me\u001b[0m\u001b[0;34m.\u001b[0m\u001b[0mmessage\u001b[0m\u001b[0;34m\u001b[0m\u001b[0;34m\u001b[0m\u001b[0m\n\u001b[0;32m--> 305\u001b[0;31m       \u001b[0m_six\u001b[0m\u001b[0;34m.\u001b[0m\u001b[0mraise_from\u001b[0m\u001b[0;34m(\u001b[0m\u001b[0m_core\u001b[0m\u001b[0;34m.\u001b[0m\u001b[0m_status_to_exception\u001b[0m\u001b[0;34m(\u001b[0m\u001b[0me\u001b[0m\u001b[0;34m.\u001b[0m\u001b[0mcode\u001b[0m\u001b[0;34m,\u001b[0m \u001b[0mmessage\u001b[0m\u001b[0;34m)\u001b[0m\u001b[0;34m,\u001b[0m \u001b[0;32mNone\u001b[0m\u001b[0;34m)\u001b[0m\u001b[0;34m\u001b[0m\u001b[0;34m\u001b[0m\u001b[0m\n\u001b[0m\u001b[1;32m    306\u001b[0m   \u001b[0;31m# Add nodes to the TensorFlow graph.\u001b[0m\u001b[0;34m\u001b[0m\u001b[0;34m\u001b[0m\u001b[0;34m\u001b[0m\u001b[0m\n\u001b[1;32m    307\u001b[0m   \u001b[0;32mif\u001b[0m \u001b[0mpreprocess_collapse_repeated\u001b[0m \u001b[0;32mis\u001b[0m \u001b[0;32mNone\u001b[0m\u001b[0;34m:\u001b[0m\u001b[0;34m\u001b[0m\u001b[0;34m\u001b[0m\u001b[0m\n",
            "\u001b[0;32m/usr/local/lib/python3.6/dist-packages/six.py\u001b[0m in \u001b[0;36mraise_from\u001b[0;34m(value, from_value)\u001b[0m\n",
            "\u001b[0;31mInvalidArgumentError\u001b[0m: sequence_length(0) <= 21 [Op:CTCLoss]"
          ]
        }
      ]
    },
    {
      "cell_type": "code",
      "metadata": {
        "id": "bIK90Puxj8jP",
        "colab_type": "code",
        "colab": {
          "base_uri": "https://localhost:8080/",
          "height": 697
        },
        "outputId": "77851a73-ba71-4e7d-c202-5ca053bf67ad"
      },
      "source": [
        "ys"
      ],
      "execution_count": 77,
      "outputs": [
        {
          "output_type": "execute_result",
          "data": {
            "text/plain": [
              "array([[46.,  1.,  0.,  0.,  0.,  0.,  0.,  0.,  0.,  0.,  0.,  0.,  0.,\n",
              "         0.,  0.,  0.,  0.,  0.,  0.,  0.,  0.,  0.,  0.,  0.,  0.,  0.,\n",
              "         0.,  0.,  0.,  0.,  0.,  0.,  0.,  0.,  0.,  0.,  0.,  0.,  0.,\n",
              "         0.,  0.,  0.,  0.,  0.,  0.,  0.,  0.,  0.,  0.,  0.,  0.,  0.,\n",
              "         0.,  0.,  0.,  0.,  0.,  0.,  0.,  0.,  0.,  0.,  0.,  0.,  0.,\n",
              "         0.,  0.,  0.,  0.,  0.,  0.,  0.,  0.,  0.,  0.,  0.,  0.,  0.,\n",
              "         0.,  0.,  0.,  0.,  0.,  0.,  0.,  0.,  0.,  0.,  0.,  0.,  0.,\n",
              "         0.,  0.,  0.,  0.,  0.,  0.,  0.,  0.,  0.],\n",
              "       [46.,  1., 14.,  0.,  0.,  0.,  0.,  0.,  0.,  0.,  0.,  0.,  0.,\n",
              "         0.,  0.,  0.,  0.,  0.,  0.,  0.,  0.,  0.,  0.,  0.,  0.,  0.,\n",
              "         0.,  0.,  0.,  0.,  0.,  0.,  0.,  0.,  0.,  0.,  0.,  0.,  0.,\n",
              "         0.,  0.,  0.,  0.,  0.,  0.,  0.,  0.,  0.,  0.,  0.,  0.,  0.,\n",
              "         0.,  0.,  0.,  0.,  0.,  0.,  0.,  0.,  0.,  0.,  0.,  0.,  0.,\n",
              "         0.,  0.,  0.,  0.,  0.,  0.,  0.,  0.,  0.,  0.,  0.,  0.,  0.,\n",
              "         0.,  0.,  0.,  0.,  0.,  0.,  0.,  0.,  0.,  0.,  0.,  0.,  0.,\n",
              "         0.,  0.,  0.,  0.,  0.,  0.,  0.,  0.,  0.],\n",
              "       [46.,  1.,  4.,  0.,  0.,  0.,  0.,  0.,  0.,  0.,  0.,  0.,  0.,\n",
              "         0.,  0.,  0.,  0.,  0.,  0.,  0.,  0.,  0.,  0.,  0.,  0.,  0.,\n",
              "         0.,  0.,  0.,  0.,  0.,  0.,  0.,  0.,  0.,  0.,  0.,  0.,  0.,\n",
              "         0.,  0.,  0.,  0.,  0.,  0.,  0.,  0.,  0.,  0.,  0.,  0.,  0.,\n",
              "         0.,  0.,  0.,  0.,  0.,  0.,  0.,  0.,  0.,  0.,  0.,  0.,  0.,\n",
              "         0.,  0.,  0.,  0.,  0.,  0.,  0.,  0.,  0.,  0.,  0.,  0.,  0.,\n",
              "         0.,  0.,  0.,  0.,  0.,  0.,  0.,  0.,  0.,  0.,  0.,  0.,  0.,\n",
              "         0.,  0.,  0.,  0.,  0.,  0.,  0.,  0.,  0.],\n",
              "       [46.,  1., 20.,  0.,  0.,  0.,  0.,  0.,  0.,  0.,  0.,  0.,  0.,\n",
              "         0.,  0.,  0.,  0.,  0.,  0.,  0.,  0.,  0.,  0.,  0.,  0.,  0.,\n",
              "         0.,  0.,  0.,  0.,  0.,  0.,  0.,  0.,  0.,  0.,  0.,  0.,  0.,\n",
              "         0.,  0.,  0.,  0.,  0.,  0.,  0.,  0.,  0.,  0.,  0.,  0.,  0.,\n",
              "         0.,  0.,  0.,  0.,  0.,  0.,  0.,  0.,  0.,  0.,  0.,  0.,  0.,\n",
              "         0.,  0.,  0.,  0.,  0.,  0.,  0.,  0.,  0.,  0.,  0.,  0.,  0.,\n",
              "         0.,  0.,  0.,  0.,  0.,  0.,  0.,  0.,  0.,  0.,  0.,  0.,  0.,\n",
              "         0.,  0.,  0.,  0.,  0.,  0.,  0.,  0.,  0.],\n",
              "       [46.,  1.,  8.,  0.,  0.,  0.,  0.,  0.,  0.,  0.,  0.,  0.,  0.,\n",
              "         0.,  0.,  0.,  0.,  0.,  0.,  0.,  0.,  0.,  0.,  0.,  0.,  0.,\n",
              "         0.,  0.,  0.,  0.,  0.,  0.,  0.,  0.,  0.,  0.,  0.,  0.,  0.,\n",
              "         0.,  0.,  0.,  0.,  0.,  0.,  0.,  0.,  0.,  0.,  0.,  0.,  0.,\n",
              "         0.,  0.,  0.,  0.,  0.,  0.,  0.,  0.,  0.,  0.,  0.,  0.,  0.,\n",
              "         0.,  0.,  0.,  0.,  0.,  0.,  0.,  0.,  0.,  0.,  0.,  0.,  0.,\n",
              "         0.,  0.,  0.,  0.,  0.,  0.,  0.,  0.,  0.,  0.,  0.,  0.,  0.,\n",
              "         0.,  0.,  0.,  0.,  0.,  0.,  0.,  0.,  0.]])"
            ]
          },
          "metadata": {
            "tags": []
          },
          "execution_count": 77
        }
      ]
    },
    {
      "cell_type": "code",
      "metadata": {
        "id": "8oZZEzozkGPA",
        "colab_type": "code",
        "colab": {
          "base_uri": "https://localhost:8080/",
          "height": 255
        },
        "outputId": "4b53bb8a-7d04-48b3-8f41-f32887c9db81"
      },
      "source": [
        "y_true = ys\n",
        "k_inputs = y_pred\n",
        "k_input_lens = y_true[:,0:1]\n",
        "k_label_lens = y_true[:,1:2]\n",
        "k_labels = y_true[:,2:]\n",
        "cost = K.ctc_batch_cost(k_labels, k_inputs, k_input_lens,k_label_lens)"
      ],
      "execution_count": 78,
      "outputs": [
        {
          "output_type": "error",
          "ename": "InvalidArgumentError",
          "evalue": "ignored",
          "traceback": [
            "\u001b[0;31m---------------------------------------------------------------------------\u001b[0m",
            "\u001b[0;31mInvalidArgumentError\u001b[0m                      Traceback (most recent call last)",
            "\u001b[0;32m<ipython-input-78-46ecfa1411a8>\u001b[0m in \u001b[0;36m<module>\u001b[0;34m()\u001b[0m\n\u001b[1;32m      4\u001b[0m \u001b[0mk_label_lens\u001b[0m \u001b[0;34m=\u001b[0m \u001b[0my_true\u001b[0m\u001b[0;34m[\u001b[0m\u001b[0;34m:\u001b[0m\u001b[0;34m,\u001b[0m\u001b[0;36m1\u001b[0m\u001b[0;34m:\u001b[0m\u001b[0;36m2\u001b[0m\u001b[0;34m]\u001b[0m\u001b[0;34m\u001b[0m\u001b[0;34m\u001b[0m\u001b[0m\n\u001b[1;32m      5\u001b[0m \u001b[0mk_labels\u001b[0m \u001b[0;34m=\u001b[0m \u001b[0my_true\u001b[0m\u001b[0;34m[\u001b[0m\u001b[0;34m:\u001b[0m\u001b[0;34m,\u001b[0m\u001b[0;36m2\u001b[0m\u001b[0;34m:\u001b[0m\u001b[0;34m]\u001b[0m\u001b[0;34m\u001b[0m\u001b[0;34m\u001b[0m\u001b[0m\n\u001b[0;32m----> 6\u001b[0;31m \u001b[0mcost\u001b[0m \u001b[0;34m=\u001b[0m \u001b[0mK\u001b[0m\u001b[0;34m.\u001b[0m\u001b[0mctc_batch_cost\u001b[0m\u001b[0;34m(\u001b[0m\u001b[0mk_labels\u001b[0m\u001b[0;34m,\u001b[0m \u001b[0mk_inputs\u001b[0m\u001b[0;34m,\u001b[0m \u001b[0mk_input_lens\u001b[0m\u001b[0;34m,\u001b[0m\u001b[0mk_label_lens\u001b[0m\u001b[0;34m)\u001b[0m\u001b[0;34m\u001b[0m\u001b[0;34m\u001b[0m\u001b[0m\n\u001b[0m",
            "\u001b[0;32m/usr/local/lib/python3.6/dist-packages/tensorflow/python/keras/backend.py\u001b[0m in \u001b[0;36mctc_batch_cost\u001b[0;34m(y_true, y_pred, input_length, label_length)\u001b[0m\n\u001b[1;32m   5084\u001b[0m   return array_ops.expand_dims(\n\u001b[1;32m   5085\u001b[0m       ctc.ctc_loss(\n\u001b[0;32m-> 5086\u001b[0;31m           inputs=y_pred, labels=sparse_labels, sequence_length=input_length), 1)\n\u001b[0m\u001b[1;32m   5087\u001b[0m \u001b[0;34m\u001b[0m\u001b[0m\n\u001b[1;32m   5088\u001b[0m \u001b[0;34m\u001b[0m\u001b[0m\n",
            "\u001b[0;32m/usr/local/lib/python3.6/dist-packages/tensorflow/python/ops/ctc_ops.py\u001b[0m in \u001b[0;36mctc_loss\u001b[0;34m(labels, inputs, sequence_length, preprocess_collapse_repeated, ctc_merge_repeated, ignore_longer_outputs_than_inputs, time_major)\u001b[0m\n\u001b[1;32m    167\u001b[0m       \u001b[0mpreprocess_collapse_repeated\u001b[0m\u001b[0;34m=\u001b[0m\u001b[0mpreprocess_collapse_repeated\u001b[0m\u001b[0;34m,\u001b[0m\u001b[0;34m\u001b[0m\u001b[0;34m\u001b[0m\u001b[0m\n\u001b[1;32m    168\u001b[0m       \u001b[0mctc_merge_repeated\u001b[0m\u001b[0;34m=\u001b[0m\u001b[0mctc_merge_repeated\u001b[0m\u001b[0;34m,\u001b[0m\u001b[0;34m\u001b[0m\u001b[0;34m\u001b[0m\u001b[0m\n\u001b[0;32m--> 169\u001b[0;31m       ignore_longer_outputs_than_inputs=ignore_longer_outputs_than_inputs)\n\u001b[0m\u001b[1;32m    170\u001b[0m \u001b[0;34m\u001b[0m\u001b[0m\n\u001b[1;32m    171\u001b[0m   \u001b[0;32mreturn\u001b[0m \u001b[0mloss\u001b[0m\u001b[0;34m\u001b[0m\u001b[0;34m\u001b[0m\u001b[0m\n",
            "\u001b[0;32m/usr/local/lib/python3.6/dist-packages/tensorflow/python/ops/gen_ctc_ops.py\u001b[0m in \u001b[0;36mctc_loss\u001b[0;34m(inputs, labels_indices, labels_values, sequence_length, preprocess_collapse_repeated, ctc_merge_repeated, ignore_longer_outputs_than_inputs, name)\u001b[0m\n\u001b[1;32m    303\u001b[0m       \u001b[0;32melse\u001b[0m\u001b[0;34m:\u001b[0m\u001b[0;34m\u001b[0m\u001b[0;34m\u001b[0m\u001b[0m\n\u001b[1;32m    304\u001b[0m         \u001b[0mmessage\u001b[0m \u001b[0;34m=\u001b[0m \u001b[0me\u001b[0m\u001b[0;34m.\u001b[0m\u001b[0mmessage\u001b[0m\u001b[0;34m\u001b[0m\u001b[0;34m\u001b[0m\u001b[0m\n\u001b[0;32m--> 305\u001b[0;31m       \u001b[0m_six\u001b[0m\u001b[0;34m.\u001b[0m\u001b[0mraise_from\u001b[0m\u001b[0;34m(\u001b[0m\u001b[0m_core\u001b[0m\u001b[0;34m.\u001b[0m\u001b[0m_status_to_exception\u001b[0m\u001b[0;34m(\u001b[0m\u001b[0me\u001b[0m\u001b[0;34m.\u001b[0m\u001b[0mcode\u001b[0m\u001b[0;34m,\u001b[0m \u001b[0mmessage\u001b[0m\u001b[0;34m)\u001b[0m\u001b[0;34m,\u001b[0m \u001b[0;32mNone\u001b[0m\u001b[0;34m)\u001b[0m\u001b[0;34m\u001b[0m\u001b[0;34m\u001b[0m\u001b[0m\n\u001b[0m\u001b[1;32m    306\u001b[0m   \u001b[0;31m# Add nodes to the TensorFlow graph.\u001b[0m\u001b[0;34m\u001b[0m\u001b[0;34m\u001b[0m\u001b[0;34m\u001b[0m\u001b[0m\n\u001b[1;32m    307\u001b[0m   \u001b[0;32mif\u001b[0m \u001b[0mpreprocess_collapse_repeated\u001b[0m \u001b[0;32mis\u001b[0m \u001b[0;32mNone\u001b[0m\u001b[0;34m:\u001b[0m\u001b[0;34m\u001b[0m\u001b[0;34m\u001b[0m\u001b[0m\n",
            "\u001b[0;32m/usr/local/lib/python3.6/dist-packages/six.py\u001b[0m in \u001b[0;36mraise_from\u001b[0;34m(value, from_value)\u001b[0m\n",
            "\u001b[0;31mInvalidArgumentError\u001b[0m: sequence_length(0) <= 21 [Op:CTCLoss]"
          ]
        }
      ]
    },
    {
      "cell_type": "code",
      "metadata": {
        "id": "_qdiTY8nk3nr",
        "colab_type": "code",
        "colab": {
          "base_uri": "https://localhost:8080/",
          "height": 1193
        },
        "outputId": "4f73c8af-803a-4b5a-de47-36ecbdf4a498"
      },
      "source": [
        "model.fit(xs[2:],ys[2:])"
      ],
      "execution_count": 83,
      "outputs": [
        {
          "output_type": "error",
          "ename": "CancelledError",
          "evalue": "ignored",
          "traceback": [
            "\u001b[0;31m---------------------------------------------------------------------------\u001b[0m",
            "\u001b[0;31mCancelledError\u001b[0m                            Traceback (most recent call last)",
            "\u001b[0;32m<ipython-input-83-9730719a5eff>\u001b[0m in \u001b[0;36m<module>\u001b[0;34m()\u001b[0m\n\u001b[0;32m----> 1\u001b[0;31m \u001b[0mmodel\u001b[0m\u001b[0;34m.\u001b[0m\u001b[0mfit\u001b[0m\u001b[0;34m(\u001b[0m\u001b[0mxs\u001b[0m\u001b[0;34m[\u001b[0m\u001b[0;36m2\u001b[0m\u001b[0;34m:\u001b[0m\u001b[0;34m]\u001b[0m\u001b[0;34m,\u001b[0m\u001b[0mys\u001b[0m\u001b[0;34m[\u001b[0m\u001b[0;36m2\u001b[0m\u001b[0;34m:\u001b[0m\u001b[0;34m]\u001b[0m\u001b[0;34m)\u001b[0m\u001b[0;34m\u001b[0m\u001b[0;34m\u001b[0m\u001b[0m\n\u001b[0m",
            "\u001b[0;32m/usr/local/lib/python3.6/dist-packages/tensorflow/python/keras/engine/training.py\u001b[0m in \u001b[0;36mfit\u001b[0;34m(self, x, y, batch_size, epochs, verbose, callbacks, validation_split, validation_data, shuffle, class_weight, sample_weight, initial_epoch, steps_per_epoch, validation_steps, max_queue_size, workers, use_multiprocessing, **kwargs)\u001b[0m\n\u001b[1;32m    878\u001b[0m           \u001b[0minitial_epoch\u001b[0m\u001b[0;34m=\u001b[0m\u001b[0minitial_epoch\u001b[0m\u001b[0;34m,\u001b[0m\u001b[0;34m\u001b[0m\u001b[0;34m\u001b[0m\u001b[0m\n\u001b[1;32m    879\u001b[0m           \u001b[0msteps_per_epoch\u001b[0m\u001b[0;34m=\u001b[0m\u001b[0msteps_per_epoch\u001b[0m\u001b[0;34m,\u001b[0m\u001b[0;34m\u001b[0m\u001b[0;34m\u001b[0m\u001b[0m\n\u001b[0;32m--> 880\u001b[0;31m           validation_steps=validation_steps)\n\u001b[0m\u001b[1;32m    881\u001b[0m \u001b[0;34m\u001b[0m\u001b[0m\n\u001b[1;32m    882\u001b[0m   def evaluate(self,\n",
            "\u001b[0;32m/usr/local/lib/python3.6/dist-packages/tensorflow/python/keras/engine/training_arrays.py\u001b[0m in \u001b[0;36mmodel_iteration\u001b[0;34m(model, inputs, targets, sample_weights, batch_size, epochs, verbose, callbacks, val_inputs, val_targets, val_sample_weights, shuffle, initial_epoch, steps_per_epoch, validation_steps, mode, validation_in_fit, **kwargs)\u001b[0m\n\u001b[1;32m    327\u001b[0m \u001b[0;34m\u001b[0m\u001b[0m\n\u001b[1;32m    328\u001b[0m         \u001b[0;31m# Get outputs.\u001b[0m\u001b[0;34m\u001b[0m\u001b[0;34m\u001b[0m\u001b[0;34m\u001b[0m\u001b[0m\n\u001b[0;32m--> 329\u001b[0;31m         \u001b[0mbatch_outs\u001b[0m \u001b[0;34m=\u001b[0m \u001b[0mf\u001b[0m\u001b[0;34m(\u001b[0m\u001b[0mins_batch\u001b[0m\u001b[0;34m)\u001b[0m\u001b[0;34m\u001b[0m\u001b[0;34m\u001b[0m\u001b[0m\n\u001b[0m\u001b[1;32m    330\u001b[0m         \u001b[0;32mif\u001b[0m \u001b[0;32mnot\u001b[0m \u001b[0misinstance\u001b[0m\u001b[0;34m(\u001b[0m\u001b[0mbatch_outs\u001b[0m\u001b[0;34m,\u001b[0m \u001b[0mlist\u001b[0m\u001b[0;34m)\u001b[0m\u001b[0;34m:\u001b[0m\u001b[0;34m\u001b[0m\u001b[0;34m\u001b[0m\u001b[0m\n\u001b[1;32m    331\u001b[0m           \u001b[0mbatch_outs\u001b[0m \u001b[0;34m=\u001b[0m \u001b[0;34m[\u001b[0m\u001b[0mbatch_outs\u001b[0m\u001b[0;34m]\u001b[0m\u001b[0;34m\u001b[0m\u001b[0;34m\u001b[0m\u001b[0m\n",
            "\u001b[0;32m/usr/local/lib/python3.6/dist-packages/tensorflow/python/keras/backend.py\u001b[0m in \u001b[0;36m__call__\u001b[0;34m(self, inputs)\u001b[0m\n\u001b[1;32m   3164\u001b[0m         \u001b[0mvalue\u001b[0m \u001b[0;34m=\u001b[0m \u001b[0mmath_ops\u001b[0m\u001b[0;34m.\u001b[0m\u001b[0mcast\u001b[0m\u001b[0;34m(\u001b[0m\u001b[0mvalue\u001b[0m\u001b[0;34m,\u001b[0m \u001b[0mtensor\u001b[0m\u001b[0;34m.\u001b[0m\u001b[0mdtype\u001b[0m\u001b[0;34m)\u001b[0m\u001b[0;34m\u001b[0m\u001b[0;34m\u001b[0m\u001b[0m\n\u001b[1;32m   3165\u001b[0m       \u001b[0mconverted_inputs\u001b[0m\u001b[0;34m.\u001b[0m\u001b[0mappend\u001b[0m\u001b[0;34m(\u001b[0m\u001b[0mvalue\u001b[0m\u001b[0;34m)\u001b[0m\u001b[0;34m\u001b[0m\u001b[0;34m\u001b[0m\u001b[0m\n\u001b[0;32m-> 3166\u001b[0;31m     \u001b[0moutputs\u001b[0m \u001b[0;34m=\u001b[0m \u001b[0mself\u001b[0m\u001b[0;34m.\u001b[0m\u001b[0m_graph_fn\u001b[0m\u001b[0;34m(\u001b[0m\u001b[0;34m*\u001b[0m\u001b[0mconverted_inputs\u001b[0m\u001b[0;34m)\u001b[0m\u001b[0;34m\u001b[0m\u001b[0;34m\u001b[0m\u001b[0m\n\u001b[0m\u001b[1;32m   3167\u001b[0m     return nest.pack_sequence_as(self._outputs_structure,\n\u001b[1;32m   3168\u001b[0m                                  [x.numpy() for x in outputs])\n",
            "\u001b[0;32m/usr/local/lib/python3.6/dist-packages/tensorflow/python/eager/function.py\u001b[0m in \u001b[0;36m__call__\u001b[0;34m(self, *args, **kwargs)\u001b[0m\n\u001b[1;32m    366\u001b[0m           \u001b[0;32mraise\u001b[0m \u001b[0mTypeError\u001b[0m\u001b[0;34m(\u001b[0m\u001b[0;34m\"Got two values for keyword '{}'.\"\u001b[0m\u001b[0;34m.\u001b[0m\u001b[0mformat\u001b[0m\u001b[0;34m(\u001b[0m\u001b[0munused_key\u001b[0m\u001b[0;34m)\u001b[0m\u001b[0;34m)\u001b[0m\u001b[0;34m\u001b[0m\u001b[0;34m\u001b[0m\u001b[0m\n\u001b[1;32m    367\u001b[0m       \u001b[0;32mraise\u001b[0m \u001b[0mTypeError\u001b[0m\u001b[0;34m(\u001b[0m\u001b[0;34m\"Keyword arguments {} unknown.\"\u001b[0m\u001b[0;34m.\u001b[0m\u001b[0mformat\u001b[0m\u001b[0;34m(\u001b[0m\u001b[0mkwargs\u001b[0m\u001b[0;34m.\u001b[0m\u001b[0mkeys\u001b[0m\u001b[0;34m(\u001b[0m\u001b[0;34m)\u001b[0m\u001b[0;34m)\u001b[0m\u001b[0;34m)\u001b[0m\u001b[0;34m\u001b[0m\u001b[0;34m\u001b[0m\u001b[0m\n\u001b[0;32m--> 368\u001b[0;31m     \u001b[0;32mreturn\u001b[0m \u001b[0mself\u001b[0m\u001b[0;34m.\u001b[0m\u001b[0m_call_flat\u001b[0m\u001b[0;34m(\u001b[0m\u001b[0margs\u001b[0m\u001b[0;34m)\u001b[0m\u001b[0;34m\u001b[0m\u001b[0;34m\u001b[0m\u001b[0m\n\u001b[0m\u001b[1;32m    369\u001b[0m \u001b[0;34m\u001b[0m\u001b[0m\n\u001b[1;32m    370\u001b[0m   \u001b[0;32mdef\u001b[0m \u001b[0m_filtered_call\u001b[0m\u001b[0;34m(\u001b[0m\u001b[0mself\u001b[0m\u001b[0;34m,\u001b[0m \u001b[0margs\u001b[0m\u001b[0;34m,\u001b[0m \u001b[0mkwargs\u001b[0m\u001b[0;34m)\u001b[0m\u001b[0;34m:\u001b[0m\u001b[0;34m\u001b[0m\u001b[0;34m\u001b[0m\u001b[0m\n",
            "\u001b[0;32m/usr/local/lib/python3.6/dist-packages/tensorflow/python/eager/function.py\u001b[0m in \u001b[0;36m_call_flat\u001b[0;34m(self, args)\u001b[0m\n\u001b[1;32m    431\u001b[0m     \u001b[0;31m# Only need to override the gradient in graph mode and when we have outputs.\u001b[0m\u001b[0;34m\u001b[0m\u001b[0;34m\u001b[0m\u001b[0;34m\u001b[0m\u001b[0m\n\u001b[1;32m    432\u001b[0m     \u001b[0;32mif\u001b[0m \u001b[0mcontext\u001b[0m\u001b[0;34m.\u001b[0m\u001b[0mexecuting_eagerly\u001b[0m\u001b[0;34m(\u001b[0m\u001b[0;34m)\u001b[0m \u001b[0;32mor\u001b[0m \u001b[0;32mnot\u001b[0m \u001b[0mself\u001b[0m\u001b[0;34m.\u001b[0m\u001b[0moutputs\u001b[0m\u001b[0;34m:\u001b[0m\u001b[0;34m\u001b[0m\u001b[0;34m\u001b[0m\u001b[0m\n\u001b[0;32m--> 433\u001b[0;31m       \u001b[0moutputs\u001b[0m \u001b[0;34m=\u001b[0m \u001b[0mself\u001b[0m\u001b[0;34m.\u001b[0m\u001b[0m_inference_function\u001b[0m\u001b[0;34m.\u001b[0m\u001b[0mcall\u001b[0m\u001b[0;34m(\u001b[0m\u001b[0mctx\u001b[0m\u001b[0;34m,\u001b[0m \u001b[0margs\u001b[0m\u001b[0;34m)\u001b[0m\u001b[0;34m\u001b[0m\u001b[0;34m\u001b[0m\u001b[0m\n\u001b[0m\u001b[1;32m    434\u001b[0m     \u001b[0;32melse\u001b[0m\u001b[0;34m:\u001b[0m\u001b[0;34m\u001b[0m\u001b[0;34m\u001b[0m\u001b[0m\n\u001b[1;32m    435\u001b[0m       \u001b[0;32mif\u001b[0m \u001b[0;32mnot\u001b[0m \u001b[0mself\u001b[0m\u001b[0;34m.\u001b[0m\u001b[0m_gradient_name\u001b[0m\u001b[0;34m:\u001b[0m\u001b[0;34m\u001b[0m\u001b[0;34m\u001b[0m\u001b[0m\n",
            "\u001b[0;32m/usr/local/lib/python3.6/dist-packages/tensorflow/python/eager/function.py\u001b[0m in \u001b[0;36mcall\u001b[0;34m(self, ctx, args)\u001b[0m\n\u001b[1;32m    267\u001b[0m           \u001b[0mexecuting_eagerly\u001b[0m\u001b[0;34m=\u001b[0m\u001b[0mexecuting_eagerly\u001b[0m\u001b[0;34m,\u001b[0m\u001b[0;34m\u001b[0m\u001b[0;34m\u001b[0m\u001b[0m\n\u001b[1;32m    268\u001b[0m           \u001b[0mconfig\u001b[0m\u001b[0;34m=\u001b[0m\u001b[0mfunction_call_options\u001b[0m\u001b[0;34m.\u001b[0m\u001b[0mconfig_proto_serialized\u001b[0m\u001b[0;34m,\u001b[0m\u001b[0;34m\u001b[0m\u001b[0;34m\u001b[0m\u001b[0m\n\u001b[0;32m--> 269\u001b[0;31m           executor_type=function_call_options.executor_type)\n\u001b[0m\u001b[1;32m    270\u001b[0m \u001b[0;34m\u001b[0m\u001b[0m\n\u001b[1;32m    271\u001b[0m     \u001b[0;32mif\u001b[0m \u001b[0mexecuting_eagerly\u001b[0m\u001b[0;34m:\u001b[0m\u001b[0;34m\u001b[0m\u001b[0;34m\u001b[0m\u001b[0m\n",
            "\u001b[0;32m/usr/local/lib/python3.6/dist-packages/tensorflow/python/ops/functional_ops.py\u001b[0m in \u001b[0;36mpartitioned_call\u001b[0;34m(args, f, tout, executing_eagerly, config, executor_type)\u001b[0m\n\u001b[1;32m   1081\u001b[0m       outputs = gen_functional_ops.stateful_partitioned_call(\n\u001b[1;32m   1082\u001b[0m           \u001b[0margs\u001b[0m\u001b[0;34m=\u001b[0m\u001b[0margs\u001b[0m\u001b[0;34m,\u001b[0m \u001b[0mTout\u001b[0m\u001b[0;34m=\u001b[0m\u001b[0mtout\u001b[0m\u001b[0;34m,\u001b[0m \u001b[0mf\u001b[0m\u001b[0;34m=\u001b[0m\u001b[0mf\u001b[0m\u001b[0;34m,\u001b[0m \u001b[0mconfig_proto\u001b[0m\u001b[0;34m=\u001b[0m\u001b[0mconfig\u001b[0m\u001b[0;34m,\u001b[0m\u001b[0;34m\u001b[0m\u001b[0;34m\u001b[0m\u001b[0m\n\u001b[0;32m-> 1083\u001b[0;31m           executor_type=executor_type)\n\u001b[0m\u001b[1;32m   1084\u001b[0m     \u001b[0;32melse\u001b[0m\u001b[0;34m:\u001b[0m\u001b[0;34m\u001b[0m\u001b[0;34m\u001b[0m\u001b[0m\n\u001b[1;32m   1085\u001b[0m       outputs = gen_functional_ops.partitioned_call(\n",
            "\u001b[0;32m/usr/local/lib/python3.6/dist-packages/tensorflow/python/ops/gen_functional_ops.py\u001b[0m in \u001b[0;36mstateful_partitioned_call\u001b[0;34m(args, Tout, f, config, config_proto, executor_type, name)\u001b[0m\n\u001b[1;32m    495\u001b[0m       \u001b[0;32melse\u001b[0m\u001b[0;34m:\u001b[0m\u001b[0;34m\u001b[0m\u001b[0;34m\u001b[0m\u001b[0m\n\u001b[1;32m    496\u001b[0m         \u001b[0mmessage\u001b[0m \u001b[0;34m=\u001b[0m \u001b[0me\u001b[0m\u001b[0;34m.\u001b[0m\u001b[0mmessage\u001b[0m\u001b[0;34m\u001b[0m\u001b[0;34m\u001b[0m\u001b[0m\n\u001b[0;32m--> 497\u001b[0;31m       \u001b[0m_six\u001b[0m\u001b[0;34m.\u001b[0m\u001b[0mraise_from\u001b[0m\u001b[0;34m(\u001b[0m\u001b[0m_core\u001b[0m\u001b[0;34m.\u001b[0m\u001b[0m_status_to_exception\u001b[0m\u001b[0;34m(\u001b[0m\u001b[0me\u001b[0m\u001b[0;34m.\u001b[0m\u001b[0mcode\u001b[0m\u001b[0;34m,\u001b[0m \u001b[0mmessage\u001b[0m\u001b[0;34m)\u001b[0m\u001b[0;34m,\u001b[0m \u001b[0;32mNone\u001b[0m\u001b[0;34m)\u001b[0m\u001b[0;34m\u001b[0m\u001b[0;34m\u001b[0m\u001b[0m\n\u001b[0m\u001b[1;32m    498\u001b[0m   \u001b[0;31m# Add nodes to the TensorFlow graph.\u001b[0m\u001b[0;34m\u001b[0m\u001b[0;34m\u001b[0m\u001b[0;34m\u001b[0m\u001b[0m\n\u001b[1;32m    499\u001b[0m   \u001b[0;32mif\u001b[0m \u001b[0;32mnot\u001b[0m \u001b[0misinstance\u001b[0m\u001b[0;34m(\u001b[0m\u001b[0mTout\u001b[0m\u001b[0;34m,\u001b[0m \u001b[0;34m(\u001b[0m\u001b[0mlist\u001b[0m\u001b[0;34m,\u001b[0m \u001b[0mtuple\u001b[0m\u001b[0;34m)\u001b[0m\u001b[0;34m)\u001b[0m\u001b[0;34m:\u001b[0m\u001b[0;34m\u001b[0m\u001b[0;34m\u001b[0m\u001b[0m\n",
            "\u001b[0;32m/usr/local/lib/python3.6/dist-packages/six.py\u001b[0m in \u001b[0;36mraise_from\u001b[0;34m(value, from_value)\u001b[0m\n",
            "\u001b[0;31mCancelledError\u001b[0m:  [Op:StatefulPartitionedCall]"
          ]
        }
      ]
    },
    {
      "cell_type": "code",
      "metadata": {
        "id": "TWByjrtsk68V",
        "colab_type": "code",
        "colab": {}
      },
      "source": [
        ""
      ],
      "execution_count": 0,
      "outputs": []
    }
  ]
}